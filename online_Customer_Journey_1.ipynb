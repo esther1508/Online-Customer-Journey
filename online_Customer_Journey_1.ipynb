{
 "cells": [
  {
   "cell_type": "code",
   "execution_count": 1,
   "metadata": {},
   "outputs": [],
   "source": [
    "import pandas as pd\n",
    "import numpy as np\n",
    "import warnings\n",
    "warnings.filterwarnings('ignore')\n",
    "import matplotlib.pyplot as plt"
   ]
  },
  {
   "cell_type": "markdown",
   "metadata": {},
   "source": [
    "# Cleaning dataset TravelData"
   ]
  },
  {
   "cell_type": "code",
   "execution_count": 2,
   "metadata": {},
   "outputs": [],
   "source": [
    "df1=pd.read_csv(\"C:\\\\Users\\\\LILLY GRACE\\\\Downloads\\\\Data Purchase Journey Travel\\\\TravelData.csv\")"
   ]
  },
  {
   "cell_type": "code",
   "execution_count": 3,
   "metadata": {
    "scrolled": false
   },
   "outputs": [
    {
     "data": {
      "text/html": [
       "<div>\n",
       "<style scoped>\n",
       "    .dataframe tbody tr th:only-of-type {\n",
       "        vertical-align: middle;\n",
       "    }\n",
       "\n",
       "    .dataframe tbody tr th {\n",
       "        vertical-align: top;\n",
       "    }\n",
       "\n",
       "    .dataframe thead th {\n",
       "        text-align: right;\n",
       "    }\n",
       "</style>\n",
       "<table border=\"1\" class=\"dataframe\">\n",
       "  <thead>\n",
       "    <tr style=\"text-align: right;\">\n",
       "      <th></th>\n",
       "      <th>UserID</th>\n",
       "      <th>PurchaseID</th>\n",
       "      <th>TIMESPSS</th>\n",
       "      <th>Duration</th>\n",
       "      <th>DEVICE_TYPE</th>\n",
       "      <th>type_touch</th>\n",
       "      <th>purchase_own</th>\n",
       "      <th>purchase_any</th>\n",
       "      <th>MobilePanel</th>\n",
       "      <th>FixedPanel</th>\n",
       "    </tr>\n",
       "  </thead>\n",
       "  <tbody>\n",
       "    <tr>\n",
       "      <th>0</th>\n",
       "      <td>9558</td>\n",
       "      <td>1</td>\n",
       "      <td>2016-03-12 22:18:34</td>\n",
       "      <td>5.786</td>\n",
       "      <td>MOBILE</td>\n",
       "      <td>7</td>\n",
       "      <td>0</td>\n",
       "      <td>0</td>\n",
       "      <td>0</td>\n",
       "      <td>0</td>\n",
       "    </tr>\n",
       "    <tr>\n",
       "      <th>1</th>\n",
       "      <td>9558</td>\n",
       "      <td>1</td>\n",
       "      <td>2016-03-13 05:25:49</td>\n",
       "      <td>65.725</td>\n",
       "      <td>MOBILE</td>\n",
       "      <td>7</td>\n",
       "      <td>0</td>\n",
       "      <td>0</td>\n",
       "      <td>0</td>\n",
       "      <td>0</td>\n",
       "    </tr>\n",
       "    <tr>\n",
       "      <th>2</th>\n",
       "      <td>9558</td>\n",
       "      <td>1</td>\n",
       "      <td>2016-03-13 12:26:21</td>\n",
       "      <td>6.492</td>\n",
       "      <td>MOBILE</td>\n",
       "      <td>7</td>\n",
       "      <td>0</td>\n",
       "      <td>0</td>\n",
       "      <td>0</td>\n",
       "      <td>0</td>\n",
       "    </tr>\n",
       "    <tr>\n",
       "      <th>3</th>\n",
       "      <td>9657</td>\n",
       "      <td>2</td>\n",
       "      <td>2015-07-18 13:00:38</td>\n",
       "      <td>57.000</td>\n",
       "      <td>FIXED</td>\n",
       "      <td>4</td>\n",
       "      <td>0</td>\n",
       "      <td>0</td>\n",
       "      <td>0</td>\n",
       "      <td>0</td>\n",
       "    </tr>\n",
       "    <tr>\n",
       "      <th>4</th>\n",
       "      <td>1</td>\n",
       "      <td>3</td>\n",
       "      <td>2015-08-07 19:16:59</td>\n",
       "      <td>120.000</td>\n",
       "      <td>FIXED</td>\n",
       "      <td>7</td>\n",
       "      <td>0</td>\n",
       "      <td>0</td>\n",
       "      <td>0</td>\n",
       "      <td>17</td>\n",
       "    </tr>\n",
       "  </tbody>\n",
       "</table>\n",
       "</div>"
      ],
      "text/plain": [
       "   UserID  PurchaseID             TIMESPSS  Duration DEVICE_TYPE  type_touch  \\\n",
       "0    9558           1  2016-03-12 22:18:34     5.786      MOBILE           7   \n",
       "1    9558           1  2016-03-13 05:25:49    65.725      MOBILE           7   \n",
       "2    9558           1  2016-03-13 12:26:21     6.492      MOBILE           7   \n",
       "3    9657           2  2015-07-18 13:00:38    57.000       FIXED           4   \n",
       "4       1           3  2015-08-07 19:16:59   120.000       FIXED           7   \n",
       "\n",
       "   purchase_own  purchase_any  MobilePanel  FixedPanel  \n",
       "0             0             0            0           0  \n",
       "1             0             0            0           0  \n",
       "2             0             0            0           0  \n",
       "3             0             0            0           0  \n",
       "4             0             0            0          17  "
      ]
     },
     "execution_count": 3,
     "metadata": {},
     "output_type": "execute_result"
    }
   ],
   "source": [
    "df1.head()"
   ]
  },
  {
   "cell_type": "code",
   "execution_count": 4,
   "metadata": {},
   "outputs": [
    {
     "data": {
      "text/plain": [
       "(2456414, 10)"
      ]
     },
     "execution_count": 4,
     "metadata": {},
     "output_type": "execute_result"
    }
   ],
   "source": [
    "df1.shape"
   ]
  },
  {
   "cell_type": "code",
   "execution_count": 5,
   "metadata": {
    "scrolled": true
   },
   "outputs": [
    {
     "data": {
      "text/plain": [
       "UserID          0.000000\n",
       "PurchaseID      0.000000\n",
       "TIMESPSS        0.000000\n",
       "Duration        0.057427\n",
       "DEVICE_TYPE     0.000000\n",
       "type_touch      0.000000\n",
       "purchase_own    0.000000\n",
       "purchase_any    0.000000\n",
       "MobilePanel     0.000000\n",
       "FixedPanel      0.000000\n",
       "dtype: float64"
      ]
     },
     "execution_count": 5,
     "metadata": {},
     "output_type": "execute_result"
    }
   ],
   "source": [
    "df1.isnull().sum()/df1.shape[0]"
   ]
  },
  {
   "cell_type": "code",
   "execution_count": 6,
   "metadata": {},
   "outputs": [],
   "source": [
    "df1['Duration'].fillna(0,inplace=True)"
   ]
  },
  {
   "cell_type": "code",
   "execution_count": 7,
   "metadata": {
    "scrolled": false
   },
   "outputs": [
    {
     "data": {
      "text/plain": [
       "UserID            int64\n",
       "PurchaseID        int64\n",
       "TIMESPSS         object\n",
       "Duration        float64\n",
       "DEVICE_TYPE      object\n",
       "type_touch        int64\n",
       "purchase_own      int64\n",
       "purchase_any      int64\n",
       "MobilePanel       int64\n",
       "FixedPanel        int64\n",
       "dtype: object"
      ]
     },
     "execution_count": 7,
     "metadata": {},
     "output_type": "execute_result"
    }
   ],
   "source": [
    "df1.dtypes"
   ]
  },
  {
   "cell_type": "code",
   "execution_count": 8,
   "metadata": {},
   "outputs": [],
   "source": [
    "df1['TIMESPSS']=pd.to_datetime(df1['TIMESPSS'])"
   ]
  },
  {
   "cell_type": "code",
   "execution_count": 9,
   "metadata": {},
   "outputs": [],
   "source": [
    "y=['UserID','PurchaseID','type_touch']"
   ]
  },
  {
   "cell_type": "code",
   "execution_count": 10,
   "metadata": {},
   "outputs": [],
   "source": [
    "for i in y:\n",
    "    df1[i]=df1[i].astype(str)"
   ]
  },
  {
   "cell_type": "code",
   "execution_count": 11,
   "metadata": {},
   "outputs": [
    {
     "data": {
      "text/plain": [
       "(81103, 10)"
      ]
     },
     "execution_count": 11,
     "metadata": {},
     "output_type": "execute_result"
    }
   ],
   "source": [
    "d=df1[(df1['purchase_own']==1) & (df1['purchase_any']==1)]\n",
    "d.shape"
   ]
  },
  {
   "cell_type": "code",
   "execution_count": 12,
   "metadata": {},
   "outputs": [
    {
     "data": {
      "text/plain": [
       "0    1607065\n",
       "2     768246\n",
       "1      81103\n",
       "Name: purchase_own, dtype: int64"
      ]
     },
     "execution_count": 12,
     "metadata": {},
     "output_type": "execute_result"
    }
   ],
   "source": [
    "df1['purchase_own']=np.where(  ((df1['purchase_own']==0) & (df1['purchase_any']==1) ), 2, df1['purchase_own'])\n",
    "df1['purchase_own'].value_counts()"
   ]
  },
  {
   "cell_type": "markdown",
   "metadata": {},
   "source": [
    "0 - 0 -  [0]customer own touchpoint purchase has hapended \\\n",
    "1 - 1 -  [2] firm's touchpoint purchase has happened from where customer started journey \\\n",
    "0 - 1 -  [3] competitor firm's website purchase has happened"
   ]
  },
  {
   "cell_type": "code",
   "execution_count": 13,
   "metadata": {
    "scrolled": true
   },
   "outputs": [
    {
     "data": {
      "text/plain": [
       "0    0.654232\n",
       "3    0.312751\n",
       "2    0.033017\n",
       "Name: purchase_status, dtype: float64"
      ]
     },
     "execution_count": 13,
     "metadata": {},
     "output_type": "execute_result"
    }
   ],
   "source": [
    "df1['purchase_status']=df1['purchase_own']+df1['purchase_any']\n",
    "df1['purchase_status'].value_counts(normalize=True)"
   ]
  },
  {
   "cell_type": "code",
   "execution_count": 14,
   "metadata": {},
   "outputs": [],
   "source": [
    "#combined 3 and 2 becoz 2 category is too less"
   ]
  },
  {
   "cell_type": "code",
   "execution_count": 15,
   "metadata": {},
   "outputs": [],
   "source": [
    "df1['purchase_status']=np.where(  ((df1['purchase_status']==3) | (df1['purchase_status']==2)) ,1,df1['purchase_status'])"
   ]
  },
  {
   "cell_type": "code",
   "execution_count": 16,
   "metadata": {},
   "outputs": [
    {
     "data": {
      "text/plain": [
       "0    0.654232\n",
       "1    0.345768\n",
       "Name: purchase_status, dtype: float64"
      ]
     },
     "execution_count": 16,
     "metadata": {},
     "output_type": "execute_result"
    }
   ],
   "source": [
    "df1['purchase_status'].value_counts(normalize=True)"
   ]
  },
  {
   "cell_type": "code",
   "execution_count": 17,
   "metadata": {
    "scrolled": false
   },
   "outputs": [
    {
     "data": {
      "text/plain": [
       "17    0.451880\n",
       "16    0.105131\n",
       "0     0.090458\n",
       "12    0.068587\n",
       "15    0.043516\n",
       "14    0.035779\n",
       "13    0.034609\n",
       "11    0.031750\n",
       "9     0.027127\n",
       "10    0.023371\n",
       "8     0.019596\n",
       "7     0.011928\n",
       "5     0.011241\n",
       "6     0.011072\n",
       "4     0.009529\n",
       "3     0.009293\n",
       "2     0.007991\n",
       "1     0.007140\n",
       "Name: FixedPanel, dtype: float64"
      ]
     },
     "execution_count": 17,
     "metadata": {},
     "output_type": "execute_result"
    }
   ],
   "source": [
    "df1['FixedPanel'].value_counts(normalize=True)"
   ]
  },
  {
   "cell_type": "code",
   "execution_count": 18,
   "metadata": {
    "scrolled": true
   },
   "outputs": [
    {
     "data": {
      "text/plain": [
       "0     0.650906\n",
       "17    0.200884\n",
       "16    0.049194\n",
       "15    0.011040\n",
       "11    0.010405\n",
       "9     0.009545\n",
       "1     0.009283\n",
       "12    0.007971\n",
       "14    0.007941\n",
       "10    0.007871\n",
       "4     0.007007\n",
       "13    0.005064\n",
       "8     0.004998\n",
       "6     0.004774\n",
       "2     0.004264\n",
       "7     0.003724\n",
       "3     0.002767\n",
       "5     0.002363\n",
       "Name: MobilePanel, dtype: float64"
      ]
     },
     "execution_count": 18,
     "metadata": {},
     "output_type": "execute_result"
    }
   ],
   "source": [
    "df1['MobilePanel'].value_counts(normalize=True)"
   ]
  },
  {
   "cell_type": "code",
   "execution_count": 19,
   "metadata": {},
   "outputs": [],
   "source": [
    "df1['MobilePanel']=np.where(  ((df1['MobilePanel']>=0) & (df1['MobilePanel']<11)) ,18,df1['MobilePanel'])\n",
    "df1['MobilePanel']=np.where(  ((df1['MobilePanel']>=12) & (df1['MobilePanel']<15)) ,19,df1['MobilePanel'])\n",
    "df1['MobilePanel']=np.where(  ((df1['MobilePanel']==11) & (df1['MobilePanel']==15) &(df1['MobilePanel']==16) ) ,20,df1['MobilePanel'])"
   ]
  },
  {
   "cell_type": "code",
   "execution_count": 20,
   "metadata": {},
   "outputs": [
    {
     "data": {
      "text/plain": [
       "18    1737916\n",
       "17     493454\n",
       "16     120841\n",
       "19      51525\n",
       "15      27119\n",
       "11      25559\n",
       "Name: MobilePanel, dtype: int64"
      ]
     },
     "execution_count": 20,
     "metadata": {},
     "output_type": "execute_result"
    }
   ],
   "source": [
    "df1['MobilePanel'].value_counts()"
   ]
  },
  {
   "cell_type": "code",
   "execution_count": 21,
   "metadata": {},
   "outputs": [],
   "source": [
    "df1['FixedPanel']=np.where(  ((df1['FixedPanel']>=1) & (df1['FixedPanel']<5)) ,0,df1['FixedPanel'])\n",
    "df1['FixedPanel']=np.where(  ((df1['FixedPanel']>=5) & (df1['FixedPanel']<8)) ,1,df1['FixedPanel'])\n",
    "df1['FixedPanel']=np.where(  ((df1['FixedPanel']>=8) & (df1['FixedPanel']<11)) ,2,df1['FixedPanel'])\n",
    "df1['FixedPanel']=np.where(  ((df1['FixedPanel']>=11) & (df1['FixedPanel']<17)) ,3,df1['FixedPanel'])"
   ]
  },
  {
   "cell_type": "code",
   "execution_count": 22,
   "metadata": {
    "scrolled": true
   },
   "outputs": [
    {
     "data": {
      "text/plain": [
       "17    1110004\n",
       "3      784511\n",
       "0      305606\n",
       "2      172183\n",
       "1       84110\n",
       "Name: FixedPanel, dtype: int64"
      ]
     },
     "execution_count": 22,
     "metadata": {},
     "output_type": "execute_result"
    }
   ],
   "source": [
    "df1['FixedPanel'].value_counts()"
   ]
  },
  {
   "cell_type": "code",
   "execution_count": 23,
   "metadata": {},
   "outputs": [],
   "source": [
    "df1['FixedPanel']=df1['FixedPanel'].astype(str)\n",
    "df1['MobilePanel']=df1['MobilePanel'].astype(str)"
   ]
  },
  {
   "cell_type": "code",
   "execution_count": 24,
   "metadata": {
    "scrolled": true
   },
   "outputs": [
    {
     "data": {
      "text/plain": [
       "(array([1737916.,       0.,  493454.,       0.,  120841.,       0.,\n",
       "          51525.,       0.,   27119.,   25559.]),\n",
       " array([0. , 0.5, 1. , 1.5, 2. , 2.5, 3. , 3.5, 4. , 4.5, 5. ]),\n",
       " <a list of 10 Patch objects>)"
      ]
     },
     "execution_count": 24,
     "metadata": {},
     "output_type": "execute_result"
    },
    {
     "data": {
      "image/png": "[encoded data removed]",
      "text/plain": [
       "<Figure size 432x288 with 1 Axes>"
      ]
     },
     "metadata": {
      "needs_background": "light"
     },
     "output_type": "display_data"
    }
   ],
   "source": [
    "plt.hist(df1['MobilePanel'])"
   ]
  },
  {
   "cell_type": "code",
   "execution_count": 25,
   "metadata": {},
   "outputs": [
    {
     "data": {
      "text/plain": [
       "(2456414, 11)"
      ]
     },
     "execution_count": 25,
     "metadata": {},
     "output_type": "execute_result"
    }
   ],
   "source": [
    "df1.shape"
   ]
  },
  {
   "cell_type": "code",
   "execution_count": 26,
   "metadata": {
    "scrolled": true
   },
   "outputs": [],
   "source": [
    "df1.drop(['purchase_own','purchase_any'],axis=1,inplace=True)"
   ]
  },
  {
   "cell_type": "code",
   "execution_count": 27,
   "metadata": {},
   "outputs": [
    {
     "data": {
      "text/plain": [
       "(2456414, 9)"
      ]
     },
     "execution_count": 27,
     "metadata": {},
     "output_type": "execute_result"
    }
   ],
   "source": [
    "df1.shape"
   ]
  },
  {
   "cell_type": "code",
   "execution_count": 28,
   "metadata": {},
   "outputs": [
    {
     "data": {
      "text/plain": [
       "UserID                     object\n",
       "PurchaseID                 object\n",
       "TIMESPSS           datetime64[ns]\n",
       "Duration                  float64\n",
       "DEVICE_TYPE                object\n",
       "type_touch                 object\n",
       "MobilePanel                object\n",
       "FixedPanel                 object\n",
       "purchase_status             int64\n",
       "dtype: object"
      ]
     },
     "execution_count": 28,
     "metadata": {},
     "output_type": "execute_result"
    }
   ],
   "source": [
    "df1.dtypes"
   ]
  },
  {
   "cell_type": "code",
   "execution_count": 29,
   "metadata": {},
   "outputs": [],
   "source": [
    "df0=df1.drop_duplicates(subset='PurchaseID',keep='last').reset_index().drop(\"index\",axis=1)"
   ]
  },
  {
   "cell_type": "code",
   "execution_count": 30,
   "metadata": {},
   "outputs": [
    {
     "data": {
      "text/html": [
       "<div>\n",
       "<style scoped>\n",
       "    .dataframe tbody tr th:only-of-type {\n",
       "        vertical-align: middle;\n",
       "    }\n",
       "\n",
       "    .dataframe tbody tr th {\n",
       "        vertical-align: top;\n",
       "    }\n",
       "\n",
       "    .dataframe thead th {\n",
       "        text-align: right;\n",
       "    }\n",
       "</style>\n",
       "<table border=\"1\" class=\"dataframe\">\n",
       "  <thead>\n",
       "    <tr style=\"text-align: right;\">\n",
       "      <th></th>\n",
       "      <th>UserID</th>\n",
       "      <th>PurchaseID</th>\n",
       "      <th>TIMESPSS</th>\n",
       "      <th>Duration</th>\n",
       "      <th>DEVICE_TYPE</th>\n",
       "      <th>type_touch</th>\n",
       "      <th>MobilePanel</th>\n",
       "      <th>FixedPanel</th>\n",
       "      <th>purchase_status</th>\n",
       "    </tr>\n",
       "  </thead>\n",
       "  <tbody>\n",
       "    <tr>\n",
       "      <th>0</th>\n",
       "      <td>9558</td>\n",
       "      <td>1</td>\n",
       "      <td>2016-03-13 12:26:21</td>\n",
       "      <td>6.492</td>\n",
       "      <td>MOBILE</td>\n",
       "      <td>7</td>\n",
       "      <td>18</td>\n",
       "      <td>0</td>\n",
       "      <td>0</td>\n",
       "    </tr>\n",
       "    <tr>\n",
       "      <th>1</th>\n",
       "      <td>9657</td>\n",
       "      <td>2</td>\n",
       "      <td>2015-07-18 13:00:38</td>\n",
       "      <td>57.000</td>\n",
       "      <td>FIXED</td>\n",
       "      <td>4</td>\n",
       "      <td>18</td>\n",
       "      <td>0</td>\n",
       "      <td>0</td>\n",
       "    </tr>\n",
       "    <tr>\n",
       "      <th>2</th>\n",
       "      <td>1</td>\n",
       "      <td>3</td>\n",
       "      <td>2015-08-07 19:16:59</td>\n",
       "      <td>120.000</td>\n",
       "      <td>FIXED</td>\n",
       "      <td>7</td>\n",
       "      <td>18</td>\n",
       "      <td>17</td>\n",
       "      <td>0</td>\n",
       "    </tr>\n",
       "    <tr>\n",
       "      <th>3</th>\n",
       "      <td>1</td>\n",
       "      <td>4</td>\n",
       "      <td>2015-11-24 22:30:44</td>\n",
       "      <td>216.000</td>\n",
       "      <td>FIXED</td>\n",
       "      <td>1</td>\n",
       "      <td>18</td>\n",
       "      <td>17</td>\n",
       "      <td>0</td>\n",
       "    </tr>\n",
       "    <tr>\n",
       "      <th>4</th>\n",
       "      <td>1</td>\n",
       "      <td>5</td>\n",
       "      <td>2016-06-15 15:48:20</td>\n",
       "      <td>155.262</td>\n",
       "      <td>FIXED</td>\n",
       "      <td>7</td>\n",
       "      <td>18</td>\n",
       "      <td>17</td>\n",
       "      <td>0</td>\n",
       "    </tr>\n",
       "  </tbody>\n",
       "</table>\n",
       "</div>"
      ],
      "text/plain": [
       "  UserID PurchaseID            TIMESPSS  Duration DEVICE_TYPE type_touch  \\\n",
       "0   9558          1 2016-03-13 12:26:21     6.492      MOBILE          7   \n",
       "1   9657          2 2015-07-18 13:00:38    57.000       FIXED          4   \n",
       "2      1          3 2015-08-07 19:16:59   120.000       FIXED          7   \n",
       "3      1          4 2015-11-24 22:30:44   216.000       FIXED          1   \n",
       "4      1          5 2016-06-15 15:48:20   155.262       FIXED          7   \n",
       "\n",
       "  MobilePanel FixedPanel  purchase_status  \n",
       "0          18          0                0  \n",
       "1          18          0                0  \n",
       "2          18         17                0  \n",
       "3          18         17                0  \n",
       "4          18         17                0  "
      ]
     },
     "execution_count": 30,
     "metadata": {},
     "output_type": "execute_result"
    }
   ],
   "source": [
    "df0.head()"
   ]
  },
  {
   "cell_type": "markdown",
   "metadata": {},
   "source": [
    "# Cleaning dataset TravelDataDemos"
   ]
  },
  {
   "cell_type": "code",
   "execution_count": 31,
   "metadata": {},
   "outputs": [],
   "source": [
    "df2=pd.read_csv(\"C:\\\\Users\\\\LILLY GRACE\\\\Downloads\\\\Data Purchase Journey Travel\\\\TravelDataDemos.csv\",na_values=['nan'])"
   ]
  },
  {
   "cell_type": "code",
   "execution_count": 32,
   "metadata": {},
   "outputs": [],
   "source": [
    "df2['Age'].fillna(df2['Age'].mean(),inplace=True)\n"
   ]
  },
  {
   "cell_type": "code",
   "execution_count": 33,
   "metadata": {},
   "outputs": [
    {
     "data": {
      "text/html": [
       "<div>\n",
       "<style scoped>\n",
       "    .dataframe tbody tr th:only-of-type {\n",
       "        vertical-align: middle;\n",
       "    }\n",
       "\n",
       "    .dataframe tbody tr th {\n",
       "        vertical-align: top;\n",
       "    }\n",
       "\n",
       "    .dataframe thead th {\n",
       "        text-align: right;\n",
       "    }\n",
       "</style>\n",
       "<table border=\"1\" class=\"dataframe\">\n",
       "  <thead>\n",
       "    <tr style=\"text-align: right;\">\n",
       "      <th></th>\n",
       "      <th>UserID</th>\n",
       "      <th>SPSS_Regio5</th>\n",
       "      <th>RESP_GEM_GROOTTE</th>\n",
       "      <th>BAS_huishoudgrootte</th>\n",
       "      <th>GenderID</th>\n",
       "      <th>Age</th>\n",
       "      <th>BAS_werkzaamheid_resp</th>\n",
       "      <th>BAS_bruto_jaarinkomen</th>\n",
       "      <th>afg_kinderen_huishouden</th>\n",
       "      <th>AFG_sk2015</th>\n",
       "      <th>BAS_voltooide_opleiding8_resp</th>\n",
       "      <th>SPSS_Lifestage</th>\n",
       "    </tr>\n",
       "  </thead>\n",
       "  <tbody>\n",
       "    <tr>\n",
       "      <th>0</th>\n",
       "      <td>9558</td>\n",
       "      <td>NaN</td>\n",
       "      <td>NaN</td>\n",
       "      <td>NaN</td>\n",
       "      <td>NaN</td>\n",
       "      <td>51.998762</td>\n",
       "      <td>NaN</td>\n",
       "      <td>NaN</td>\n",
       "      <td>NaN</td>\n",
       "      <td>NaN</td>\n",
       "      <td>NaN</td>\n",
       "      <td>NaN</td>\n",
       "    </tr>\n",
       "    <tr>\n",
       "      <th>1</th>\n",
       "      <td>9657</td>\n",
       "      <td>NaN</td>\n",
       "      <td>NaN</td>\n",
       "      <td>NaN</td>\n",
       "      <td>NaN</td>\n",
       "      <td>51.998762</td>\n",
       "      <td>NaN</td>\n",
       "      <td>NaN</td>\n",
       "      <td>NaN</td>\n",
       "      <td>NaN</td>\n",
       "      <td>NaN</td>\n",
       "      <td>NaN</td>\n",
       "    </tr>\n",
       "    <tr>\n",
       "      <th>2</th>\n",
       "      <td>1</td>\n",
       "      <td>5.0</td>\n",
       "      <td>6.0</td>\n",
       "      <td>1.0</td>\n",
       "      <td>1.0</td>\n",
       "      <td>59.000000</td>\n",
       "      <td>2.0</td>\n",
       "      <td>2.0</td>\n",
       "      <td>0.0</td>\n",
       "      <td>5.0</td>\n",
       "      <td>2.0</td>\n",
       "      <td>2.0</td>\n",
       "    </tr>\n",
       "    <tr>\n",
       "      <th>3</th>\n",
       "      <td>2</td>\n",
       "      <td>3.0</td>\n",
       "      <td>3.0</td>\n",
       "      <td>2.0</td>\n",
       "      <td>2.0</td>\n",
       "      <td>47.000000</td>\n",
       "      <td>2.0</td>\n",
       "      <td>7.0</td>\n",
       "      <td>0.0</td>\n",
       "      <td>2.0</td>\n",
       "      <td>6.0</td>\n",
       "      <td>4.0</td>\n",
       "    </tr>\n",
       "    <tr>\n",
       "      <th>4</th>\n",
       "      <td>3</td>\n",
       "      <td>NaN</td>\n",
       "      <td>NaN</td>\n",
       "      <td>NaN</td>\n",
       "      <td>NaN</td>\n",
       "      <td>51.998762</td>\n",
       "      <td>NaN</td>\n",
       "      <td>NaN</td>\n",
       "      <td>NaN</td>\n",
       "      <td>NaN</td>\n",
       "      <td>NaN</td>\n",
       "      <td>NaN</td>\n",
       "    </tr>\n",
       "  </tbody>\n",
       "</table>\n",
       "</div>"
      ],
      "text/plain": [
       "   UserID  SPSS_Regio5  RESP_GEM_GROOTTE  BAS_huishoudgrootte  GenderID  \\\n",
       "0    9558          NaN               NaN                  NaN       NaN   \n",
       "1    9657          NaN               NaN                  NaN       NaN   \n",
       "2       1          5.0               6.0                  1.0       1.0   \n",
       "3       2          3.0               3.0                  2.0       2.0   \n",
       "4       3          NaN               NaN                  NaN       NaN   \n",
       "\n",
       "         Age  BAS_werkzaamheid_resp  BAS_bruto_jaarinkomen  \\\n",
       "0  51.998762                    NaN                    NaN   \n",
       "1  51.998762                    NaN                    NaN   \n",
       "2  59.000000                    2.0                    2.0   \n",
       "3  47.000000                    2.0                    7.0   \n",
       "4  51.998762                    NaN                    NaN   \n",
       "\n",
       "   afg_kinderen_huishouden  AFG_sk2015  BAS_voltooide_opleiding8_resp  \\\n",
       "0                      NaN         NaN                            NaN   \n",
       "1                      NaN         NaN                            NaN   \n",
       "2                      0.0         5.0                            2.0   \n",
       "3                      0.0         2.0                            6.0   \n",
       "4                      NaN         NaN                            NaN   \n",
       "\n",
       "   SPSS_Lifestage  \n",
       "0             NaN  \n",
       "1             NaN  \n",
       "2             2.0  \n",
       "3             4.0  \n",
       "4             NaN  "
      ]
     },
     "execution_count": 33,
     "metadata": {},
     "output_type": "execute_result"
    }
   ],
   "source": [
    "df2.head()"
   ]
  },
  {
   "cell_type": "code",
   "execution_count": 34,
   "metadata": {},
   "outputs": [
    {
     "data": {
      "text/plain": [
       "array([nan,  1.,  2.])"
      ]
     },
     "execution_count": 34,
     "metadata": {},
     "output_type": "execute_result"
    }
   ],
   "source": [
    "df2['GenderID'].unique()"
   ]
  },
  {
   "cell_type": "code",
   "execution_count": 35,
   "metadata": {
    "scrolled": false
   },
   "outputs": [
    {
     "data": {
      "text/plain": [
       "UserID                           0.000000\n",
       "SPSS_Regio5                      0.165633\n",
       "RESP_GEM_GROOTTE                 0.165633\n",
       "BAS_huishoudgrootte              0.165633\n",
       "GenderID                         0.165633\n",
       "Age                              0.000000\n",
       "BAS_werkzaamheid_resp            0.165633\n",
       "BAS_bruto_jaarinkomen            0.165633\n",
       "afg_kinderen_huishouden          0.165633\n",
       "AFG_sk2015                       0.165633\n",
       "BAS_voltooide_opleiding8_resp    0.209857\n",
       "SPSS_Lifestage                   0.165633\n",
       "dtype: float64"
      ]
     },
     "execution_count": 35,
     "metadata": {},
     "output_type": "execute_result"
    }
   ],
   "source": [
    "df2.isnull().sum()/df2.shape[0]"
   ]
  },
  {
   "cell_type": "code",
   "execution_count": 36,
   "metadata": {
    "scrolled": false
   },
   "outputs": [
    {
     "data": {
      "text/plain": [
       "UserID                             int64\n",
       "SPSS_Regio5                      float64\n",
       "RESP_GEM_GROOTTE                 float64\n",
       "BAS_huishoudgrootte              float64\n",
       "GenderID                         float64\n",
       "Age                              float64\n",
       "BAS_werkzaamheid_resp            float64\n",
       "BAS_bruto_jaarinkomen            float64\n",
       "afg_kinderen_huishouden          float64\n",
       "AFG_sk2015                       float64\n",
       "BAS_voltooide_opleiding8_resp    float64\n",
       "SPSS_Lifestage                   float64\n",
       "dtype: object"
      ]
     },
     "execution_count": 36,
     "metadata": {},
     "output_type": "execute_result"
    }
   ],
   "source": [
    "df2.dtypes"
   ]
  },
  {
   "cell_type": "code",
   "execution_count": 37,
   "metadata": {},
   "outputs": [],
   "source": [
    "# !pip install missingno"
   ]
  },
  {
   "cell_type": "code",
   "execution_count": 38,
   "metadata": {},
   "outputs": [
    {
     "data": {
      "text/plain": [
       "<matplotlib.axes._subplots.AxesSubplot at 0x26e9bc56488>"
      ]
     },
     "execution_count": 38,
     "metadata": {},
     "output_type": "execute_result"
    },
    {
     "data": {
      "image/png": "[encoded data removed]",
      "text/plain": [
       "<Figure size 1800x720 with 2 Axes>"
      ]
     },
     "metadata": {
      "needs_background": "light"
     },
     "output_type": "display_data"
    }
   ],
   "source": [
    "import missingno as msno  \n",
    "msno.matrix(df2) "
   ]
  },
  {
   "cell_type": "code",
   "execution_count": 39,
   "metadata": {
    "scrolled": true
   },
   "outputs": [
    {
     "data": {
      "text/plain": [
       "UserID                             int64\n",
       "SPSS_Regio5                      float64\n",
       "RESP_GEM_GROOTTE                 float64\n",
       "BAS_huishoudgrootte              float64\n",
       "GenderID                         float64\n",
       "Age                              float64\n",
       "BAS_werkzaamheid_resp            float64\n",
       "BAS_bruto_jaarinkomen            float64\n",
       "afg_kinderen_huishouden          float64\n",
       "AFG_sk2015                       float64\n",
       "BAS_voltooide_opleiding8_resp    float64\n",
       "SPSS_Lifestage                   float64\n",
       "dtype: object"
      ]
     },
     "execution_count": 39,
     "metadata": {},
     "output_type": "execute_result"
    }
   ],
   "source": [
    "df2.dtypes"
   ]
  },
  {
   "cell_type": "code",
   "execution_count": 40,
   "metadata": {},
   "outputs": [],
   "source": [
    "df2['GenderID']=np.where( df2['GenderID']==1, 0, 1)"
   ]
  },
  {
   "cell_type": "code",
   "execution_count": 41,
   "metadata": {},
   "outputs": [
    {
     "data": {
      "text/plain": [
       "UserID                             int64\n",
       "SPSS_Regio5                      float64\n",
       "RESP_GEM_GROOTTE                 float64\n",
       "BAS_huishoudgrootte              float64\n",
       "GenderID                           int32\n",
       "Age                              float64\n",
       "BAS_werkzaamheid_resp            float64\n",
       "BAS_bruto_jaarinkomen            float64\n",
       "afg_kinderen_huishouden          float64\n",
       "AFG_sk2015                       float64\n",
       "BAS_voltooide_opleiding8_resp    float64\n",
       "SPSS_Lifestage                   float64\n",
       "dtype: object"
      ]
     },
     "execution_count": 41,
     "metadata": {},
     "output_type": "execute_result"
    }
   ],
   "source": [
    "df2.dtypes"
   ]
  },
  {
   "cell_type": "code",
   "execution_count": 42,
   "metadata": {},
   "outputs": [],
   "source": [
    "for c in list(df2.select_dtypes(include=['O']).columns):\n",
    "    df2[c].fillna(df2[c].value_counts().index[0],inplace=True)  "
   ]
  },
  {
   "cell_type": "code",
   "execution_count": 43,
   "metadata": {},
   "outputs": [],
   "source": [
    "for c in list(df2.select_dtypes(exclude=['O']).columns):\n",
    "    df2[c].fillna(df2[c].mean(),inplace=True)"
   ]
  },
  {
   "cell_type": "code",
   "execution_count": 44,
   "metadata": {
    "scrolled": false
   },
   "outputs": [
    {
     "data": {
      "text/plain": [
       "UserID                           0.0\n",
       "SPSS_Regio5                      0.0\n",
       "RESP_GEM_GROOTTE                 0.0\n",
       "BAS_huishoudgrootte              0.0\n",
       "GenderID                         0.0\n",
       "Age                              0.0\n",
       "BAS_werkzaamheid_resp            0.0\n",
       "BAS_bruto_jaarinkomen            0.0\n",
       "afg_kinderen_huishouden          0.0\n",
       "AFG_sk2015                       0.0\n",
       "BAS_voltooide_opleiding8_resp    0.0\n",
       "SPSS_Lifestage                   0.0\n",
       "dtype: float64"
      ]
     },
     "execution_count": 44,
     "metadata": {},
     "output_type": "execute_result"
    }
   ],
   "source": [
    "df2.isnull().sum()/df2.shape[0]"
   ]
  },
  {
   "cell_type": "code",
   "execution_count": 45,
   "metadata": {},
   "outputs": [
    {
     "data": {
      "text/plain": [
       "(9678, 12)"
      ]
     },
     "execution_count": 45,
     "metadata": {},
     "output_type": "execute_result"
    }
   ],
   "source": [
    "df2.shape"
   ]
  },
  {
   "cell_type": "code",
   "execution_count": 46,
   "metadata": {
    "scrolled": false
   },
   "outputs": [
    {
     "data": {
      "text/plain": [
       "UserID                             int64\n",
       "SPSS_Regio5                      float64\n",
       "RESP_GEM_GROOTTE                 float64\n",
       "BAS_huishoudgrootte              float64\n",
       "GenderID                           int32\n",
       "Age                              float64\n",
       "BAS_werkzaamheid_resp            float64\n",
       "BAS_bruto_jaarinkomen            float64\n",
       "afg_kinderen_huishouden          float64\n",
       "AFG_sk2015                       float64\n",
       "BAS_voltooide_opleiding8_resp    float64\n",
       "SPSS_Lifestage                   float64\n",
       "dtype: object"
      ]
     },
     "execution_count": 46,
     "metadata": {},
     "output_type": "execute_result"
    }
   ],
   "source": [
    "df2.dtypes"
   ]
  },
  {
   "cell_type": "code",
   "execution_count": 47,
   "metadata": {},
   "outputs": [],
   "source": [
    "x=['SPSS_Regio5','BAS_werkzaamheid_resp','BAS_voltooide_opleiding8_resp','SPSS_Lifestage']"
   ]
  },
  {
   "cell_type": "code",
   "execution_count": 48,
   "metadata": {},
   "outputs": [],
   "source": [
    "for i in x:\n",
    "    df2[i]=df2[i].astype(np.int64)"
   ]
  },
  {
   "cell_type": "code",
   "execution_count": 49,
   "metadata": {},
   "outputs": [
    {
     "data": {
      "text/plain": [
       "UserID                             int64\n",
       "SPSS_Regio5                        int64\n",
       "RESP_GEM_GROOTTE                 float64\n",
       "BAS_huishoudgrootte              float64\n",
       "GenderID                           int32\n",
       "Age                              float64\n",
       "BAS_werkzaamheid_resp              int64\n",
       "BAS_bruto_jaarinkomen            float64\n",
       "afg_kinderen_huishouden          float64\n",
       "AFG_sk2015                       float64\n",
       "BAS_voltooide_opleiding8_resp      int64\n",
       "SPSS_Lifestage                     int64\n",
       "dtype: object"
      ]
     },
     "execution_count": 49,
     "metadata": {},
     "output_type": "execute_result"
    }
   ],
   "source": [
    "df2.dtypes"
   ]
  },
  {
   "cell_type": "code",
   "execution_count": 50,
   "metadata": {},
   "outputs": [
    {
     "data": {
      "text/html": [
       "<div>\n",
       "<style scoped>\n",
       "    .dataframe tbody tr th:only-of-type {\n",
       "        vertical-align: middle;\n",
       "    }\n",
       "\n",
       "    .dataframe tbody tr th {\n",
       "        vertical-align: top;\n",
       "    }\n",
       "\n",
       "    .dataframe thead th {\n",
       "        text-align: right;\n",
       "    }\n",
       "</style>\n",
       "<table border=\"1\" class=\"dataframe\">\n",
       "  <thead>\n",
       "    <tr style=\"text-align: right;\">\n",
       "      <th></th>\n",
       "      <th>UserID</th>\n",
       "      <th>SPSS_Regio5</th>\n",
       "      <th>RESP_GEM_GROOTTE</th>\n",
       "      <th>BAS_huishoudgrootte</th>\n",
       "      <th>GenderID</th>\n",
       "      <th>Age</th>\n",
       "      <th>BAS_werkzaamheid_resp</th>\n",
       "      <th>BAS_bruto_jaarinkomen</th>\n",
       "      <th>afg_kinderen_huishouden</th>\n",
       "      <th>AFG_sk2015</th>\n",
       "      <th>BAS_voltooide_opleiding8_resp</th>\n",
       "      <th>SPSS_Lifestage</th>\n",
       "    </tr>\n",
       "  </thead>\n",
       "  <tbody>\n",
       "    <tr>\n",
       "      <th>0</th>\n",
       "      <td>9558</td>\n",
       "      <td>3</td>\n",
       "      <td>4.893498</td>\n",
       "      <td>2.514675</td>\n",
       "      <td>1</td>\n",
       "      <td>51.998762</td>\n",
       "      <td>4</td>\n",
       "      <td>4.49226</td>\n",
       "      <td>0.482229</td>\n",
       "      <td>2.853003</td>\n",
       "      <td>4</td>\n",
       "      <td>4</td>\n",
       "    </tr>\n",
       "    <tr>\n",
       "      <th>1</th>\n",
       "      <td>9657</td>\n",
       "      <td>3</td>\n",
       "      <td>4.893498</td>\n",
       "      <td>2.514675</td>\n",
       "      <td>1</td>\n",
       "      <td>51.998762</td>\n",
       "      <td>4</td>\n",
       "      <td>4.49226</td>\n",
       "      <td>0.482229</td>\n",
       "      <td>2.853003</td>\n",
       "      <td>4</td>\n",
       "      <td>4</td>\n",
       "    </tr>\n",
       "    <tr>\n",
       "      <th>2</th>\n",
       "      <td>1</td>\n",
       "      <td>5</td>\n",
       "      <td>6.000000</td>\n",
       "      <td>1.000000</td>\n",
       "      <td>0</td>\n",
       "      <td>59.000000</td>\n",
       "      <td>2</td>\n",
       "      <td>2.00000</td>\n",
       "      <td>0.000000</td>\n",
       "      <td>5.000000</td>\n",
       "      <td>2</td>\n",
       "      <td>2</td>\n",
       "    </tr>\n",
       "    <tr>\n",
       "      <th>3</th>\n",
       "      <td>2</td>\n",
       "      <td>3</td>\n",
       "      <td>3.000000</td>\n",
       "      <td>2.000000</td>\n",
       "      <td>1</td>\n",
       "      <td>47.000000</td>\n",
       "      <td>2</td>\n",
       "      <td>7.00000</td>\n",
       "      <td>0.000000</td>\n",
       "      <td>2.000000</td>\n",
       "      <td>6</td>\n",
       "      <td>4</td>\n",
       "    </tr>\n",
       "    <tr>\n",
       "      <th>4</th>\n",
       "      <td>3</td>\n",
       "      <td>3</td>\n",
       "      <td>4.893498</td>\n",
       "      <td>2.514675</td>\n",
       "      <td>1</td>\n",
       "      <td>51.998762</td>\n",
       "      <td>4</td>\n",
       "      <td>4.49226</td>\n",
       "      <td>0.482229</td>\n",
       "      <td>2.853003</td>\n",
       "      <td>4</td>\n",
       "      <td>4</td>\n",
       "    </tr>\n",
       "  </tbody>\n",
       "</table>\n",
       "</div>"
      ],
      "text/plain": [
       "   UserID  SPSS_Regio5  RESP_GEM_GROOTTE  BAS_huishoudgrootte  GenderID  \\\n",
       "0    9558            3          4.893498             2.514675         1   \n",
       "1    9657            3          4.893498             2.514675         1   \n",
       "2       1            5          6.000000             1.000000         0   \n",
       "3       2            3          3.000000             2.000000         1   \n",
       "4       3            3          4.893498             2.514675         1   \n",
       "\n",
       "         Age  BAS_werkzaamheid_resp  BAS_bruto_jaarinkomen  \\\n",
       "0  51.998762                      4                4.49226   \n",
       "1  51.998762                      4                4.49226   \n",
       "2  59.000000                      2                2.00000   \n",
       "3  47.000000                      2                7.00000   \n",
       "4  51.998762                      4                4.49226   \n",
       "\n",
       "   afg_kinderen_huishouden  AFG_sk2015  BAS_voltooide_opleiding8_resp  \\\n",
       "0                 0.482229    2.853003                              4   \n",
       "1                 0.482229    2.853003                              4   \n",
       "2                 0.000000    5.000000                              2   \n",
       "3                 0.000000    2.000000                              6   \n",
       "4                 0.482229    2.853003                              4   \n",
       "\n",
       "   SPSS_Lifestage  \n",
       "0               4  \n",
       "1               4  \n",
       "2               2  \n",
       "3               4  \n",
       "4               4  "
      ]
     },
     "execution_count": 50,
     "metadata": {},
     "output_type": "execute_result"
    }
   ],
   "source": [
    "df2.head()"
   ]
  },
  {
   "cell_type": "code",
   "execution_count": 51,
   "metadata": {},
   "outputs": [],
   "source": [
    "x=['UserID','SPSS_Regio5','BAS_werkzaamheid_resp','BAS_voltooide_opleiding8_resp','SPSS_Lifestage']"
   ]
  },
  {
   "cell_type": "code",
   "execution_count": 52,
   "metadata": {},
   "outputs": [],
   "source": [
    "for i in x:\n",
    "    df2[i]=df2[i].astype(str)"
   ]
  },
  {
   "cell_type": "code",
   "execution_count": 53,
   "metadata": {},
   "outputs": [
    {
     "data": {
      "text/plain": [
       "UserID                            object\n",
       "SPSS_Regio5                       object\n",
       "RESP_GEM_GROOTTE                 float64\n",
       "BAS_huishoudgrootte              float64\n",
       "GenderID                           int32\n",
       "Age                              float64\n",
       "BAS_werkzaamheid_resp             object\n",
       "BAS_bruto_jaarinkomen            float64\n",
       "afg_kinderen_huishouden          float64\n",
       "AFG_sk2015                       float64\n",
       "BAS_voltooide_opleiding8_resp     object\n",
       "SPSS_Lifestage                    object\n",
       "dtype: object"
      ]
     },
     "execution_count": 53,
     "metadata": {},
     "output_type": "execute_result"
    }
   ],
   "source": [
    "df2.dtypes"
   ]
  },
  {
   "cell_type": "code",
   "execution_count": 54,
   "metadata": {},
   "outputs": [
    {
     "data": {
      "text/plain": [
       "(9678, 12)"
      ]
     },
     "execution_count": 54,
     "metadata": {},
     "output_type": "execute_result"
    }
   ],
   "source": [
    "df2.shape"
   ]
  },
  {
   "cell_type": "markdown",
   "metadata": {},
   "source": [
    "# Final Dataset"
   ]
  },
  {
   "cell_type": "code",
   "execution_count": 55,
   "metadata": {},
   "outputs": [],
   "source": [
    "df3=pd.merge(df0,df2,on='UserID',how='left')"
   ]
  },
  {
   "cell_type": "code",
   "execution_count": 56,
   "metadata": {},
   "outputs": [
    {
     "data": {
      "text/html": [
       "<div>\n",
       "<style scoped>\n",
       "    .dataframe tbody tr th:only-of-type {\n",
       "        vertical-align: middle;\n",
       "    }\n",
       "\n",
       "    .dataframe tbody tr th {\n",
       "        vertical-align: top;\n",
       "    }\n",
       "\n",
       "    .dataframe thead th {\n",
       "        text-align: right;\n",
       "    }\n",
       "</style>\n",
       "<table border=\"1\" class=\"dataframe\">\n",
       "  <thead>\n",
       "    <tr style=\"text-align: right;\">\n",
       "      <th></th>\n",
       "      <th>UserID</th>\n",
       "      <th>PurchaseID</th>\n",
       "      <th>TIMESPSS</th>\n",
       "      <th>Duration</th>\n",
       "      <th>DEVICE_TYPE</th>\n",
       "      <th>type_touch</th>\n",
       "      <th>MobilePanel</th>\n",
       "      <th>FixedPanel</th>\n",
       "      <th>purchase_status</th>\n",
       "      <th>SPSS_Regio5</th>\n",
       "      <th>RESP_GEM_GROOTTE</th>\n",
       "      <th>BAS_huishoudgrootte</th>\n",
       "      <th>GenderID</th>\n",
       "      <th>Age</th>\n",
       "      <th>BAS_werkzaamheid_resp</th>\n",
       "      <th>BAS_bruto_jaarinkomen</th>\n",
       "      <th>afg_kinderen_huishouden</th>\n",
       "      <th>AFG_sk2015</th>\n",
       "      <th>BAS_voltooide_opleiding8_resp</th>\n",
       "      <th>SPSS_Lifestage</th>\n",
       "    </tr>\n",
       "  </thead>\n",
       "  <tbody>\n",
       "    <tr>\n",
       "      <th>0</th>\n",
       "      <td>9558</td>\n",
       "      <td>1</td>\n",
       "      <td>2016-03-13 12:26:21</td>\n",
       "      <td>6.492</td>\n",
       "      <td>MOBILE</td>\n",
       "      <td>7</td>\n",
       "      <td>18</td>\n",
       "      <td>0</td>\n",
       "      <td>0</td>\n",
       "      <td>3</td>\n",
       "      <td>4.893498</td>\n",
       "      <td>2.514675</td>\n",
       "      <td>1</td>\n",
       "      <td>51.998762</td>\n",
       "      <td>4</td>\n",
       "      <td>4.49226</td>\n",
       "      <td>0.482229</td>\n",
       "      <td>2.853003</td>\n",
       "      <td>4</td>\n",
       "      <td>4</td>\n",
       "    </tr>\n",
       "    <tr>\n",
       "      <th>1</th>\n",
       "      <td>9657</td>\n",
       "      <td>2</td>\n",
       "      <td>2015-07-18 13:00:38</td>\n",
       "      <td>57.000</td>\n",
       "      <td>FIXED</td>\n",
       "      <td>4</td>\n",
       "      <td>18</td>\n",
       "      <td>0</td>\n",
       "      <td>0</td>\n",
       "      <td>3</td>\n",
       "      <td>4.893498</td>\n",
       "      <td>2.514675</td>\n",
       "      <td>1</td>\n",
       "      <td>51.998762</td>\n",
       "      <td>4</td>\n",
       "      <td>4.49226</td>\n",
       "      <td>0.482229</td>\n",
       "      <td>2.853003</td>\n",
       "      <td>4</td>\n",
       "      <td>4</td>\n",
       "    </tr>\n",
       "    <tr>\n",
       "      <th>2</th>\n",
       "      <td>1</td>\n",
       "      <td>3</td>\n",
       "      <td>2015-08-07 19:16:59</td>\n",
       "      <td>120.000</td>\n",
       "      <td>FIXED</td>\n",
       "      <td>7</td>\n",
       "      <td>18</td>\n",
       "      <td>17</td>\n",
       "      <td>0</td>\n",
       "      <td>5</td>\n",
       "      <td>6.000000</td>\n",
       "      <td>1.000000</td>\n",
       "      <td>0</td>\n",
       "      <td>59.000000</td>\n",
       "      <td>2</td>\n",
       "      <td>2.00000</td>\n",
       "      <td>0.000000</td>\n",
       "      <td>5.000000</td>\n",
       "      <td>2</td>\n",
       "      <td>2</td>\n",
       "    </tr>\n",
       "    <tr>\n",
       "      <th>3</th>\n",
       "      <td>1</td>\n",
       "      <td>4</td>\n",
       "      <td>2015-11-24 22:30:44</td>\n",
       "      <td>216.000</td>\n",
       "      <td>FIXED</td>\n",
       "      <td>1</td>\n",
       "      <td>18</td>\n",
       "      <td>17</td>\n",
       "      <td>0</td>\n",
       "      <td>5</td>\n",
       "      <td>6.000000</td>\n",
       "      <td>1.000000</td>\n",
       "      <td>0</td>\n",
       "      <td>59.000000</td>\n",
       "      <td>2</td>\n",
       "      <td>2.00000</td>\n",
       "      <td>0.000000</td>\n",
       "      <td>5.000000</td>\n",
       "      <td>2</td>\n",
       "      <td>2</td>\n",
       "    </tr>\n",
       "    <tr>\n",
       "      <th>4</th>\n",
       "      <td>1</td>\n",
       "      <td>5</td>\n",
       "      <td>2016-06-15 15:48:20</td>\n",
       "      <td>155.262</td>\n",
       "      <td>FIXED</td>\n",
       "      <td>7</td>\n",
       "      <td>18</td>\n",
       "      <td>17</td>\n",
       "      <td>0</td>\n",
       "      <td>5</td>\n",
       "      <td>6.000000</td>\n",
       "      <td>1.000000</td>\n",
       "      <td>0</td>\n",
       "      <td>59.000000</td>\n",
       "      <td>2</td>\n",
       "      <td>2.00000</td>\n",
       "      <td>0.000000</td>\n",
       "      <td>5.000000</td>\n",
       "      <td>2</td>\n",
       "      <td>2</td>\n",
       "    </tr>\n",
       "  </tbody>\n",
       "</table>\n",
       "</div>"
      ],
      "text/plain": [
       "  UserID PurchaseID            TIMESPSS  Duration DEVICE_TYPE type_touch  \\\n",
       "0   9558          1 2016-03-13 12:26:21     6.492      MOBILE          7   \n",
       "1   9657          2 2015-07-18 13:00:38    57.000       FIXED          4   \n",
       "2      1          3 2015-08-07 19:16:59   120.000       FIXED          7   \n",
       "3      1          4 2015-11-24 22:30:44   216.000       FIXED          1   \n",
       "4      1          5 2016-06-15 15:48:20   155.262       FIXED          7   \n",
       "\n",
       "  MobilePanel FixedPanel  purchase_status SPSS_Regio5  RESP_GEM_GROOTTE  \\\n",
       "0          18          0                0           3          4.893498   \n",
       "1          18          0                0           3          4.893498   \n",
       "2          18         17                0           5          6.000000   \n",
       "3          18         17                0           5          6.000000   \n",
       "4          18         17                0           5          6.000000   \n",
       "\n",
       "   BAS_huishoudgrootte  GenderID        Age BAS_werkzaamheid_resp  \\\n",
       "0             2.514675         1  51.998762                     4   \n",
       "1             2.514675         1  51.998762                     4   \n",
       "2             1.000000         0  59.000000                     2   \n",
       "3             1.000000         0  59.000000                     2   \n",
       "4             1.000000         0  59.000000                     2   \n",
       "\n",
       "   BAS_bruto_jaarinkomen  afg_kinderen_huishouden  AFG_sk2015  \\\n",
       "0                4.49226                 0.482229    2.853003   \n",
       "1                4.49226                 0.482229    2.853003   \n",
       "2                2.00000                 0.000000    5.000000   \n",
       "3                2.00000                 0.000000    5.000000   \n",
       "4                2.00000                 0.000000    5.000000   \n",
       "\n",
       "  BAS_voltooide_opleiding8_resp SPSS_Lifestage  \n",
       "0                             4              4  \n",
       "1                             4              4  \n",
       "2                             2              2  \n",
       "3                             2              2  \n",
       "4                             2              2  "
      ]
     },
     "execution_count": 56,
     "metadata": {},
     "output_type": "execute_result"
    }
   ],
   "source": [
    "df3.head()"
   ]
  },
  {
   "cell_type": "code",
   "execution_count": 57,
   "metadata": {},
   "outputs": [
    {
     "data": {
      "text/plain": [
       "(29012, 20)"
      ]
     },
     "execution_count": 57,
     "metadata": {},
     "output_type": "execute_result"
    }
   ],
   "source": [
    "df3.shape"
   ]
  },
  {
   "cell_type": "code",
   "execution_count": 58,
   "metadata": {
    "scrolled": true
   },
   "outputs": [
    {
     "data": {
      "text/plain": [
       "UserID                           0\n",
       "PurchaseID                       0\n",
       "TIMESPSS                         0\n",
       "Duration                         0\n",
       "DEVICE_TYPE                      0\n",
       "type_touch                       0\n",
       "MobilePanel                      0\n",
       "FixedPanel                       0\n",
       "purchase_status                  0\n",
       "SPSS_Regio5                      0\n",
       "RESP_GEM_GROOTTE                 0\n",
       "BAS_huishoudgrootte              0\n",
       "GenderID                         0\n",
       "Age                              0\n",
       "BAS_werkzaamheid_resp            0\n",
       "BAS_bruto_jaarinkomen            0\n",
       "afg_kinderen_huishouden          0\n",
       "AFG_sk2015                       0\n",
       "BAS_voltooide_opleiding8_resp    0\n",
       "SPSS_Lifestage                   0\n",
       "dtype: int64"
      ]
     },
     "execution_count": 58,
     "metadata": {},
     "output_type": "execute_result"
    }
   ],
   "source": [
    "df3.isnull().sum()"
   ]
  },
  {
   "cell_type": "code",
   "execution_count": 59,
   "metadata": {},
   "outputs": [
    {
     "data": {
      "text/plain": [
       "UserID                                   object\n",
       "PurchaseID                               object\n",
       "TIMESPSS                         datetime64[ns]\n",
       "Duration                                float64\n",
       "DEVICE_TYPE                              object\n",
       "type_touch                               object\n",
       "MobilePanel                              object\n",
       "FixedPanel                               object\n",
       "purchase_status                           int64\n",
       "SPSS_Regio5                              object\n",
       "RESP_GEM_GROOTTE                        float64\n",
       "BAS_huishoudgrootte                     float64\n",
       "GenderID                                  int32\n",
       "Age                                     float64\n",
       "BAS_werkzaamheid_resp                    object\n",
       "BAS_bruto_jaarinkomen                   float64\n",
       "afg_kinderen_huishouden                 float64\n",
       "AFG_sk2015                              float64\n",
       "BAS_voltooide_opleiding8_resp            object\n",
       "SPSS_Lifestage                           object\n",
       "dtype: object"
      ]
     },
     "execution_count": 59,
     "metadata": {},
     "output_type": "execute_result"
    }
   ],
   "source": [
    "df3.dtypes"
   ]
  },
  {
   "cell_type": "code",
   "execution_count": 60,
   "metadata": {},
   "outputs": [],
   "source": [
    "df3=df3.dropna(axis=0)"
   ]
  },
  {
   "cell_type": "code",
   "execution_count": 61,
   "metadata": {},
   "outputs": [
    {
     "data": {
      "text/plain": [
       "UserID                           0\n",
       "PurchaseID                       0\n",
       "TIMESPSS                         0\n",
       "Duration                         0\n",
       "DEVICE_TYPE                      0\n",
       "type_touch                       0\n",
       "MobilePanel                      0\n",
       "FixedPanel                       0\n",
       "purchase_status                  0\n",
       "SPSS_Regio5                      0\n",
       "RESP_GEM_GROOTTE                 0\n",
       "BAS_huishoudgrootte              0\n",
       "GenderID                         0\n",
       "Age                              0\n",
       "BAS_werkzaamheid_resp            0\n",
       "BAS_bruto_jaarinkomen            0\n",
       "afg_kinderen_huishouden          0\n",
       "AFG_sk2015                       0\n",
       "BAS_voltooide_opleiding8_resp    0\n",
       "SPSS_Lifestage                   0\n",
       "dtype: int64"
      ]
     },
     "execution_count": 61,
     "metadata": {},
     "output_type": "execute_result"
    }
   ],
   "source": [
    "df3.isnull().sum()"
   ]
  },
  {
   "cell_type": "code",
   "execution_count": 62,
   "metadata": {},
   "outputs": [
    {
     "data": {
      "text/plain": [
       "(29012, 20)"
      ]
     },
     "execution_count": 62,
     "metadata": {},
     "output_type": "execute_result"
    }
   ],
   "source": [
    "#apply models in this dataset df3\n",
    "df3.shape"
   ]
  },
  {
   "cell_type": "code",
   "execution_count": 63,
   "metadata": {},
   "outputs": [
    {
     "data": {
      "text/html": [
       "<div>\n",
       "<style scoped>\n",
       "    .dataframe tbody tr th:only-of-type {\n",
       "        vertical-align: middle;\n",
       "    }\n",
       "\n",
       "    .dataframe tbody tr th {\n",
       "        vertical-align: top;\n",
       "    }\n",
       "\n",
       "    .dataframe thead th {\n",
       "        text-align: right;\n",
       "    }\n",
       "</style>\n",
       "<table border=\"1\" class=\"dataframe\">\n",
       "  <thead>\n",
       "    <tr style=\"text-align: right;\">\n",
       "      <th></th>\n",
       "      <th>UserID</th>\n",
       "      <th>PurchaseID</th>\n",
       "      <th>TIMESPSS</th>\n",
       "      <th>Duration</th>\n",
       "      <th>DEVICE_TYPE</th>\n",
       "      <th>type_touch</th>\n",
       "      <th>MobilePanel</th>\n",
       "      <th>FixedPanel</th>\n",
       "      <th>purchase_status</th>\n",
       "      <th>SPSS_Regio5</th>\n",
       "      <th>RESP_GEM_GROOTTE</th>\n",
       "      <th>BAS_huishoudgrootte</th>\n",
       "      <th>GenderID</th>\n",
       "      <th>Age</th>\n",
       "      <th>BAS_werkzaamheid_resp</th>\n",
       "      <th>BAS_bruto_jaarinkomen</th>\n",
       "      <th>afg_kinderen_huishouden</th>\n",
       "      <th>AFG_sk2015</th>\n",
       "      <th>BAS_voltooide_opleiding8_resp</th>\n",
       "      <th>SPSS_Lifestage</th>\n",
       "    </tr>\n",
       "  </thead>\n",
       "  <tbody>\n",
       "    <tr>\n",
       "      <th>0</th>\n",
       "      <td>9558</td>\n",
       "      <td>1</td>\n",
       "      <td>2016-03-13 12:26:21</td>\n",
       "      <td>6.492</td>\n",
       "      <td>MOBILE</td>\n",
       "      <td>7</td>\n",
       "      <td>18</td>\n",
       "      <td>0</td>\n",
       "      <td>0</td>\n",
       "      <td>3</td>\n",
       "      <td>4.893498</td>\n",
       "      <td>2.514675</td>\n",
       "      <td>1</td>\n",
       "      <td>51.998762</td>\n",
       "      <td>4</td>\n",
       "      <td>4.49226</td>\n",
       "      <td>0.482229</td>\n",
       "      <td>2.853003</td>\n",
       "      <td>4</td>\n",
       "      <td>4</td>\n",
       "    </tr>\n",
       "    <tr>\n",
       "      <th>1</th>\n",
       "      <td>9657</td>\n",
       "      <td>2</td>\n",
       "      <td>2015-07-18 13:00:38</td>\n",
       "      <td>57.000</td>\n",
       "      <td>FIXED</td>\n",
       "      <td>4</td>\n",
       "      <td>18</td>\n",
       "      <td>0</td>\n",
       "      <td>0</td>\n",
       "      <td>3</td>\n",
       "      <td>4.893498</td>\n",
       "      <td>2.514675</td>\n",
       "      <td>1</td>\n",
       "      <td>51.998762</td>\n",
       "      <td>4</td>\n",
       "      <td>4.49226</td>\n",
       "      <td>0.482229</td>\n",
       "      <td>2.853003</td>\n",
       "      <td>4</td>\n",
       "      <td>4</td>\n",
       "    </tr>\n",
       "    <tr>\n",
       "      <th>2</th>\n",
       "      <td>1</td>\n",
       "      <td>3</td>\n",
       "      <td>2015-08-07 19:16:59</td>\n",
       "      <td>120.000</td>\n",
       "      <td>FIXED</td>\n",
       "      <td>7</td>\n",
       "      <td>18</td>\n",
       "      <td>17</td>\n",
       "      <td>0</td>\n",
       "      <td>5</td>\n",
       "      <td>6.000000</td>\n",
       "      <td>1.000000</td>\n",
       "      <td>0</td>\n",
       "      <td>59.000000</td>\n",
       "      <td>2</td>\n",
       "      <td>2.00000</td>\n",
       "      <td>0.000000</td>\n",
       "      <td>5.000000</td>\n",
       "      <td>2</td>\n",
       "      <td>2</td>\n",
       "    </tr>\n",
       "    <tr>\n",
       "      <th>3</th>\n",
       "      <td>1</td>\n",
       "      <td>4</td>\n",
       "      <td>2015-11-24 22:30:44</td>\n",
       "      <td>216.000</td>\n",
       "      <td>FIXED</td>\n",
       "      <td>1</td>\n",
       "      <td>18</td>\n",
       "      <td>17</td>\n",
       "      <td>0</td>\n",
       "      <td>5</td>\n",
       "      <td>6.000000</td>\n",
       "      <td>1.000000</td>\n",
       "      <td>0</td>\n",
       "      <td>59.000000</td>\n",
       "      <td>2</td>\n",
       "      <td>2.00000</td>\n",
       "      <td>0.000000</td>\n",
       "      <td>5.000000</td>\n",
       "      <td>2</td>\n",
       "      <td>2</td>\n",
       "    </tr>\n",
       "    <tr>\n",
       "      <th>4</th>\n",
       "      <td>1</td>\n",
       "      <td>5</td>\n",
       "      <td>2016-06-15 15:48:20</td>\n",
       "      <td>155.262</td>\n",
       "      <td>FIXED</td>\n",
       "      <td>7</td>\n",
       "      <td>18</td>\n",
       "      <td>17</td>\n",
       "      <td>0</td>\n",
       "      <td>5</td>\n",
       "      <td>6.000000</td>\n",
       "      <td>1.000000</td>\n",
       "      <td>0</td>\n",
       "      <td>59.000000</td>\n",
       "      <td>2</td>\n",
       "      <td>2.00000</td>\n",
       "      <td>0.000000</td>\n",
       "      <td>5.000000</td>\n",
       "      <td>2</td>\n",
       "      <td>2</td>\n",
       "    </tr>\n",
       "  </tbody>\n",
       "</table>\n",
       "</div>"
      ],
      "text/plain": [
       "  UserID PurchaseID            TIMESPSS  Duration DEVICE_TYPE type_touch  \\\n",
       "0   9558          1 2016-03-13 12:26:21     6.492      MOBILE          7   \n",
       "1   9657          2 2015-07-18 13:00:38    57.000       FIXED          4   \n",
       "2      1          3 2015-08-07 19:16:59   120.000       FIXED          7   \n",
       "3      1          4 2015-11-24 22:30:44   216.000       FIXED          1   \n",
       "4      1          5 2016-06-15 15:48:20   155.262       FIXED          7   \n",
       "\n",
       "  MobilePanel FixedPanel  purchase_status SPSS_Regio5  RESP_GEM_GROOTTE  \\\n",
       "0          18          0                0           3          4.893498   \n",
       "1          18          0                0           3          4.893498   \n",
       "2          18         17                0           5          6.000000   \n",
       "3          18         17                0           5          6.000000   \n",
       "4          18         17                0           5          6.000000   \n",
       "\n",
       "   BAS_huishoudgrootte  GenderID        Age BAS_werkzaamheid_resp  \\\n",
       "0             2.514675         1  51.998762                     4   \n",
       "1             2.514675         1  51.998762                     4   \n",
       "2             1.000000         0  59.000000                     2   \n",
       "3             1.000000         0  59.000000                     2   \n",
       "4             1.000000         0  59.000000                     2   \n",
       "\n",
       "   BAS_bruto_jaarinkomen  afg_kinderen_huishouden  AFG_sk2015  \\\n",
       "0                4.49226                 0.482229    2.853003   \n",
       "1                4.49226                 0.482229    2.853003   \n",
       "2                2.00000                 0.000000    5.000000   \n",
       "3                2.00000                 0.000000    5.000000   \n",
       "4                2.00000                 0.000000    5.000000   \n",
       "\n",
       "  BAS_voltooide_opleiding8_resp SPSS_Lifestage  \n",
       "0                             4              4  \n",
       "1                             4              4  \n",
       "2                             2              2  \n",
       "3                             2              2  \n",
       "4                             2              2  "
      ]
     },
     "execution_count": 63,
     "metadata": {},
     "output_type": "execute_result"
    }
   ],
   "source": [
    "df3.head()"
   ]
  },
  {
   "cell_type": "code",
   "execution_count": 64,
   "metadata": {},
   "outputs": [
    {
     "data": {
      "text/plain": [
       "UserID                                   object\n",
       "PurchaseID                               object\n",
       "TIMESPSS                         datetime64[ns]\n",
       "Duration                                float64\n",
       "DEVICE_TYPE                              object\n",
       "type_touch                               object\n",
       "MobilePanel                              object\n",
       "FixedPanel                               object\n",
       "purchase_status                           int64\n",
       "SPSS_Regio5                              object\n",
       "RESP_GEM_GROOTTE                        float64\n",
       "BAS_huishoudgrootte                     float64\n",
       "GenderID                                  int32\n",
       "Age                                     float64\n",
       "BAS_werkzaamheid_resp                    object\n",
       "BAS_bruto_jaarinkomen                   float64\n",
       "afg_kinderen_huishouden                 float64\n",
       "AFG_sk2015                              float64\n",
       "BAS_voltooide_opleiding8_resp            object\n",
       "SPSS_Lifestage                           object\n",
       "dtype: object"
      ]
     },
     "execution_count": 64,
     "metadata": {},
     "output_type": "execute_result"
    }
   ],
   "source": [
    "df3.dtypes"
   ]
  },
  {
   "cell_type": "code",
   "execution_count": 65,
   "metadata": {},
   "outputs": [],
   "source": [
    "df3['month']=pd.to_datetime(df3['TIMESPSS'],format=\"%Y%m%d\").dt.month\n",
    "df3['year']=pd.to_datetime(df3['TIMESPSS'],format=\"%Y%m%d\").dt.year\n",
    "df3['year_month']=df3['year']+df3['month']\n",
    "df3['year_month']=df3['year'].astype(str)+\"_\"+df3['month'].astype(str)"
   ]
  },
  {
   "cell_type": "code",
   "execution_count": 66,
   "metadata": {},
   "outputs": [],
   "source": [
    "df3['BAS_voltooide_opleiding8_resp']=np.where(df3['BAS_voltooide_opleiding8_resp']=='nan','97',df3['BAS_voltooide_opleiding8_resp'])"
   ]
  },
  {
   "cell_type": "code",
   "execution_count": 67,
   "metadata": {},
   "outputs": [],
   "source": [
    "df4=df3.drop(['UserID','PurchaseID','TIMESPSS','month','year'],axis=1)"
   ]
  },
  {
   "cell_type": "code",
   "execution_count": 68,
   "metadata": {},
   "outputs": [],
   "source": [
    "df4.drop(['type_touch','BAS_voltooide_opleiding8_resp','year_month','DEVICE_TYPE'],axis=1,inplace=True)"
   ]
  },
  {
   "cell_type": "code",
   "execution_count": 69,
   "metadata": {},
   "outputs": [],
   "source": [
    "df4.drop(['afg_kinderen_huishouden','RESP_GEM_GROOTTE','Age'],axis=1,inplace=True)"
   ]
  },
  {
   "cell_type": "code",
   "execution_count": 70,
   "metadata": {},
   "outputs": [
    {
     "data": {
      "text/plain": [
       "0    25338\n",
       "1     3674\n",
       "Name: purchase_status, dtype: int64"
      ]
     },
     "execution_count": 70,
     "metadata": {},
     "output_type": "execute_result"
    }
   ],
   "source": [
    "df4['purchase_status'].value_counts()"
   ]
  },
  {
   "cell_type": "code",
   "execution_count": 71,
   "metadata": {},
   "outputs": [
    {
     "data": {
      "text/html": [
       "<div>\n",
       "<style scoped>\n",
       "    .dataframe tbody tr th:only-of-type {\n",
       "        vertical-align: middle;\n",
       "    }\n",
       "\n",
       "    .dataframe tbody tr th {\n",
       "        vertical-align: top;\n",
       "    }\n",
       "\n",
       "    .dataframe thead th {\n",
       "        text-align: right;\n",
       "    }\n",
       "</style>\n",
       "<table border=\"1\" class=\"dataframe\">\n",
       "  <thead>\n",
       "    <tr style=\"text-align: right;\">\n",
       "      <th></th>\n",
       "      <th>Duration</th>\n",
       "      <th>MobilePanel</th>\n",
       "      <th>FixedPanel</th>\n",
       "      <th>purchase_status</th>\n",
       "      <th>SPSS_Regio5</th>\n",
       "      <th>BAS_huishoudgrootte</th>\n",
       "      <th>GenderID</th>\n",
       "      <th>BAS_werkzaamheid_resp</th>\n",
       "      <th>BAS_bruto_jaarinkomen</th>\n",
       "      <th>AFG_sk2015</th>\n",
       "      <th>SPSS_Lifestage</th>\n",
       "    </tr>\n",
       "  </thead>\n",
       "  <tbody>\n",
       "    <tr>\n",
       "      <th>0</th>\n",
       "      <td>6.492</td>\n",
       "      <td>18</td>\n",
       "      <td>0</td>\n",
       "      <td>0</td>\n",
       "      <td>3</td>\n",
       "      <td>2.514675</td>\n",
       "      <td>1</td>\n",
       "      <td>4</td>\n",
       "      <td>4.49226</td>\n",
       "      <td>2.853003</td>\n",
       "      <td>4</td>\n",
       "    </tr>\n",
       "    <tr>\n",
       "      <th>1</th>\n",
       "      <td>57.000</td>\n",
       "      <td>18</td>\n",
       "      <td>0</td>\n",
       "      <td>0</td>\n",
       "      <td>3</td>\n",
       "      <td>2.514675</td>\n",
       "      <td>1</td>\n",
       "      <td>4</td>\n",
       "      <td>4.49226</td>\n",
       "      <td>2.853003</td>\n",
       "      <td>4</td>\n",
       "    </tr>\n",
       "    <tr>\n",
       "      <th>2</th>\n",
       "      <td>120.000</td>\n",
       "      <td>18</td>\n",
       "      <td>17</td>\n",
       "      <td>0</td>\n",
       "      <td>5</td>\n",
       "      <td>1.000000</td>\n",
       "      <td>0</td>\n",
       "      <td>2</td>\n",
       "      <td>2.00000</td>\n",
       "      <td>5.000000</td>\n",
       "      <td>2</td>\n",
       "    </tr>\n",
       "    <tr>\n",
       "      <th>3</th>\n",
       "      <td>216.000</td>\n",
       "      <td>18</td>\n",
       "      <td>17</td>\n",
       "      <td>0</td>\n",
       "      <td>5</td>\n",
       "      <td>1.000000</td>\n",
       "      <td>0</td>\n",
       "      <td>2</td>\n",
       "      <td>2.00000</td>\n",
       "      <td>5.000000</td>\n",
       "      <td>2</td>\n",
       "    </tr>\n",
       "    <tr>\n",
       "      <th>4</th>\n",
       "      <td>155.262</td>\n",
       "      <td>18</td>\n",
       "      <td>17</td>\n",
       "      <td>0</td>\n",
       "      <td>5</td>\n",
       "      <td>1.000000</td>\n",
       "      <td>0</td>\n",
       "      <td>2</td>\n",
       "      <td>2.00000</td>\n",
       "      <td>5.000000</td>\n",
       "      <td>2</td>\n",
       "    </tr>\n",
       "  </tbody>\n",
       "</table>\n",
       "</div>"
      ],
      "text/plain": [
       "   Duration MobilePanel FixedPanel  purchase_status SPSS_Regio5  \\\n",
       "0     6.492          18          0                0           3   \n",
       "1    57.000          18          0                0           3   \n",
       "2   120.000          18         17                0           5   \n",
       "3   216.000          18         17                0           5   \n",
       "4   155.262          18         17                0           5   \n",
       "\n",
       "   BAS_huishoudgrootte  GenderID BAS_werkzaamheid_resp  BAS_bruto_jaarinkomen  \\\n",
       "0             2.514675         1                     4                4.49226   \n",
       "1             2.514675         1                     4                4.49226   \n",
       "2             1.000000         0                     2                2.00000   \n",
       "3             1.000000         0                     2                2.00000   \n",
       "4             1.000000         0                     2                2.00000   \n",
       "\n",
       "   AFG_sk2015 SPSS_Lifestage  \n",
       "0    2.853003              4  \n",
       "1    2.853003              4  \n",
       "2    5.000000              2  \n",
       "3    5.000000              2  \n",
       "4    5.000000              2  "
      ]
     },
     "execution_count": 71,
     "metadata": {},
     "output_type": "execute_result"
    }
   ],
   "source": [
    "df4.head()"
   ]
  },
  {
   "cell_type": "code",
   "execution_count": 72,
   "metadata": {},
   "outputs": [],
   "source": [
    "df4=pd.get_dummies(df4)"
   ]
  },
  {
   "cell_type": "code",
   "execution_count": 73,
   "metadata": {},
   "outputs": [
    {
     "data": {
      "text/plain": [
       "(29012, 42)"
      ]
     },
     "execution_count": 73,
     "metadata": {},
     "output_type": "execute_result"
    }
   ],
   "source": [
    "df4.shape"
   ]
  },
  {
   "cell_type": "code",
   "execution_count": 74,
   "metadata": {},
   "outputs": [
    {
     "data": {
      "text/plain": [
       "Index(['Duration', 'purchase_status', 'BAS_huishoudgrootte', 'GenderID',\n",
       "       'BAS_bruto_jaarinkomen', 'AFG_sk2015', 'MobilePanel_11',\n",
       "       'MobilePanel_15', 'MobilePanel_16', 'MobilePanel_17', 'MobilePanel_18',\n",
       "       'MobilePanel_19', 'FixedPanel_0', 'FixedPanel_1', 'FixedPanel_17',\n",
       "       'FixedPanel_2', 'FixedPanel_3', 'SPSS_Regio5_1', 'SPSS_Regio5_2',\n",
       "       'SPSS_Regio5_3', 'SPSS_Regio5_4', 'SPSS_Regio5_5',\n",
       "       'BAS_werkzaamheid_resp_1', 'BAS_werkzaamheid_resp_2',\n",
       "       'BAS_werkzaamheid_resp_3', 'BAS_werkzaamheid_resp_4',\n",
       "       'BAS_werkzaamheid_resp_5', 'BAS_werkzaamheid_resp_6',\n",
       "       'BAS_werkzaamheid_resp_7', 'BAS_werkzaamheid_resp_8',\n",
       "       'BAS_werkzaamheid_resp_9', 'BAS_werkzaamheid_resp_97',\n",
       "       'SPSS_Lifestage_1', 'SPSS_Lifestage_2', 'SPSS_Lifestage_3',\n",
       "       'SPSS_Lifestage_4', 'SPSS_Lifestage_5', 'SPSS_Lifestage_6',\n",
       "       'SPSS_Lifestage_7', 'SPSS_Lifestage_8', 'SPSS_Lifestage_9',\n",
       "       'SPSS_Lifestage_97'],\n",
       "      dtype='object')"
      ]
     },
     "execution_count": 74,
     "metadata": {},
     "output_type": "execute_result"
    }
   ],
   "source": [
    "df4.columns"
   ]
  },
  {
   "cell_type": "code",
   "execution_count": null,
   "metadata": {},
   "outputs": [],
   "source": []
  },
  {
   "cell_type": "markdown",
   "metadata": {},
   "source": [
    "# Decision Tree"
   ]
  },
  {
   "cell_type": "code",
   "execution_count": 75,
   "metadata": {},
   "outputs": [],
   "source": [
    "X=df4.drop('purchase_status',axis=1)\n",
    "y=df4['purchase_status']"
   ]
  },
  {
   "cell_type": "code",
   "execution_count": 76,
   "metadata": {},
   "outputs": [],
   "source": [
    "from sklearn.model_selection import train_test_split\n",
    "X_train,X_test,y_train,y_test=train_test_split(X,y,test_size=0.2,random_state=1)"
   ]
  },
  {
   "cell_type": "code",
   "execution_count": 77,
   "metadata": {},
   "outputs": [
    {
     "name": "stdout",
     "output_type": "stream",
     "text": [
      "(23209, 41)\n",
      "(5803, 41)\n",
      "(23209,)\n",
      "(5803,)\n"
     ]
    }
   ],
   "source": [
    "print(X_train.shape)\n",
    "print(X_test.shape)\n",
    "print(y_train.shape)\n",
    "print(y_test.shape)"
   ]
  },
  {
   "cell_type": "code",
   "execution_count": 78,
   "metadata": {},
   "outputs": [
    {
     "data": {
      "text/plain": [
       "DecisionTreeClassifier(ccp_alpha=0.0, class_weight=None, criterion='gini',\n",
       "                       max_depth=3, max_features=None, max_leaf_nodes=None,\n",
       "                       min_impurity_decrease=0.0, min_impurity_split=None,\n",
       "                       min_samples_leaf=1, min_samples_split=2,\n",
       "                       min_weight_fraction_leaf=0.0, presort='deprecated',\n",
       "                       random_state=200, splitter='best')"
      ]
     },
     "execution_count": 78,
     "metadata": {},
     "output_type": "execute_result"
    }
   ],
   "source": [
    "import sklearn.tree as tree\n",
    "clf=tree.DecisionTreeClassifier(max_depth=3,random_state=200)\n",
    "clf.fit(X_train,y_train)"
   ]
  },
  {
   "cell_type": "code",
   "execution_count": 79,
   "metadata": {},
   "outputs": [
    {
     "data": {
      "text/plain": [
       "0.8705841805962433"
      ]
     },
     "execution_count": 79,
     "metadata": {},
     "output_type": "execute_result"
    }
   ],
   "source": [
    "#Average number of correct predictions, same as confusion matrix\n",
    "clf.score(X_test,y_test)"
   ]
  },
  {
   "cell_type": "code",
   "execution_count": 80,
   "metadata": {},
   "outputs": [
    {
     "data": {
      "text/plain": [
       "array([[0.86206897, 0.13793103],\n",
       "       [0.86206897, 0.13793103],\n",
       "       [0.86035591, 0.13964409],\n",
       "       ...,\n",
       "       [0.9274062 , 0.0725938 ],\n",
       "       [0.79874652, 0.20125348],\n",
       "       [0.86035591, 0.13964409]])"
      ]
     },
     "execution_count": 80,
     "metadata": {},
     "output_type": "execute_result"
    }
   ],
   "source": [
    "#Predicted probabilities\n",
    "prob=clf.predict_proba(X_test)\n",
    "prob"
   ]
  },
  {
   "cell_type": "code",
   "execution_count": 81,
   "metadata": {},
   "outputs": [
    {
     "data": {
      "text/plain": [
       "0.5907867103561047"
      ]
     },
     "execution_count": 81,
     "metadata": {},
     "output_type": "execute_result"
    }
   ],
   "source": [
    "#Area Under the curve\n",
    "import sklearn.metrics as metrics\n",
    "metrics.roc_auc_score(y_test,prob[:,1])"
   ]
  },
  {
   "cell_type": "code",
   "execution_count": 82,
   "metadata": {},
   "outputs": [],
   "source": [
    "import pydotplus\n",
    "import os\n",
    "os.environ[\"PATH\"] += os.pathsep + 'C:/Program Files (x86)/Graphviz2.38/bin/'\n",
    "dot_data = tree.export_graphviz(clf, out_file=None, \n",
    "                         feature_names=X.columns,  \n",
    "                         class_names=[\"0\",\"1\"],  \n",
    "                         filled=True, rounded=True,  \n",
    "                       proportion=True)\n",
    "graph = pydotplus.graph_from_dot_data(dot_data)"
   ]
  },
  {
   "cell_type": "code",
   "execution_count": 83,
   "metadata": {},
   "outputs": [
    {
     "data": {
      "image/png": "[encoded data removed]",
      "text/plain": [
       "<IPython.core.display.Image object>"
      ]
     },
     "execution_count": 83,
     "metadata": {},
     "output_type": "execute_result"
    }
   ],
   "source": [
    "from IPython.display import Image\n",
    "Image(graph.create_png())"
   ]
  },
  {
   "cell_type": "code",
   "execution_count": 84,
   "metadata": {},
   "outputs": [
    {
     "data": {
      "text/plain": [
       "True"
      ]
     },
     "execution_count": 84,
     "metadata": {},
     "output_type": "execute_result"
    }
   ],
   "source": [
    "graph.write_jpeg(\"online_customer_journey_tree.jpeg\")"
   ]
  },
  {
   "cell_type": "code",
   "execution_count": 85,
   "metadata": {},
   "outputs": [
    {
     "data": {
      "text/plain": [
       "GridSearchCV(cv=3, error_score=nan,\n",
       "             estimator=DecisionTreeClassifier(ccp_alpha=0.0, class_weight=None,\n",
       "                                              criterion='gini', max_depth=3,\n",
       "                                              max_features=None,\n",
       "                                              max_leaf_nodes=None,\n",
       "                                              min_impurity_decrease=0.0,\n",
       "                                              min_impurity_split=None,\n",
       "                                              min_samples_leaf=1,\n",
       "                                              min_samples_split=2,\n",
       "                                              min_weight_fraction_leaf=0.0,\n",
       "                                              presort='deprecated',\n",
       "                                              random_state=200,\n",
       "                                              splitter='best'),\n",
       "             iid='deprecated', n_jobs=None,\n",
       "             param_grid={'criterion': ['gini', 'entropy'],\n",
       "                         'max_depth': [3, 4, 5, 7]},\n",
       "             pre_dispatch='2*n_jobs', refit=True, return_train_score=False,\n",
       "             scoring=None, verbose=0)"
      ]
     },
     "execution_count": 85,
     "metadata": {},
     "output_type": "execute_result"
    }
   ],
   "source": [
    "#Grid search\n",
    "import sklearn.model_selection as model_selection\n",
    "model=model_selection.GridSearchCV(clf, param_grid={'max_depth':[3,4,5,7],'criterion':['gini','entropy']},cv=3)\n",
    "model.fit(X_train,y_train)"
   ]
  },
  {
   "cell_type": "code",
   "execution_count": 86,
   "metadata": {},
   "outputs": [
    {
     "data": {
      "text/plain": [
       "DecisionTreeClassifier(ccp_alpha=0.0, class_weight=None, criterion='gini',\n",
       "                       max_depth=3, max_features=None, max_leaf_nodes=None,\n",
       "                       min_impurity_decrease=0.0, min_impurity_split=None,\n",
       "                       min_samples_leaf=1, min_samples_split=2,\n",
       "                       min_weight_fraction_leaf=0.0, presort='deprecated',\n",
       "                       random_state=200, splitter='best')"
      ]
     },
     "execution_count": 86,
     "metadata": {},
     "output_type": "execute_result"
    }
   ],
   "source": [
    "model.best_estimator_"
   ]
  },
  {
   "cell_type": "code",
   "execution_count": 87,
   "metadata": {},
   "outputs": [
    {
     "data": {
      "text/plain": [
       "0.8740574809477927"
      ]
     },
     "execution_count": 87,
     "metadata": {},
     "output_type": "execute_result"
    }
   ],
   "source": [
    "model.best_score_"
   ]
  },
  {
   "cell_type": "code",
   "execution_count": 88,
   "metadata": {},
   "outputs": [
    {
     "data": {
      "text/plain": [
       "DecisionTreeClassifier(ccp_alpha=0.0, class_weight=None, criterion='gini',\n",
       "                       max_depth=3, max_features=None, max_leaf_nodes=None,\n",
       "                       min_impurity_decrease=0.0, min_impurity_split=None,\n",
       "                       min_samples_leaf=1, min_samples_split=2,\n",
       "                       min_weight_fraction_leaf=0.0, presort='deprecated',\n",
       "                       random_state=200, splitter='best')"
      ]
     },
     "execution_count": 88,
     "metadata": {},
     "output_type": "execute_result"
    }
   ],
   "source": [
    "clf=tree.DecisionTreeClassifier(max_depth=3,random_state=200)\n",
    "clf.fit(X_train,y_train)"
   ]
  },
  {
   "cell_type": "code",
   "execution_count": 89,
   "metadata": {},
   "outputs": [
    {
     "data": {
      "text/plain": [
       "0.5907867103561047"
      ]
     },
     "execution_count": 89,
     "metadata": {},
     "output_type": "execute_result"
    }
   ],
   "source": [
    "#import sklearn.metrics as metrics\n",
    "metrics.roc_auc_score(y_test,clf.predict_proba(X_test)[:,1])"
   ]
  },
  {
   "cell_type": "code",
   "execution_count": 90,
   "metadata": {},
   "outputs": [
    {
     "data": {
      "text/plain": [
       "BAS_bruto_jaarinkomen       0.401970\n",
       "Duration                    0.395945\n",
       "FixedPanel_0                0.157485\n",
       "AFG_sk2015                  0.044600\n",
       "MobilePanel_19              0.000000\n",
       "SPSS_Regio5_2               0.000000\n",
       "SPSS_Regio5_1               0.000000\n",
       "FixedPanel_3                0.000000\n",
       "FixedPanel_2                0.000000\n",
       "FixedPanel_17               0.000000\n",
       "FixedPanel_1                0.000000\n",
       "MobilePanel_18              0.000000\n",
       "SPSS_Regio5_4               0.000000\n",
       "MobilePanel_17              0.000000\n",
       "MobilePanel_16              0.000000\n",
       "MobilePanel_15              0.000000\n",
       "MobilePanel_11              0.000000\n",
       "GenderID                    0.000000\n",
       "BAS_huishoudgrootte         0.000000\n",
       "SPSS_Regio5_3               0.000000\n",
       "SPSS_Lifestage_97           0.000000\n",
       "SPSS_Lifestage_9            0.000000\n",
       "BAS_werkzaamheid_resp_1     0.000000\n",
       "SPSS_Lifestage_8            0.000000\n",
       "SPSS_Lifestage_7            0.000000\n",
       "SPSS_Lifestage_6            0.000000\n",
       "SPSS_Lifestage_5            0.000000\n",
       "SPSS_Lifestage_4            0.000000\n",
       "SPSS_Lifestage_3            0.000000\n",
       "SPSS_Lifestage_2            0.000000\n",
       "SPSS_Lifestage_1            0.000000\n",
       "BAS_werkzaamheid_resp_97    0.000000\n",
       "BAS_werkzaamheid_resp_9     0.000000\n",
       "BAS_werkzaamheid_resp_8     0.000000\n",
       "BAS_werkzaamheid_resp_7     0.000000\n",
       "BAS_werkzaamheid_resp_6     0.000000\n",
       "BAS_werkzaamheid_resp_5     0.000000\n",
       "BAS_werkzaamheid_resp_4     0.000000\n",
       "BAS_werkzaamheid_resp_3     0.000000\n",
       "BAS_werkzaamheid_resp_2     0.000000\n",
       "SPSS_Regio5_5               0.000000\n",
       "dtype: float64"
      ]
     },
     "execution_count": 90,
     "metadata": {},
     "output_type": "execute_result"
    }
   ],
   "source": [
    "#Feature importance\n",
    "pd.Series(clf.feature_importances_,index=X.columns).sort_values(ascending=False)"
   ]
  },
  {
   "cell_type": "markdown",
   "metadata": {},
   "source": [
    "# Bagging"
   ]
  },
  {
   "cell_type": "code",
   "execution_count": 91,
   "metadata": {},
   "outputs": [],
   "source": [
    "#Bagging Classifier: Bootstrap sampling with DT as base learner\n",
    "from sklearn.ensemble import BaggingClassifier\n",
    "from sklearn.tree import DecisionTreeClassifier"
   ]
  },
  {
   "cell_type": "code",
   "execution_count": 92,
   "metadata": {},
   "outputs": [],
   "source": [
    "clf=BaggingClassifier(oob_score=True,n_jobs=-1,n_estimators=20,random_state=400,\n",
    "                      base_estimator=DecisionTreeClassifier())"
   ]
  },
  {
   "cell_type": "code",
   "execution_count": 93,
   "metadata": {},
   "outputs": [
    {
     "data": {
      "text/plain": [
       "BaggingClassifier(base_estimator=DecisionTreeClassifier(ccp_alpha=0.0,\n",
       "                                                        class_weight=None,\n",
       "                                                        criterion='gini',\n",
       "                                                        max_depth=None,\n",
       "                                                        max_features=None,\n",
       "                                                        max_leaf_nodes=None,\n",
       "                                                        min_impurity_decrease=0.0,\n",
       "                                                        min_impurity_split=None,\n",
       "                                                        min_samples_leaf=1,\n",
       "                                                        min_samples_split=2,\n",
       "                                                        min_weight_fraction_leaf=0.0,\n",
       "                                                        presort='deprecated',\n",
       "                                                        random_state=None,\n",
       "                                                        splitter='best'),\n",
       "                  bootstrap=True, bootstrap_features=False, max_features=1.0,\n",
       "                  max_samples=1.0, n_estimators=20, n_jobs=-1, oob_score=True,\n",
       "                  random_state=400, verbose=0, warm_start=False)"
      ]
     },
     "execution_count": 93,
     "metadata": {},
     "output_type": "execute_result"
    }
   ],
   "source": [
    "clf.fit(X_train,y_train)"
   ]
  },
  {
   "cell_type": "code",
   "execution_count": 94,
   "metadata": {},
   "outputs": [
    {
     "data": {
      "text/plain": [
       "0.8493882474582113"
      ]
     },
     "execution_count": 94,
     "metadata": {},
     "output_type": "execute_result"
    }
   ],
   "source": [
    "clf.score(X_test,y_test)"
   ]
  },
  {
   "cell_type": "markdown",
   "metadata": {},
   "source": [
    "# Random Forest"
   ]
  },
  {
   "cell_type": "code",
   "execution_count": 95,
   "metadata": {},
   "outputs": [],
   "source": [
    "from sklearn.ensemble import RandomForestClassifier"
   ]
  },
  {
   "cell_type": "code",
   "execution_count": 96,
   "metadata": {},
   "outputs": [
    {
     "data": {
      "text/plain": [
       "RandomForestClassifier(bootstrap=True, ccp_alpha=0.0, class_weight=None,\n",
       "                       criterion='gini', max_depth=None, max_features='auto',\n",
       "                       max_leaf_nodes=None, max_samples=None,\n",
       "                       min_impurity_decrease=0.0, min_impurity_split=None,\n",
       "                       min_samples_leaf=1, min_samples_split=2,\n",
       "                       min_weight_fraction_leaf=0.0, n_estimators=80, n_jobs=-1,\n",
       "                       oob_score=True, random_state=400, verbose=0,\n",
       "                       warm_start=False)"
      ]
     },
     "execution_count": 96,
     "metadata": {},
     "output_type": "execute_result"
    }
   ],
   "source": [
    "clf=RandomForestClassifier(n_estimators=80,oob_score=True,n_jobs=-1,random_state=400)\n",
    "clf.fit(X_train,y_train)"
   ]
  },
  {
   "cell_type": "code",
   "execution_count": 97,
   "metadata": {},
   "outputs": [
    {
     "data": {
      "text/plain": [
       "0.8421506117525418"
      ]
     },
     "execution_count": 97,
     "metadata": {},
     "output_type": "execute_result"
    }
   ],
   "source": [
    "clf.score(X_test,y_test)"
   ]
  },
  {
   "cell_type": "code",
   "execution_count": 98,
   "metadata": {},
   "outputs": [
    {
     "data": {
      "text/plain": [
       "0.5587481405104621"
      ]
     },
     "execution_count": 98,
     "metadata": {},
     "output_type": "execute_result"
    }
   ],
   "source": [
    "#Area Under the curve\n",
    "from sklearn import metrics\n",
    "metrics.roc_auc_score(y_test,clf.predict_proba(X_test)[:,1])"
   ]
  },
  {
   "cell_type": "markdown",
   "metadata": {},
   "source": [
    "# AdaBoost"
   ]
  },
  {
   "cell_type": "code",
   "execution_count": 99,
   "metadata": {},
   "outputs": [
    {
     "data": {
      "text/plain": [
       "AdaBoostClassifier(algorithm='SAMME.R', base_estimator=None, learning_rate=1.0,\n",
       "                   n_estimators=50, random_state=400)"
      ]
     },
     "execution_count": 99,
     "metadata": {},
     "output_type": "execute_result"
    }
   ],
   "source": [
    "from sklearn.ensemble import AdaBoostClassifier\n",
    "clf=AdaBoostClassifier(n_estimators=50,random_state=400)\n",
    "clf.fit(X_train,y_train)"
   ]
  },
  {
   "cell_type": "code",
   "execution_count": 100,
   "metadata": {},
   "outputs": [
    {
     "data": {
      "text/plain": [
       "0.8705841805962433"
      ]
     },
     "execution_count": 100,
     "metadata": {},
     "output_type": "execute_result"
    }
   ],
   "source": [
    "clf.score(X_test,y_test)"
   ]
  },
  {
   "cell_type": "markdown",
   "metadata": {},
   "source": [
    "# Gradient Boosting"
   ]
  },
  {
   "cell_type": "code",
   "execution_count": 101,
   "metadata": {},
   "outputs": [
    {
     "data": {
      "text/plain": [
       "GradientBoostingClassifier(ccp_alpha=0.0, criterion='friedman_mse', init=None,\n",
       "                           learning_rate=0.1, loss='deviance', max_depth=3,\n",
       "                           max_features=None, max_leaf_nodes=None,\n",
       "                           min_impurity_decrease=0.0, min_impurity_split=None,\n",
       "                           min_samples_leaf=1, min_samples_split=2,\n",
       "                           min_weight_fraction_leaf=0.0, n_estimators=80,\n",
       "                           n_iter_no_change=None, presort='deprecated',\n",
       "                           random_state=400, subsample=1.0, tol=0.0001,\n",
       "                           validation_fraction=0.1, verbose=0,\n",
       "                           warm_start=False)"
      ]
     },
     "execution_count": 101,
     "metadata": {},
     "output_type": "execute_result"
    }
   ],
   "source": [
    "from sklearn.ensemble import GradientBoostingClassifier\n",
    "clf=GradientBoostingClassifier(n_estimators=80,random_state=400)\n",
    "clf.fit(X_train,y_train)"
   ]
  },
  {
   "cell_type": "code",
   "execution_count": 102,
   "metadata": {},
   "outputs": [
    {
     "data": {
      "text/plain": [
       "0.8705841805962433"
      ]
     },
     "execution_count": 102,
     "metadata": {},
     "output_type": "execute_result"
    }
   ],
   "source": [
    "clf.score(X_test,y_test)"
   ]
  },
  {
   "cell_type": "markdown",
   "metadata": {},
   "source": [
    "# XgBoost"
   ]
  },
  {
   "cell_type": "code",
   "execution_count": 103,
   "metadata": {},
   "outputs": [
    {
     "data": {
      "text/plain": [
       "XGBClassifier(base_score=0.5, booster=None, colsample_bylevel=1,\n",
       "              colsample_bynode=1, colsample_bytree=1, gamma=0, gpu_id=-1,\n",
       "              importance_type='gain', interaction_constraints=None,\n",
       "              learning_rate=0.300000012, max_delta_step=0, max_depth=4,\n",
       "              min_child_weight=1, missing=nan, monotone_constraints=None,\n",
       "              n_estimators=100, n_jobs=0, num_parallel_tree=1,\n",
       "              objective='binary:logistic', random_state=2, reg_alpha=0.2,\n",
       "              reg_lambda=1, scale_pos_weight=1, subsample=1, tree_method=None,\n",
       "              validate_parameters=False, verbosity=None)"
      ]
     },
     "execution_count": 103,
     "metadata": {},
     "output_type": "execute_result"
    }
   ],
   "source": [
    "import xgboost as xg\n",
    "clf=xg.XGBClassifier(objective='binary:logistic',reg_alpha=0.2,max_depth=4,random_state=2) #L1 regularization\n",
    "clf.fit(X_train,y_train)"
   ]
  },
  {
   "cell_type": "code",
   "execution_count": 104,
   "metadata": {},
   "outputs": [
    {
     "data": {
      "text/plain": [
       "0.8704118559365845"
      ]
     },
     "execution_count": 104,
     "metadata": {},
     "output_type": "execute_result"
    }
   ],
   "source": [
    "clf.score(X_test,y_test)"
   ]
  },
  {
   "cell_type": "code",
   "execution_count": 105,
   "metadata": {},
   "outputs": [
    {
     "data": {
      "text/plain": [
       "0.6051676413501976"
      ]
     },
     "execution_count": 105,
     "metadata": {},
     "output_type": "execute_result"
    }
   ],
   "source": [
    "#Area Under the curve\n",
    "from sklearn import metrics\n",
    "metrics.roc_auc_score(y_test,clf.predict_proba(pd.get_dummies(X_test))[:,1])"
   ]
  },
  {
   "cell_type": "markdown",
   "metadata": {},
   "source": [
    "# Logistic"
   ]
  },
  {
   "cell_type": "code",
   "execution_count": 106,
   "metadata": {},
   "outputs": [],
   "source": [
    "train=df4.sample(frac=0.80,random_state=1)\n",
    "test=df4.drop(train.index)"
   ]
  },
  {
   "cell_type": "code",
   "execution_count": 107,
   "metadata": {},
   "outputs": [],
   "source": [
    "import statsmodels.formula.api as smf\n",
    "import statsmodels.api as sm"
   ]
  },
  {
   "cell_type": "code",
   "execution_count": 108,
   "metadata": {},
   "outputs": [
    {
     "name": "stdout",
     "output_type": "stream",
     "text": [
      "                 Generalized Linear Model Regression Results                  \n",
      "==============================================================================\n",
      "Dep. Variable:        purchase_status   No. Observations:                23210\n",
      "Model:                            GLM   Df Residuals:                    23173\n",
      "Model Family:                Binomial   Df Model:                           36\n",
      "Link Function:                  logit   Scale:                          1.0000\n",
      "Method:                          IRLS   Log-Likelihood:                    nan\n",
      "Date:                Tue, 23 Jun 2020   Deviance:                          nan\n",
      "Time:                        11:14:15   Pearson chi2:                 3.09e+19\n",
      "No. Iterations:                   100                                         \n",
      "Covariance Type:            nonrobust                                         \n",
      "============================================================================================\n",
      "                               coef    std err          z      P>|z|      [0.025      0.975]\n",
      "--------------------------------------------------------------------------------------------\n",
      "Intercept                -7.915e+14   3.39e+06  -2.33e+08      0.000   -7.92e+14   -7.92e+14\n",
      "Duration                  9.685e+11   2363.105    4.1e+08      0.000    9.68e+11    9.68e+11\n",
      "BAS_huishoudgrootte      -5.684e+13   8.83e+05  -6.44e+07      0.000   -5.68e+13   -5.68e+13\n",
      "GenderID                  1.801e+14   1.01e+06   1.78e+08      0.000     1.8e+14     1.8e+14\n",
      "BAS_bruto_jaarinkomen     -5.54e+13   2.55e+05  -2.18e+08      0.000   -5.54e+13   -5.54e+13\n",
      "AFG_sk2015                2.219e+14   4.21e+05   5.27e+08      0.000    2.22e+14    2.22e+14\n",
      "MobilePanel_11           -5.686e+14   4.15e+06  -1.37e+08      0.000   -5.69e+14   -5.69e+14\n",
      "MobilePanel_15           -3.168e+13   3.63e+06  -8.73e+06      0.000   -3.17e+13   -3.17e+13\n",
      "MobilePanel_16           -2.404e+14   2.17e+06  -1.11e+08      0.000    -2.4e+14    -2.4e+14\n",
      "MobilePanel_17            1.112e+14   1.55e+06   7.17e+07      0.000    1.11e+14    1.11e+14\n",
      "MobilePanel_18           -9.014e+13   1.36e+06  -6.62e+07      0.000   -9.01e+13   -9.01e+13\n",
      "MobilePanel_19            2.806e+13   2.78e+06   1.01e+07      0.000    2.81e+13    2.81e+13\n",
      "FixedPanel_0             -2.054e+14   1.22e+06  -1.68e+08      0.000   -2.05e+14   -2.05e+14\n",
      "FixedPanel_1              2.493e+13   1.85e+06   1.35e+07      0.000    2.49e+13    2.49e+13\n",
      "FixedPanel_17             -3.49e+14   1.05e+06  -3.34e+08      0.000   -3.49e+14   -3.49e+14\n",
      "FixedPanel_2             -2.275e+12   1.58e+06  -1.44e+06      0.000   -2.27e+12   -2.27e+12\n",
      "FixedPanel_3             -2.597e+14   1.09e+06  -2.39e+08      0.000    -2.6e+14    -2.6e+14\n",
      "SPSS_Regio5_1            -2.917e+14   1.38e+06  -2.11e+08      0.000   -2.92e+14   -2.92e+14\n",
      "SPSS_Regio5_2            -7.163e+13   1.07e+06  -6.72e+07      0.000   -7.16e+13   -7.16e+13\n",
      "SPSS_Regio5_3             2.148e+14   1.26e+06    1.7e+08      0.000    2.15e+14    2.15e+14\n",
      "SPSS_Regio5_4            -3.281e+14   1.15e+06  -2.85e+08      0.000   -3.28e+14   -3.28e+14\n",
      "SPSS_Regio5_5            -3.149e+14   1.11e+06  -2.84e+08      0.000   -3.15e+14   -3.15e+14\n",
      "BAS_werkzaamheid_resp_1   1.947e+14   2.56e+06   7.62e+07      0.000    1.95e+14    1.95e+14\n",
      "BAS_werkzaamheid_resp_2  -1.521e+14   1.77e+06  -8.58e+07      0.000   -1.52e+14   -1.52e+14\n",
      "BAS_werkzaamheid_resp_3  -8.248e+13   2.45e+06  -3.36e+07      0.000   -8.25e+13   -8.25e+13\n",
      "BAS_werkzaamheid_resp_4   7.974e+13   2.05e+06   3.89e+07      0.000    7.97e+13    7.97e+13\n",
      "BAS_werkzaamheid_resp_5   7.484e+13   2.94e+06   2.55e+07      0.000    7.48e+13    7.48e+13\n",
      "BAS_werkzaamheid_resp_6  -5.201e+14   4.33e+06   -1.2e+08      0.000    -5.2e+14    -5.2e+14\n",
      "BAS_werkzaamheid_resp_7   7.512e+13   1.99e+06   3.77e+07      0.000    7.51e+13    7.51e+13\n",
      "BAS_werkzaamheid_resp_8  -4.665e+12   2.84e+06  -1.64e+06      0.000   -4.66e+12   -4.66e+12\n",
      "BAS_werkzaamheid_resp_9  -9.294e+13   2.32e+06  -4.01e+07      0.000   -9.29e+13   -9.29e+13\n",
      "BAS_werkzaamheid_resp_97 -3.637e+14    1.4e+07   -2.6e+07      0.000   -3.64e+14   -3.64e+14\n",
      "SPSS_Lifestage_1          7.108e+14   4.95e+06   1.44e+08      0.000    7.11e+14    7.11e+14\n",
      "SPSS_Lifestage_2          1.909e+14   4.81e+06   3.97e+07      0.000    1.91e+14    1.91e+14\n",
      "SPSS_Lifestage_3          3.784e+14   4.77e+06   7.94e+07      0.000    3.78e+14    3.78e+14\n",
      "SPSS_Lifestage_4          2.665e+14    4.6e+06   5.79e+07      0.000    2.67e+14    2.67e+14\n",
      "SPSS_Lifestage_5          1.051e+15   5.06e+06   2.08e+08      0.000    1.05e+15    1.05e+15\n",
      "SPSS_Lifestage_6          1.003e+15   4.92e+06   2.04e+08      0.000       1e+15       1e+15\n",
      "SPSS_Lifestage_7          2.602e+14   4.82e+06    5.4e+07      0.000     2.6e+14     2.6e+14\n",
      "SPSS_Lifestage_8         -1.947e+14   4.96e+06  -3.92e+07      0.000   -1.95e+14   -1.95e+14\n",
      "SPSS_Lifestage_9          2.787e+14   5.01e+06   5.56e+07      0.000    2.79e+14    2.79e+14\n",
      "SPSS_Lifestage_97        -4.737e+15    4.3e+07   -1.1e+08      0.000   -4.74e+15   -4.74e+15\n",
      "============================================================================================\n"
     ]
    }
   ],
   "source": [
    "glm1=smf.glm('purchase_status~Duration+BAS_huishoudgrootte+GenderID+BAS_bruto_jaarinkomen+AFG_sk2015+MobilePanel_11+MobilePanel_15+MobilePanel_16+MobilePanel_17+MobilePanel_18+MobilePanel_19+FixedPanel_0+FixedPanel_1+FixedPanel_17+FixedPanel_2+FixedPanel_3+SPSS_Regio5_1+SPSS_Regio5_2+SPSS_Regio5_3+SPSS_Regio5_4+SPSS_Regio5_5+BAS_werkzaamheid_resp_1+BAS_werkzaamheid_resp_2+BAS_werkzaamheid_resp_3+BAS_werkzaamheid_resp_4+BAS_werkzaamheid_resp_5+BAS_werkzaamheid_resp_6+BAS_werkzaamheid_resp_7+BAS_werkzaamheid_resp_8+BAS_werkzaamheid_resp_9+BAS_werkzaamheid_resp_97+SPSS_Lifestage_1+SPSS_Lifestage_2+SPSS_Lifestage_3+SPSS_Lifestage_4+SPSS_Lifestage_5+SPSS_Lifestage_6+SPSS_Lifestage_7+SPSS_Lifestage_8+SPSS_Lifestage_9+SPSS_Lifestage_97',data=train,family=sm.families.Binomial()).fit()\n",
    "print(glm1.summary())"
   ]
  },
  {
   "cell_type": "code",
   "execution_count": 109,
   "metadata": {},
   "outputs": [
    {
     "data": {
      "text/plain": [
       "14    0.0\n",
       "15    0.0\n",
       "18    0.0\n",
       "20    0.0\n",
       "27    0.0\n",
       "Name: prob, dtype: float64"
      ]
     },
     "execution_count": 109,
     "metadata": {},
     "output_type": "execute_result"
    }
   ],
   "source": [
    "test['prob']=glm1.predict(test)\n",
    "test['prob'].head()"
   ]
  },
  {
   "cell_type": "code",
   "execution_count": 110,
   "metadata": {},
   "outputs": [
    {
     "data": {
      "text/plain": [
       "0.47525118140631895"
      ]
     },
     "execution_count": 110,
     "metadata": {},
     "output_type": "execute_result"
    }
   ],
   "source": [
    "# AUC\n",
    "from sklearn import metrics\n",
    "metrics.roc_auc_score(test['purchase_status'],test['prob'])"
   ]
  },
  {
   "cell_type": "code",
   "execution_count": 111,
   "metadata": {},
   "outputs": [],
   "source": [
    "# df3.to_csv(r'df3.csv')"
   ]
  },
  {
   "cell_type": "code",
   "execution_count": 112,
   "metadata": {},
   "outputs": [
    {
     "name": "stdout",
     "output_type": "stream",
     "text": [
      "                 Generalized Linear Model Regression Results                  \n",
      "==============================================================================\n",
      "Dep. Variable:        purchase_status   No. Observations:                23210\n",
      "Model:                            GLM   Df Residuals:                    23173\n",
      "Model Family:                Binomial   Df Model:                           36\n",
      "Link Function:                  logit   Scale:                          1.0000\n",
      "Method:                          IRLS   Log-Likelihood:                -8568.8\n",
      "Date:                Tue, 23 Jun 2020   Deviance:                       17138.\n",
      "Time:                        11:14:17   Pearson chi2:                 2.32e+04\n",
      "No. Iterations:                    19                                         \n",
      "Covariance Type:            nonrobust                                         \n",
      "============================================================================================\n",
      "                               coef    std err          z      P>|z|      [0.025      0.975]\n",
      "--------------------------------------------------------------------------------------------\n",
      "Intercept                   -1.3935      0.143     -9.745      0.000      -1.674      -1.113\n",
      "Duration                     0.0008   9.74e-05      7.951      0.000       0.001       0.001\n",
      "BAS_huishoudgrootte         -0.0137      0.039     -0.348      0.728      -0.091       0.064\n",
      "GenderID                    -0.0790      0.045     -1.753      0.080      -0.167       0.009\n",
      "BAS_bruto_jaarinkomen        0.0387      0.012      3.356      0.001       0.016       0.061\n",
      "AFG_sk2015                  -0.1359      0.019     -7.091      0.000      -0.174      -0.098\n",
      "MobilePanel_11               0.5504      0.201      2.740      0.006       0.157       0.944\n",
      "MobilePanel_15               0.0256      0.216      0.119      0.906      -0.397       0.448\n",
      "MobilePanel_16               0.2292      0.111      2.060      0.039       0.011       0.447\n",
      "MobilePanel_18               0.2013      0.062      3.265      0.001       0.080       0.322\n",
      "MobilePanel_19              -0.0445      0.163     -0.273      0.785      -0.363       0.274\n",
      "FixedPanel_0                -0.5545      0.059     -9.470      0.000      -0.669      -0.440\n",
      "FixedPanel_1                -0.3128      0.087     -3.600      0.000      -0.483      -0.142\n",
      "FixedPanel_17               -0.0587      0.045     -1.309      0.190      -0.146       0.029\n",
      "FixedPanel_2                -0.2794      0.072     -3.870      0.000      -0.421      -0.138\n",
      "FixedPanel_3                -0.1881      0.048     -3.953      0.000      -0.281      -0.095\n",
      "SPSS_Regio5_1               -0.1877      0.060     -3.139      0.002      -0.305      -0.071\n",
      "SPSS_Regio5_2               -0.2910      0.047     -6.249      0.000      -0.382      -0.200\n",
      "SPSS_Regio5_3               -0.4147      0.059     -6.988      0.000      -0.531      -0.298\n",
      "SPSS_Regio5_4               -0.2876      0.050     -5.703      0.000      -0.386      -0.189\n",
      "SPSS_Regio5_5               -0.2125      0.047     -4.490      0.000      -0.305      -0.120\n",
      "BAS_werkzaamheid_resp_1     -0.3130      0.101     -3.100      0.002      -0.511      -0.115\n",
      "BAS_werkzaamheid_resp_3      0.1281      0.085      1.511      0.131      -0.038       0.294\n",
      "BAS_werkzaamheid_resp_4     -0.2620      0.078     -3.369      0.001      -0.414      -0.110\n",
      "BAS_werkzaamheid_resp_5     -0.0685      0.130     -0.526      0.599      -0.324       0.187\n",
      "BAS_werkzaamheid_resp_6     -0.6373      0.292     -2.181      0.029      -1.210      -0.064\n",
      "BAS_werkzaamheid_resp_7     -0.2349      0.070     -3.377      0.001      -0.371      -0.099\n",
      "BAS_werkzaamheid_resp_8     -0.4168      0.133     -3.139      0.002      -0.677      -0.157\n",
      "BAS_werkzaamheid_resp_9     -0.4201      0.099     -4.232      0.000      -0.615      -0.226\n",
      "BAS_werkzaamheid_resp_97    -1.1659      1.033     -1.129      0.259      -3.190       0.858\n",
      "SPSS_Lifestage_1            -0.0241      0.159     -0.151      0.880      -0.336       0.288\n",
      "SPSS_Lifestage_2            -0.2820      0.151     -1.862      0.063      -0.579       0.015\n",
      "SPSS_Lifestage_3             0.0854      0.125      0.685      0.493      -0.159       0.330\n",
      "SPSS_Lifestage_4             0.2039      0.111      1.840      0.066      -0.013       0.421\n",
      "SPSS_Lifestage_5            -0.0859      0.111     -0.772      0.440      -0.304       0.132\n",
      "SPSS_Lifestage_7             0.2554      0.091      2.821      0.005       0.078       0.433\n",
      "SPSS_Lifestage_8             0.2273      0.111      2.039      0.041       0.009       0.446\n",
      "SPSS_Lifestage_9             0.2515      0.130      1.928      0.054      -0.004       0.507\n",
      "SPSS_Lifestage_97          -17.3689   1.25e+04     -0.001      0.999   -2.46e+04    2.46e+04\n",
      "============================================================================================\n"
     ]
    }
   ],
   "source": [
    "glm2=smf.glm('purchase_status~Duration+BAS_huishoudgrootte+GenderID+BAS_bruto_jaarinkomen+AFG_sk2015+MobilePanel_11+MobilePanel_15+MobilePanel_16+MobilePanel_18+MobilePanel_19+FixedPanel_0+FixedPanel_1+FixedPanel_17+FixedPanel_2+FixedPanel_3+SPSS_Regio5_1+SPSS_Regio5_2+SPSS_Regio5_3+SPSS_Regio5_4+SPSS_Regio5_5+BAS_werkzaamheid_resp_1+BAS_werkzaamheid_resp_3+BAS_werkzaamheid_resp_4+BAS_werkzaamheid_resp_5+BAS_werkzaamheid_resp_6+BAS_werkzaamheid_resp_7+BAS_werkzaamheid_resp_8+BAS_werkzaamheid_resp_9+BAS_werkzaamheid_resp_97+SPSS_Lifestage_1+SPSS_Lifestage_2+SPSS_Lifestage_3+SPSS_Lifestage_4+SPSS_Lifestage_5+SPSS_Lifestage_7+SPSS_Lifestage_8+SPSS_Lifestage_9+SPSS_Lifestage_97',data=train,family=sm.families.Binomial()).fit()\n",
    "print(glm2.summary())"
   ]
  },
  {
   "cell_type": "code",
   "execution_count": 113,
   "metadata": {},
   "outputs": [
    {
     "name": "stdout",
     "output_type": "stream",
     "text": [
      "                 Generalized Linear Model Regression Results                  \n",
      "==============================================================================\n",
      "Dep. Variable:        purchase_status   No. Observations:                23210\n",
      "Model:                            GLM   Df Residuals:                    23186\n",
      "Model Family:                Binomial   Df Model:                           23\n",
      "Link Function:                  logit   Scale:                          1.0000\n",
      "Method:                          IRLS   Log-Likelihood:                -8597.5\n",
      "Date:                Tue, 23 Jun 2020   Deviance:                       17195.\n",
      "Time:                        11:14:18   Pearson chi2:                 2.32e+04\n",
      "No. Iterations:                     6                                         \n",
      "Covariance Type:            nonrobust                                         \n",
      "===========================================================================================\n",
      "                              coef    std err          z      P>|z|      [0.025      0.975]\n",
      "-------------------------------------------------------------------------------------------\n",
      "Intercept                  -1.5394      0.080    -19.290      0.000      -1.696      -1.383\n",
      "Duration                    0.0008   9.72e-05      7.786      0.000       0.001       0.001\n",
      "BAS_bruto_jaarinkomen       0.0542      0.011      5.017      0.000       0.033       0.075\n",
      "AFG_sk2015                 -0.1389      0.018     -7.555      0.000      -0.175      -0.103\n",
      "MobilePanel_11              0.5658      0.199      2.836      0.005       0.175       0.957\n",
      "MobilePanel_16              0.2320      0.109      2.135      0.033       0.019       0.445\n",
      "MobilePanel_18              0.2038      0.057      3.557      0.000       0.092       0.316\n",
      "FixedPanel_0               -0.4982      0.065     -7.669      0.000      -0.626      -0.371\n",
      "FixedPanel_1               -0.2579      0.101     -2.552      0.011      -0.456      -0.060\n",
      "FixedPanel_2               -0.2146      0.081     -2.649      0.008      -0.373      -0.056\n",
      "FixedPanel_3               -0.1276      0.047     -2.721      0.007      -0.219      -0.036\n",
      "SPSS_Regio5_1              -0.2378      0.055     -4.339      0.000      -0.345      -0.130\n",
      "SPSS_Regio5_2              -0.3361      0.041     -8.259      0.000      -0.416      -0.256\n",
      "SPSS_Regio5_3              -0.4036      0.051     -7.884      0.000      -0.504      -0.303\n",
      "SPSS_Regio5_4              -0.3221      0.044     -7.316      0.000      -0.408      -0.236\n",
      "SPSS_Regio5_5              -0.2398      0.042     -5.725      0.000      -0.322      -0.158\n",
      "BAS_werkzaamheid_resp_1    -0.3171      0.099     -3.192      0.001      -0.512      -0.122\n",
      "BAS_werkzaamheid_resp_4    -0.1877      0.069     -2.725      0.006      -0.323      -0.053\n",
      "BAS_werkzaamheid_resp_6    -0.7245      0.291     -2.492      0.013      -1.294      -0.155\n",
      "BAS_werkzaamheid_resp_7    -0.1541      0.059     -2.593      0.010      -0.271      -0.038\n",
      "BAS_werkzaamheid_resp_8    -0.4084      0.130     -3.135      0.002      -0.664      -0.153\n",
      "BAS_werkzaamheid_resp_9    -0.4007      0.096     -4.189      0.000      -0.588      -0.213\n",
      "SPSS_Lifestage_7            0.1914      0.068      2.810      0.005       0.058       0.325\n",
      "SPSS_Lifestage_8            0.1903      0.092      2.072      0.038       0.010       0.370\n",
      "SPSS_Lifestage_9            0.2057      0.105      1.962      0.050       0.000       0.411\n",
      "===========================================================================================\n"
     ]
    }
   ],
   "source": [
    "glm3=smf.glm('purchase_status~Duration+BAS_bruto_jaarinkomen+AFG_sk2015+MobilePanel_11+MobilePanel_16+MobilePanel_18+FixedPanel_0+FixedPanel_1+FixedPanel_2+FixedPanel_3+SPSS_Regio5_1+SPSS_Regio5_2+SPSS_Regio5_3+SPSS_Regio5_4+SPSS_Regio5_5+BAS_werkzaamheid_resp_1+BAS_werkzaamheid_resp_4+BAS_werkzaamheid_resp_6+BAS_werkzaamheid_resp_7+BAS_werkzaamheid_resp_8+BAS_werkzaamheid_resp_9+SPSS_Lifestage_7+SPSS_Lifestage_8+SPSS_Lifestage_9',data=train,family=sm.families.Binomial()).fit()\n",
    "print(glm3.summary())"
   ]
  },
  {
   "cell_type": "code",
   "execution_count": 114,
   "metadata": {},
   "outputs": [
    {
     "data": {
      "text/plain": [
       "14    0.141549\n",
       "15    0.133732\n",
       "18    0.134131\n",
       "20    0.133825\n",
       "27    0.127918\n",
       "Name: prob, dtype: float64"
      ]
     },
     "execution_count": 114,
     "metadata": {},
     "output_type": "execute_result"
    }
   ],
   "source": [
    "test['prob']=glm3.predict(test)\n",
    "test['prob'].head()"
   ]
  },
  {
   "cell_type": "code",
   "execution_count": 115,
   "metadata": {},
   "outputs": [
    {
     "data": {
      "text/plain": [
       "0.6088165097821292"
      ]
     },
     "execution_count": 115,
     "metadata": {},
     "output_type": "execute_result"
    }
   ],
   "source": [
    "# AUC\n",
    "from sklearn import metrics\n",
    "metrics.roc_auc_score(test['purchase_status'],test['prob'])"
   ]
  },
  {
   "cell_type": "code",
   "execution_count": 116,
   "metadata": {},
   "outputs": [
    {
     "name": "stdout",
     "output_type": "stream",
     "text": [
      "                 Generalized Linear Model Regression Results                  \n",
      "==============================================================================\n",
      "Dep. Variable:        purchase_status   No. Observations:                23210\n",
      "Model:                            GLM   Df Residuals:                    23190\n",
      "Model Family:                Binomial   Df Model:                           19\n",
      "Link Function:                  logit   Scale:                          1.0000\n",
      "Method:                          IRLS   Log-Likelihood:                -8601.3\n",
      "Date:                Tue, 23 Jun 2020   Deviance:                       17203.\n",
      "Time:                        11:14:19   Pearson chi2:                 2.32e+04\n",
      "No. Iterations:                     6                                         \n",
      "Covariance Type:            nonrobust                                         \n",
      "===========================================================================================\n",
      "                              coef    std err          z      P>|z|      [0.025      0.975]\n",
      "-------------------------------------------------------------------------------------------\n",
      "Intercept                  -1.8495      0.096    -19.354      0.000      -2.037      -1.662\n",
      "Duration                    0.0008   9.72e-05      7.782      0.000       0.001       0.001\n",
      "BAS_bruto_jaarinkomen       0.0546      0.011      5.061      0.000       0.033       0.076\n",
      "AFG_sk2015                 -0.1369      0.018     -7.447      0.000      -0.173      -0.101\n",
      "MobilePanel_11              0.5587      0.199      2.801      0.005       0.168       0.950\n",
      "MobilePanel_16              0.2295      0.109      2.114      0.035       0.017       0.442\n",
      "MobilePanel_18              0.2020      0.057      3.528      0.000       0.090       0.314\n",
      "FixedPanel_0               -0.5051      0.065     -7.783      0.000      -0.632      -0.378\n",
      "FixedPanel_1               -0.2589      0.101     -2.562      0.010      -0.457      -0.061\n",
      "FixedPanel_2               -0.2170      0.081     -2.680      0.007      -0.376      -0.058\n",
      "FixedPanel_3               -0.1263      0.047     -2.696      0.007      -0.218      -0.034\n",
      "BAS_werkzaamheid_resp_1    -0.3143      0.099     -3.166      0.002      -0.509      -0.120\n",
      "BAS_werkzaamheid_resp_4    -0.2568      0.058     -4.404      0.000      -0.371      -0.143\n",
      "BAS_werkzaamheid_resp_6    -0.7230      0.291     -2.487      0.013      -1.293      -0.153\n",
      "BAS_werkzaamheid_resp_7    -0.1482      0.059     -2.500      0.012      -0.264      -0.032\n",
      "BAS_werkzaamheid_resp_8    -0.4163      0.130     -3.199      0.001      -0.671      -0.161\n",
      "BAS_werkzaamheid_resp_9    -0.4075      0.096     -4.263      0.000      -0.595      -0.220\n",
      "SPSS_Lifestage_7            0.1986      0.068      2.920      0.004       0.065       0.332\n",
      "SPSS_Lifestage_8            0.1914      0.092      2.086      0.037       0.012       0.371\n",
      "SPSS_Lifestage_9            0.2104      0.105      2.010      0.044       0.005       0.416\n",
      "===========================================================================================\n"
     ]
    }
   ],
   "source": [
    "glm4=smf.glm('purchase_status~Duration+BAS_bruto_jaarinkomen+AFG_sk2015+MobilePanel_11+MobilePanel_16+MobilePanel_18+FixedPanel_0+FixedPanel_1+FixedPanel_2+FixedPanel_3+BAS_werkzaamheid_resp_1+BAS_werkzaamheid_resp_4+BAS_werkzaamheid_resp_6+BAS_werkzaamheid_resp_7+BAS_werkzaamheid_resp_8+BAS_werkzaamheid_resp_9+SPSS_Lifestage_7+SPSS_Lifestage_8+SPSS_Lifestage_9',data=train,family=sm.families.Binomial()).fit()\n",
    "print(glm4.summary())"
   ]
  },
  {
   "cell_type": "code",
   "execution_count": 117,
   "metadata": {},
   "outputs": [
    {
     "data": {
      "text/plain": [
       "14    0.143780\n",
       "15    0.135865\n",
       "18    0.136270\n",
       "20    0.135960\n",
       "27    0.129663\n",
       "Name: prob, dtype: float64"
      ]
     },
     "execution_count": 117,
     "metadata": {},
     "output_type": "execute_result"
    }
   ],
   "source": [
    "test['prob']=glm4.predict(test)\n",
    "test['prob'].head()"
   ]
  },
  {
   "cell_type": "code",
   "execution_count": 118,
   "metadata": {},
   "outputs": [
    {
     "data": {
      "text/plain": [
       "0.6095485256812705"
      ]
     },
     "execution_count": 118,
     "metadata": {},
     "output_type": "execute_result"
    }
   ],
   "source": [
    "# AUC\n",
    "from sklearn import metrics\n",
    "metrics.roc_auc_score(test['purchase_status'],test['prob'])"
   ]
  },
  {
   "cell_type": "code",
   "execution_count": 119,
   "metadata": {},
   "outputs": [],
   "source": [
    "#ROC\n",
    "fpr,tpr,thresholds=metrics.roc_curve(test['purchase_status'],test['prob'])\n",
    "x,y=np.arange(0,1.1,0.1),np.arange(0,1.1,0.1)"
   ]
  },
  {
   "cell_type": "code",
   "execution_count": 120,
   "metadata": {},
   "outputs": [
    {
     "data": {
      "text/plain": [
       "Text(0.5, 1.0, 'ROC Curve')"
      ]
     },
     "execution_count": 120,
     "metadata": {},
     "output_type": "execute_result"
    },
    {
     "data": {
      "image/png": "[encoded data removed]",
      "text/plain": [
       "<Figure size 432x288 with 1 Axes>"
      ]
     },
     "metadata": {
      "needs_background": "light"
     },
     "output_type": "display_data"
    }
   ],
   "source": [
    "plt.plot(fpr,tpr)\n",
    "plt.plot(x,y,'b--')\n",
    "plt.title(\"ROC Curve\")"
   ]
  },
  {
   "cell_type": "code",
   "execution_count": 121,
   "metadata": {},
   "outputs": [
    {
     "data": {
      "text/html": [
       "<div>\n",
       "<style scoped>\n",
       "    .dataframe tbody tr th:only-of-type {\n",
       "        vertical-align: middle;\n",
       "    }\n",
       "\n",
       "    .dataframe tbody tr th {\n",
       "        vertical-align: top;\n",
       "    }\n",
       "\n",
       "    .dataframe thead th {\n",
       "        text-align: right;\n",
       "    }\n",
       "</style>\n",
       "<table border=\"1\" class=\"dataframe\">\n",
       "  <thead>\n",
       "    <tr style=\"text-align: right;\">\n",
       "      <th></th>\n",
       "      <th>Features</th>\n",
       "      <th>vif</th>\n",
       "    </tr>\n",
       "  </thead>\n",
       "  <tbody>\n",
       "    <tr>\n",
       "      <th>0</th>\n",
       "      <td>Intercept</td>\n",
       "      <td>23.117748</td>\n",
       "    </tr>\n",
       "    <tr>\n",
       "      <th>1</th>\n",
       "      <td>Duration</td>\n",
       "      <td>1.024509</td>\n",
       "    </tr>\n",
       "    <tr>\n",
       "      <th>2</th>\n",
       "      <td>BAS_bruto_jaarinkomen</td>\n",
       "      <td>1.151725</td>\n",
       "    </tr>\n",
       "    <tr>\n",
       "      <th>3</th>\n",
       "      <td>AFG_sk2015</td>\n",
       "      <td>1.308921</td>\n",
       "    </tr>\n",
       "    <tr>\n",
       "      <th>4</th>\n",
       "      <td>MobilePanel_11</td>\n",
       "      <td>1.040680</td>\n",
       "    </tr>\n",
       "    <tr>\n",
       "      <th>5</th>\n",
       "      <td>MobilePanel_16</td>\n",
       "      <td>1.179808</td>\n",
       "    </tr>\n",
       "    <tr>\n",
       "      <th>6</th>\n",
       "      <td>MobilePanel_18</td>\n",
       "      <td>1.359439</td>\n",
       "    </tr>\n",
       "    <tr>\n",
       "      <th>7</th>\n",
       "      <td>FixedPanel_0</td>\n",
       "      <td>1.329146</td>\n",
       "    </tr>\n",
       "    <tr>\n",
       "      <th>8</th>\n",
       "      <td>FixedPanel_1</td>\n",
       "      <td>1.073660</td>\n",
       "    </tr>\n",
       "    <tr>\n",
       "      <th>9</th>\n",
       "      <td>FixedPanel_2</td>\n",
       "      <td>1.103039</td>\n",
       "    </tr>\n",
       "    <tr>\n",
       "      <th>10</th>\n",
       "      <td>FixedPanel_3</td>\n",
       "      <td>1.245924</td>\n",
       "    </tr>\n",
       "    <tr>\n",
       "      <th>11</th>\n",
       "      <td>BAS_werkzaamheid_resp_1</td>\n",
       "      <td>1.085847</td>\n",
       "    </tr>\n",
       "    <tr>\n",
       "      <th>12</th>\n",
       "      <td>BAS_werkzaamheid_resp_4</td>\n",
       "      <td>1.262868</td>\n",
       "    </tr>\n",
       "    <tr>\n",
       "      <th>13</th>\n",
       "      <td>BAS_werkzaamheid_resp_6</td>\n",
       "      <td>1.058997</td>\n",
       "    </tr>\n",
       "    <tr>\n",
       "      <th>14</th>\n",
       "      <td>BAS_werkzaamheid_resp_7</td>\n",
       "      <td>1.353519</td>\n",
       "    </tr>\n",
       "    <tr>\n",
       "      <th>15</th>\n",
       "      <td>BAS_werkzaamheid_resp_8</td>\n",
       "      <td>1.068466</td>\n",
       "    </tr>\n",
       "    <tr>\n",
       "      <th>16</th>\n",
       "      <td>BAS_werkzaamheid_resp_9</td>\n",
       "      <td>1.122923</td>\n",
       "    </tr>\n",
       "    <tr>\n",
       "      <th>17</th>\n",
       "      <td>SPSS_Lifestage_7</td>\n",
       "      <td>1.098627</td>\n",
       "    </tr>\n",
       "    <tr>\n",
       "      <th>18</th>\n",
       "      <td>SPSS_Lifestage_8</td>\n",
       "      <td>1.043981</td>\n",
       "    </tr>\n",
       "    <tr>\n",
       "      <th>19</th>\n",
       "      <td>SPSS_Lifestage_9</td>\n",
       "      <td>1.021302</td>\n",
       "    </tr>\n",
       "  </tbody>\n",
       "</table>\n",
       "</div>"
      ],
      "text/plain": [
       "                   Features        vif\n",
       "0                 Intercept  23.117748\n",
       "1                  Duration   1.024509\n",
       "2     BAS_bruto_jaarinkomen   1.151725\n",
       "3                AFG_sk2015   1.308921\n",
       "4            MobilePanel_11   1.040680\n",
       "5            MobilePanel_16   1.179808\n",
       "6            MobilePanel_18   1.359439\n",
       "7              FixedPanel_0   1.329146\n",
       "8              FixedPanel_1   1.073660\n",
       "9              FixedPanel_2   1.103039\n",
       "10             FixedPanel_3   1.245924\n",
       "11  BAS_werkzaamheid_resp_1   1.085847\n",
       "12  BAS_werkzaamheid_resp_4   1.262868\n",
       "13  BAS_werkzaamheid_resp_6   1.058997\n",
       "14  BAS_werkzaamheid_resp_7   1.353519\n",
       "15  BAS_werkzaamheid_resp_8   1.068466\n",
       "16  BAS_werkzaamheid_resp_9   1.122923\n",
       "17         SPSS_Lifestage_7   1.098627\n",
       "18         SPSS_Lifestage_8   1.043981\n",
       "19         SPSS_Lifestage_9   1.021302"
      ]
     },
     "execution_count": 121,
     "metadata": {},
     "output_type": "execute_result"
    }
   ],
   "source": [
    "#Multicollinearity check\n",
    "from statsmodels.stats.outliers_influence import variance_inflation_factor\n",
    "idv = glm4.model.exog\n",
    "vif = [variance_inflation_factor(idv, i) for i in range(idv.shape[1])]\n",
    "\n",
    "pd.DataFrame({'Features':glm4.model.exog_names,'vif':vif})"
   ]
  },
  {
   "cell_type": "code",
   "execution_count": null,
   "metadata": {},
   "outputs": [],
   "source": []
  }
 ],
 "metadata": {
  "kernelspec": {
   "display_name": "Python 3",
   "language": "python",
   "name": "python3"
  },
  "language_info": {
   "codemirror_mode": {
    "name": "ipython",
    "version": 3
   },
   "file_extension": ".py",
   "mimetype": "text/x-python",
   "name": "python",
   "nbconvert_exporter": "python",
   "pygments_lexer": "ipython3",
   "version": "3.7.4"
  }
 },
 "nbformat": 4,
 "nbformat_minor": 2
}
