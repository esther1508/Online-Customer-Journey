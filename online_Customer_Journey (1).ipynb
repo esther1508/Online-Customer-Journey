{
 "cells": [
  {
   "cell_type": "code",
   "execution_count": 1,
   "metadata": {},
   "outputs": [],
   "source": [
    "#import libraries \n",
    "import pandas as pd\n",
    "import numpy as np\n",
    "import warnings\n",
    "warnings.filterwarnings('ignore')\n",
    "import matplotlib.pyplot as plt\n",
    "import seaborn as sb"
   ]
  },
  {
   "cell_type": "markdown",
   "metadata": {},
   "source": [
    "# Cleaning dataset TravelData"
   ]
  },
  {
   "cell_type": "code",
   "execution_count": 2,
   "metadata": {},
   "outputs": [],
   "source": [
    "#read the data in csv format\n",
    "df1=pd.read_csv(\"C:\\\\Users\\\\LILLY GRACE\\\\Downloads\\\\Data Purchase Journey Travel\\\\TravelData.csv\",na_values=['nan'])"
   ]
  },
  {
   "cell_type": "code",
   "execution_count": 3,
   "metadata": {},
   "outputs": [
    {
     "data": {
      "text/plain": [
       "(2456414, 10)"
      ]
     },
     "execution_count": 3,
     "metadata": {},
     "output_type": "execute_result"
    }
   ],
   "source": [
    "df1.shape"
   ]
  },
  {
   "cell_type": "code",
   "execution_count": 4,
   "metadata": {
    "scrolled": true
   },
   "outputs": [
    {
     "data": {
      "text/html": [
       "<div>\n",
       "<style scoped>\n",
       "    .dataframe tbody tr th:only-of-type {\n",
       "        vertical-align: middle;\n",
       "    }\n",
       "\n",
       "    .dataframe tbody tr th {\n",
       "        vertical-align: top;\n",
       "    }\n",
       "\n",
       "    .dataframe thead th {\n",
       "        text-align: right;\n",
       "    }\n",
       "</style>\n",
       "<table border=\"1\" class=\"dataframe\">\n",
       "  <thead>\n",
       "    <tr style=\"text-align: right;\">\n",
       "      <th></th>\n",
       "      <th>UserID</th>\n",
       "      <th>PurchaseID</th>\n",
       "      <th>TIMESPSS</th>\n",
       "      <th>Duration</th>\n",
       "      <th>DEVICE_TYPE</th>\n",
       "      <th>type_touch</th>\n",
       "      <th>purchase_own</th>\n",
       "      <th>purchase_any</th>\n",
       "      <th>MobilePanel</th>\n",
       "      <th>FixedPanel</th>\n",
       "    </tr>\n",
       "  </thead>\n",
       "  <tbody>\n",
       "    <tr>\n",
       "      <th>0</th>\n",
       "      <td>9558</td>\n",
       "      <td>1</td>\n",
       "      <td>2016-03-12 22:18:34</td>\n",
       "      <td>5.786</td>\n",
       "      <td>MOBILE</td>\n",
       "      <td>7</td>\n",
       "      <td>0</td>\n",
       "      <td>0</td>\n",
       "      <td>0</td>\n",
       "      <td>0</td>\n",
       "    </tr>\n",
       "    <tr>\n",
       "      <th>1</th>\n",
       "      <td>9558</td>\n",
       "      <td>1</td>\n",
       "      <td>2016-03-13 05:25:49</td>\n",
       "      <td>65.725</td>\n",
       "      <td>MOBILE</td>\n",
       "      <td>7</td>\n",
       "      <td>0</td>\n",
       "      <td>0</td>\n",
       "      <td>0</td>\n",
       "      <td>0</td>\n",
       "    </tr>\n",
       "    <tr>\n",
       "      <th>2</th>\n",
       "      <td>9558</td>\n",
       "      <td>1</td>\n",
       "      <td>2016-03-13 12:26:21</td>\n",
       "      <td>6.492</td>\n",
       "      <td>MOBILE</td>\n",
       "      <td>7</td>\n",
       "      <td>0</td>\n",
       "      <td>0</td>\n",
       "      <td>0</td>\n",
       "      <td>0</td>\n",
       "    </tr>\n",
       "    <tr>\n",
       "      <th>3</th>\n",
       "      <td>9657</td>\n",
       "      <td>2</td>\n",
       "      <td>2015-07-18 13:00:38</td>\n",
       "      <td>57.000</td>\n",
       "      <td>FIXED</td>\n",
       "      <td>4</td>\n",
       "      <td>0</td>\n",
       "      <td>0</td>\n",
       "      <td>0</td>\n",
       "      <td>0</td>\n",
       "    </tr>\n",
       "    <tr>\n",
       "      <th>4</th>\n",
       "      <td>1</td>\n",
       "      <td>3</td>\n",
       "      <td>2015-08-07 19:16:59</td>\n",
       "      <td>120.000</td>\n",
       "      <td>FIXED</td>\n",
       "      <td>7</td>\n",
       "      <td>0</td>\n",
       "      <td>0</td>\n",
       "      <td>0</td>\n",
       "      <td>17</td>\n",
       "    </tr>\n",
       "  </tbody>\n",
       "</table>\n",
       "</div>"
      ],
      "text/plain": [
       "   UserID  PurchaseID             TIMESPSS  Duration DEVICE_TYPE  type_touch  \\\n",
       "0    9558           1  2016-03-12 22:18:34     5.786      MOBILE           7   \n",
       "1    9558           1  2016-03-13 05:25:49    65.725      MOBILE           7   \n",
       "2    9558           1  2016-03-13 12:26:21     6.492      MOBILE           7   \n",
       "3    9657           2  2015-07-18 13:00:38    57.000       FIXED           4   \n",
       "4       1           3  2015-08-07 19:16:59   120.000       FIXED           7   \n",
       "\n",
       "   purchase_own  purchase_any  MobilePanel  FixedPanel  \n",
       "0             0             0            0           0  \n",
       "1             0             0            0           0  \n",
       "2             0             0            0           0  \n",
       "3             0             0            0           0  \n",
       "4             0             0            0          17  "
      ]
     },
     "execution_count": 4,
     "metadata": {},
     "output_type": "execute_result"
    }
   ],
   "source": [
    "df1.head()"
   ]
  },
  {
   "cell_type": "code",
   "execution_count": 5,
   "metadata": {
    "scrolled": true
   },
   "outputs": [
    {
     "data": {
      "text/plain": [
       "UserID               0\n",
       "PurchaseID           0\n",
       "TIMESPSS             0\n",
       "Duration        141065\n",
       "DEVICE_TYPE          0\n",
       "type_touch           0\n",
       "purchase_own         0\n",
       "purchase_any         0\n",
       "MobilePanel          0\n",
       "FixedPanel           0\n",
       "dtype: int64"
      ]
     },
     "execution_count": 5,
     "metadata": {},
     "output_type": "execute_result"
    }
   ],
   "source": [
    "df1.isnull().sum()\n"
   ]
  },
  {
   "cell_type": "code",
   "execution_count": 6,
   "metadata": {},
   "outputs": [],
   "source": [
    "df1['Duration'].fillna(0,inplace=True)"
   ]
  },
  {
   "cell_type": "code",
   "execution_count": 7,
   "metadata": {},
   "outputs": [
    {
     "data": {
      "text/plain": [
       "UserID          0\n",
       "PurchaseID      0\n",
       "TIMESPSS        0\n",
       "Duration        0\n",
       "DEVICE_TYPE     0\n",
       "type_touch      0\n",
       "purchase_own    0\n",
       "purchase_any    0\n",
       "MobilePanel     0\n",
       "FixedPanel      0\n",
       "dtype: int64"
      ]
     },
     "execution_count": 7,
     "metadata": {},
     "output_type": "execute_result"
    }
   ],
   "source": [
    "df1.isnull().sum()"
   ]
  },
  {
   "cell_type": "code",
   "execution_count": 8,
   "metadata": {
    "scrolled": true
   },
   "outputs": [
    {
     "data": {
      "text/plain": [
       "1     903588\n",
       "7     719424\n",
       "13    213331\n",
       "4     194343\n",
       "10    179816\n",
       "16     57776\n",
       "2      49145\n",
       "5      45845\n",
       "22     34916\n",
       "14     20929\n",
       "8       8491\n",
       "15      7518\n",
       "3       7443\n",
       "9       3404\n",
       "20      2835\n",
       "21      1929\n",
       "19      1809\n",
       "6       1758\n",
       "18      1580\n",
       "12       534\n",
       "Name: type_touch, dtype: int64"
      ]
     },
     "execution_count": 8,
     "metadata": {},
     "output_type": "execute_result"
    }
   ],
   "source": [
    "df1['type_touch'].value_counts()"
   ]
  },
  {
   "cell_type": "code",
   "execution_count": 9,
   "metadata": {},
   "outputs": [
    {
     "data": {
      "text/plain": [
       "(43069, 10)"
      ]
     },
     "execution_count": 9,
     "metadata": {},
     "output_type": "execute_result"
    }
   ],
   "source": [
    "df1[(df1['type_touch']>=18) & (df1['type_touch']<23) ].shape"
   ]
  },
  {
   "cell_type": "code",
   "execution_count": 10,
   "metadata": {},
   "outputs": [
    {
     "data": {
      "text/plain": [
       "(2456414, 10)"
      ]
     },
     "execution_count": 10,
     "metadata": {},
     "output_type": "execute_result"
    }
   ],
   "source": [
    "df1.shape"
   ]
  },
  {
   "cell_type": "code",
   "execution_count": 11,
   "metadata": {},
   "outputs": [
    {
     "data": {
      "text/plain": [
       "9678"
      ]
     },
     "execution_count": 11,
     "metadata": {},
     "output_type": "execute_result"
    }
   ],
   "source": [
    "len(df1['UserID'].unique())"
   ]
  },
  {
   "cell_type": "code",
   "execution_count": 12,
   "metadata": {
    "scrolled": true
   },
   "outputs": [
    {
     "data": {
      "text/plain": [
       "UserID          0.0\n",
       "PurchaseID      0.0\n",
       "TIMESPSS        0.0\n",
       "Duration        0.0\n",
       "DEVICE_TYPE     0.0\n",
       "type_touch      0.0\n",
       "purchase_own    0.0\n",
       "purchase_any    0.0\n",
       "MobilePanel     0.0\n",
       "FixedPanel      0.0\n",
       "dtype: float64"
      ]
     },
     "execution_count": 12,
     "metadata": {},
     "output_type": "execute_result"
    }
   ],
   "source": [
    "df1.isnull().sum()/df1.shape[0]"
   ]
  },
  {
   "cell_type": "code",
   "execution_count": 13,
   "metadata": {},
   "outputs": [],
   "source": [
    "#null values are 5% of data so its been removed\n"
   ]
  },
  {
   "cell_type": "code",
   "execution_count": 14,
   "metadata": {
    "scrolled": false
   },
   "outputs": [
    {
     "data": {
      "text/plain": [
       "UserID            int64\n",
       "PurchaseID        int64\n",
       "TIMESPSS         object\n",
       "Duration        float64\n",
       "DEVICE_TYPE      object\n",
       "type_touch        int64\n",
       "purchase_own      int64\n",
       "purchase_any      int64\n",
       "MobilePanel       int64\n",
       "FixedPanel        int64\n",
       "dtype: object"
      ]
     },
     "execution_count": 14,
     "metadata": {},
     "output_type": "execute_result"
    }
   ],
   "source": [
    "df1.dtypes"
   ]
  },
  {
   "cell_type": "code",
   "execution_count": 15,
   "metadata": {},
   "outputs": [],
   "source": [
    "#convert into respective dtypes based on description\n",
    "df1['TIMESPSS']=pd.to_datetime(df1['TIMESPSS'])"
   ]
  },
  {
   "cell_type": "code",
   "execution_count": 16,
   "metadata": {},
   "outputs": [],
   "source": [
    "y=['UserID','PurchaseID','type_touch']"
   ]
  },
  {
   "cell_type": "code",
   "execution_count": 17,
   "metadata": {},
   "outputs": [],
   "source": [
    "for i in y:\n",
    "    df1[i]=df1[i].astype(str)"
   ]
  },
  {
   "cell_type": "code",
   "execution_count": 18,
   "metadata": {},
   "outputs": [],
   "source": [
    "df1['purchase_own']=np.where(  ((df1['purchase_own']==0) & (df1['purchase_any']==1) ), 2, df1['purchase_own'])\n"
   ]
  },
  {
   "cell_type": "code",
   "execution_count": 19,
   "metadata": {},
   "outputs": [
    {
     "data": {
      "text/plain": [
       "0    1607065\n",
       "2     768246\n",
       "1      81103\n",
       "Name: purchase_own, dtype: int64"
      ]
     },
     "execution_count": 19,
     "metadata": {},
     "output_type": "execute_result"
    }
   ],
   "source": [
    "df1['purchase_own'].value_counts()"
   ]
  },
  {
   "cell_type": "markdown",
   "metadata": {},
   "source": [
    "0 - 0 -  [0]customer own touchpoint purchase has hapended \\\n",
    "1 - 1 -  [2] firm's touchpoint purchase has happened from where customer started journey \\\n",
    "0 - 1 -  [3] competitor firm's website purchase has happened"
   ]
  },
  {
   "cell_type": "code",
   "execution_count": 20,
   "metadata": {
    "scrolled": true
   },
   "outputs": [
    {
     "data": {
      "text/plain": [
       "0    1607065\n",
       "3     768246\n",
       "2      81103\n",
       "Name: purchase_status, dtype: int64"
      ]
     },
     "execution_count": 20,
     "metadata": {},
     "output_type": "execute_result"
    }
   ],
   "source": [
    "df1['purchase_status']=df1['purchase_own']+df1['purchase_any']\n",
    "df1['purchase_status'].value_counts()"
   ]
  },
  {
   "cell_type": "code",
   "execution_count": 21,
   "metadata": {},
   "outputs": [],
   "source": [
    "#combined 3 and 2 becoz 2 category is too less"
   ]
  },
  {
   "cell_type": "code",
   "execution_count": 22,
   "metadata": {},
   "outputs": [],
   "source": [
    "df1['purchase_status']=np.where(  ((df1['purchase_status']==3) | (df1['purchase_status']==2)) ,1,df1['purchase_status'])"
   ]
  },
  {
   "cell_type": "code",
   "execution_count": 23,
   "metadata": {},
   "outputs": [
    {
     "data": {
      "text/plain": [
       "0    1607065\n",
       "1     849349\n",
       "Name: purchase_status, dtype: int64"
      ]
     },
     "execution_count": 23,
     "metadata": {},
     "output_type": "execute_result"
    }
   ],
   "source": [
    "df1['purchase_status'].value_counts()"
   ]
  },
  {
   "cell_type": "code",
   "execution_count": 24,
   "metadata": {
    "scrolled": false
   },
   "outputs": [
    {
     "data": {
      "text/plain": [
       "17    0.451880\n",
       "16    0.105131\n",
       "0     0.090458\n",
       "12    0.068587\n",
       "15    0.043516\n",
       "14    0.035779\n",
       "13    0.034609\n",
       "11    0.031750\n",
       "9     0.027127\n",
       "10    0.023371\n",
       "8     0.019596\n",
       "7     0.011928\n",
       "5     0.011241\n",
       "6     0.011072\n",
       "4     0.009529\n",
       "3     0.009293\n",
       "2     0.007991\n",
       "1     0.007140\n",
       "Name: FixedPanel, dtype: float64"
      ]
     },
     "execution_count": 24,
     "metadata": {},
     "output_type": "execute_result"
    }
   ],
   "source": [
    "df1['FixedPanel'].value_counts(normalize=True)"
   ]
  },
  {
   "cell_type": "code",
   "execution_count": 25,
   "metadata": {
    "scrolled": true
   },
   "outputs": [
    {
     "data": {
      "text/plain": [
       "0     0.650906\n",
       "17    0.200884\n",
       "16    0.049194\n",
       "15    0.011040\n",
       "11    0.010405\n",
       "9     0.009545\n",
       "1     0.009283\n",
       "12    0.007971\n",
       "14    0.007941\n",
       "10    0.007871\n",
       "4     0.007007\n",
       "13    0.005064\n",
       "8     0.004998\n",
       "6     0.004774\n",
       "2     0.004264\n",
       "7     0.003724\n",
       "3     0.002767\n",
       "5     0.002363\n",
       "Name: MobilePanel, dtype: float64"
      ]
     },
     "execution_count": 25,
     "metadata": {},
     "output_type": "execute_result"
    }
   ],
   "source": [
    "df1['MobilePanel'].value_counts(normalize=True)"
   ]
  },
  {
   "cell_type": "code",
   "execution_count": 26,
   "metadata": {},
   "outputs": [],
   "source": [
    "df1['MobilePanel']=np.where(  ((df1['MobilePanel']>=0) & (df1['MobilePanel']<11)) ,18,df1['MobilePanel'])\n",
    "df1['MobilePanel']=np.where(  ((df1['MobilePanel']>=12) & (df1['MobilePanel']<15)) ,19,df1['MobilePanel'])\n",
    "df1['MobilePanel']=np.where(  ((df1['MobilePanel']==11) & (df1['MobilePanel']==15) &(df1['MobilePanel']==16) ) ,20,df1['MobilePanel'])"
   ]
  },
  {
   "cell_type": "code",
   "execution_count": 27,
   "metadata": {},
   "outputs": [
    {
     "data": {
      "text/plain": [
       "18    1737916\n",
       "17     493454\n",
       "16     120841\n",
       "19      51525\n",
       "15      27119\n",
       "11      25559\n",
       "Name: MobilePanel, dtype: int64"
      ]
     },
     "execution_count": 27,
     "metadata": {},
     "output_type": "execute_result"
    }
   ],
   "source": [
    "df1['MobilePanel'].value_counts()"
   ]
  },
  {
   "cell_type": "code",
   "execution_count": 28,
   "metadata": {},
   "outputs": [],
   "source": [
    "df1['FixedPanel']=np.where(  ((df1['FixedPanel']>=1) & (df1['FixedPanel']<5)) ,0,df1['FixedPanel'])\n",
    "df1['FixedPanel']=np.where(  ((df1['FixedPanel']>=5) & (df1['FixedPanel']<8)) ,1,df1['FixedPanel'])\n",
    "df1['FixedPanel']=np.where(  ((df1['FixedPanel']>=8) & (df1['FixedPanel']<11)) ,2,df1['FixedPanel'])\n",
    "df1['FixedPanel']=np.where(  ((df1['FixedPanel']>=11) & (df1['FixedPanel']<17)) ,3,df1['FixedPanel'])"
   ]
  },
  {
   "cell_type": "code",
   "execution_count": 29,
   "metadata": {
    "scrolled": true
   },
   "outputs": [
    {
     "data": {
      "text/plain": [
       "17    1110004\n",
       "3      784511\n",
       "0      305606\n",
       "2      172183\n",
       "1       84110\n",
       "Name: FixedPanel, dtype: int64"
      ]
     },
     "execution_count": 29,
     "metadata": {},
     "output_type": "execute_result"
    }
   ],
   "source": [
    "df1['FixedPanel'].value_counts()"
   ]
  },
  {
   "cell_type": "code",
   "execution_count": 30,
   "metadata": {},
   "outputs": [],
   "source": [
    "#categories reduced in order to accommodate dummies effectively\n",
    "df1['FixedPanel']=df1['FixedPanel'].astype(str)\n",
    "df1['MobilePanel']=df1['MobilePanel'].astype(str)"
   ]
  },
  {
   "cell_type": "code",
   "execution_count": 31,
   "metadata": {
    "scrolled": true
   },
   "outputs": [
    {
     "data": {
      "text/plain": [
       "(array([1737916.,       0.,  493454.,       0.,  120841.,       0.,\n",
       "          51525.,       0.,   27119.,   25559.]),\n",
       " array([0. , 0.5, 1. , 1.5, 2. , 2.5, 3. , 3.5, 4. , 4.5, 5. ]),\n",
       " <a list of 10 Patch objects>)"
      ]
     },
     "execution_count": 31,
     "metadata": {},
     "output_type": "execute_result"
    },
    {
     "data": {
      "image/png": "[encoded data removed]",
      "text/plain": [
       "<Figure size 432x288 with 1 Axes>"
      ]
     },
     "metadata": {
      "needs_background": "light"
     },
     "output_type": "display_data"
    }
   ],
   "source": [
    "plt.hist(df1['MobilePanel'])"
   ]
  },
  {
   "cell_type": "code",
   "execution_count": 32,
   "metadata": {},
   "outputs": [
    {
     "data": {
      "text/plain": [
       "(2456414, 11)"
      ]
     },
     "execution_count": 32,
     "metadata": {},
     "output_type": "execute_result"
    }
   ],
   "source": [
    "df1.shape"
   ]
  },
  {
   "cell_type": "code",
   "execution_count": 33,
   "metadata": {
    "scrolled": true
   },
   "outputs": [],
   "source": [
    "#as its already combined into purchase_status\n",
    "df1.drop(['purchase_own','purchase_any'],axis=1,inplace=True)"
   ]
  },
  {
   "cell_type": "code",
   "execution_count": 34,
   "metadata": {},
   "outputs": [
    {
     "data": {
      "text/plain": [
       "(2456414, 9)"
      ]
     },
     "execution_count": 34,
     "metadata": {},
     "output_type": "execute_result"
    }
   ],
   "source": [
    "df1.shape"
   ]
  },
  {
   "cell_type": "code",
   "execution_count": 35,
   "metadata": {
    "scrolled": false
   },
   "outputs": [
    {
     "data": {
      "text/plain": [
       "UserID                     object\n",
       "PurchaseID                 object\n",
       "TIMESPSS           datetime64[ns]\n",
       "Duration                  float64\n",
       "DEVICE_TYPE                object\n",
       "type_touch                 object\n",
       "MobilePanel                object\n",
       "FixedPanel                 object\n",
       "purchase_status             int64\n",
       "dtype: object"
      ]
     },
     "execution_count": 35,
     "metadata": {},
     "output_type": "execute_result"
    }
   ],
   "source": [
    "df1.dtypes"
   ]
  },
  {
   "cell_type": "code",
   "execution_count": 36,
   "metadata": {},
   "outputs": [
    {
     "data": {
      "text/plain": [
       "(2456414, 9)"
      ]
     },
     "execution_count": 36,
     "metadata": {},
     "output_type": "execute_result"
    }
   ],
   "source": [
    "df1.shape #(2456414, 10)"
   ]
  },
  {
   "cell_type": "code",
   "execution_count": 37,
   "metadata": {
    "scrolled": true
   },
   "outputs": [
    {
     "data": {
      "text/html": [
       "<div>\n",
       "<style scoped>\n",
       "    .dataframe tbody tr th:only-of-type {\n",
       "        vertical-align: middle;\n",
       "    }\n",
       "\n",
       "    .dataframe tbody tr th {\n",
       "        vertical-align: top;\n",
       "    }\n",
       "\n",
       "    .dataframe thead th {\n",
       "        text-align: right;\n",
       "    }\n",
       "</style>\n",
       "<table border=\"1\" class=\"dataframe\">\n",
       "  <thead>\n",
       "    <tr style=\"text-align: right;\">\n",
       "      <th></th>\n",
       "      <th>UserID</th>\n",
       "      <th>PurchaseID</th>\n",
       "      <th>TIMESPSS</th>\n",
       "      <th>Duration</th>\n",
       "      <th>DEVICE_TYPE</th>\n",
       "      <th>type_touch</th>\n",
       "      <th>MobilePanel</th>\n",
       "      <th>FixedPanel</th>\n",
       "      <th>purchase_status</th>\n",
       "    </tr>\n",
       "  </thead>\n",
       "  <tbody>\n",
       "    <tr>\n",
       "      <th>0</th>\n",
       "      <td>9558</td>\n",
       "      <td>1</td>\n",
       "      <td>2016-03-13 12:26:21</td>\n",
       "      <td>6.492</td>\n",
       "      <td>MOBILE</td>\n",
       "      <td>7</td>\n",
       "      <td>18</td>\n",
       "      <td>0</td>\n",
       "      <td>0</td>\n",
       "    </tr>\n",
       "    <tr>\n",
       "      <th>1</th>\n",
       "      <td>9657</td>\n",
       "      <td>2</td>\n",
       "      <td>2015-07-18 13:00:38</td>\n",
       "      <td>57.000</td>\n",
       "      <td>FIXED</td>\n",
       "      <td>4</td>\n",
       "      <td>18</td>\n",
       "      <td>0</td>\n",
       "      <td>0</td>\n",
       "    </tr>\n",
       "    <tr>\n",
       "      <th>2</th>\n",
       "      <td>1</td>\n",
       "      <td>3</td>\n",
       "      <td>2015-08-07 19:16:59</td>\n",
       "      <td>120.000</td>\n",
       "      <td>FIXED</td>\n",
       "      <td>7</td>\n",
       "      <td>18</td>\n",
       "      <td>17</td>\n",
       "      <td>0</td>\n",
       "    </tr>\n",
       "    <tr>\n",
       "      <th>3</th>\n",
       "      <td>1</td>\n",
       "      <td>4</td>\n",
       "      <td>2015-11-24 22:30:44</td>\n",
       "      <td>216.000</td>\n",
       "      <td>FIXED</td>\n",
       "      <td>1</td>\n",
       "      <td>18</td>\n",
       "      <td>17</td>\n",
       "      <td>0</td>\n",
       "    </tr>\n",
       "    <tr>\n",
       "      <th>4</th>\n",
       "      <td>1</td>\n",
       "      <td>5</td>\n",
       "      <td>2016-06-15 15:48:20</td>\n",
       "      <td>155.262</td>\n",
       "      <td>FIXED</td>\n",
       "      <td>7</td>\n",
       "      <td>18</td>\n",
       "      <td>17</td>\n",
       "      <td>0</td>\n",
       "    </tr>\n",
       "  </tbody>\n",
       "</table>\n",
       "</div>"
      ],
      "text/plain": [
       "  UserID PurchaseID            TIMESPSS  Duration DEVICE_TYPE type_touch  \\\n",
       "0   9558          1 2016-03-13 12:26:21     6.492      MOBILE          7   \n",
       "1   9657          2 2015-07-18 13:00:38    57.000       FIXED          4   \n",
       "2      1          3 2015-08-07 19:16:59   120.000       FIXED          7   \n",
       "3      1          4 2015-11-24 22:30:44   216.000       FIXED          1   \n",
       "4      1          5 2016-06-15 15:48:20   155.262       FIXED          7   \n",
       "\n",
       "  MobilePanel FixedPanel  purchase_status  \n",
       "0          18          0                0  \n",
       "1          18          0                0  \n",
       "2          18         17                0  \n",
       "3          18         17                0  \n",
       "4          18         17                0  "
      ]
     },
     "execution_count": 37,
     "metadata": {},
     "output_type": "execute_result"
    }
   ],
   "source": [
    "df0=df1.drop_duplicates(subset='PurchaseID',keep='last').reset_index().drop(\"index\",axis=1)\n",
    "df0.head()"
   ]
  },
  {
   "cell_type": "code",
   "execution_count": 38,
   "metadata": {
    "scrolled": false
   },
   "outputs": [
    {
     "data": {
      "text/plain": [
       "UserID                     object\n",
       "PurchaseID                 object\n",
       "TIMESPSS           datetime64[ns]\n",
       "Duration                  float64\n",
       "DEVICE_TYPE                object\n",
       "type_touch                 object\n",
       "MobilePanel                object\n",
       "FixedPanel                 object\n",
       "purchase_status             int64\n",
       "dtype: object"
      ]
     },
     "execution_count": 38,
     "metadata": {},
     "output_type": "execute_result"
    }
   ],
   "source": [
    "df0.dtypes"
   ]
  },
  {
   "cell_type": "code",
   "execution_count": 39,
   "metadata": {},
   "outputs": [
    {
     "data": {
      "text/plain": [
       "(29012, 9)"
      ]
     },
     "execution_count": 39,
     "metadata": {},
     "output_type": "execute_result"
    }
   ],
   "source": [
    "df0.shape"
   ]
  },
  {
   "cell_type": "markdown",
   "metadata": {},
   "source": [
    "# Cleaning dataset TravelDataDemos"
   ]
  },
  {
   "cell_type": "code",
   "execution_count": 40,
   "metadata": {},
   "outputs": [],
   "source": [
    "#import dataset regarding customer details\n",
    "df2=pd.read_csv(\"C:\\\\Users\\\\LILLY GRACE\\\\Downloads\\\\Data Purchase Journey Travel\\\\TravelDataDemos.csv\",na_values=['nan'])"
   ]
  },
  {
   "cell_type": "code",
   "execution_count": 41,
   "metadata": {},
   "outputs": [
    {
     "data": {
      "text/plain": [
       "(9678, 12)"
      ]
     },
     "execution_count": 41,
     "metadata": {},
     "output_type": "execute_result"
    }
   ],
   "source": [
    "df2.shape"
   ]
  },
  {
   "cell_type": "code",
   "execution_count": 42,
   "metadata": {},
   "outputs": [],
   "source": [
    "df2['Age'].fillna(df2['Age'].mean(),inplace=True)"
   ]
  },
  {
   "cell_type": "code",
   "execution_count": 43,
   "metadata": {},
   "outputs": [
    {
     "data": {
      "text/plain": [
       "9678"
      ]
     },
     "execution_count": 43,
     "metadata": {},
     "output_type": "execute_result"
    }
   ],
   "source": [
    "len(df2['UserID'].unique())"
   ]
  },
  {
   "cell_type": "code",
   "execution_count": 44,
   "metadata": {},
   "outputs": [
    {
     "data": {
      "text/html": [
       "<div>\n",
       "<style scoped>\n",
       "    .dataframe tbody tr th:only-of-type {\n",
       "        vertical-align: middle;\n",
       "    }\n",
       "\n",
       "    .dataframe tbody tr th {\n",
       "        vertical-align: top;\n",
       "    }\n",
       "\n",
       "    .dataframe thead th {\n",
       "        text-align: right;\n",
       "    }\n",
       "</style>\n",
       "<table border=\"1\" class=\"dataframe\">\n",
       "  <thead>\n",
       "    <tr style=\"text-align: right;\">\n",
       "      <th></th>\n",
       "      <th>UserID</th>\n",
       "      <th>SPSS_Regio5</th>\n",
       "      <th>RESP_GEM_GROOTTE</th>\n",
       "      <th>BAS_huishoudgrootte</th>\n",
       "      <th>GenderID</th>\n",
       "      <th>Age</th>\n",
       "      <th>BAS_werkzaamheid_resp</th>\n",
       "      <th>BAS_bruto_jaarinkomen</th>\n",
       "      <th>afg_kinderen_huishouden</th>\n",
       "      <th>AFG_sk2015</th>\n",
       "      <th>BAS_voltooide_opleiding8_resp</th>\n",
       "      <th>SPSS_Lifestage</th>\n",
       "    </tr>\n",
       "  </thead>\n",
       "  <tbody>\n",
       "    <tr>\n",
       "      <th>0</th>\n",
       "      <td>9558</td>\n",
       "      <td>NaN</td>\n",
       "      <td>NaN</td>\n",
       "      <td>NaN</td>\n",
       "      <td>NaN</td>\n",
       "      <td>51.998762</td>\n",
       "      <td>NaN</td>\n",
       "      <td>NaN</td>\n",
       "      <td>NaN</td>\n",
       "      <td>NaN</td>\n",
       "      <td>NaN</td>\n",
       "      <td>NaN</td>\n",
       "    </tr>\n",
       "    <tr>\n",
       "      <th>1</th>\n",
       "      <td>9657</td>\n",
       "      <td>NaN</td>\n",
       "      <td>NaN</td>\n",
       "      <td>NaN</td>\n",
       "      <td>NaN</td>\n",
       "      <td>51.998762</td>\n",
       "      <td>NaN</td>\n",
       "      <td>NaN</td>\n",
       "      <td>NaN</td>\n",
       "      <td>NaN</td>\n",
       "      <td>NaN</td>\n",
       "      <td>NaN</td>\n",
       "    </tr>\n",
       "    <tr>\n",
       "      <th>2</th>\n",
       "      <td>1</td>\n",
       "      <td>5.0</td>\n",
       "      <td>6.0</td>\n",
       "      <td>1.0</td>\n",
       "      <td>1.0</td>\n",
       "      <td>59.000000</td>\n",
       "      <td>2.0</td>\n",
       "      <td>2.0</td>\n",
       "      <td>0.0</td>\n",
       "      <td>5.0</td>\n",
       "      <td>2.0</td>\n",
       "      <td>2.0</td>\n",
       "    </tr>\n",
       "    <tr>\n",
       "      <th>3</th>\n",
       "      <td>2</td>\n",
       "      <td>3.0</td>\n",
       "      <td>3.0</td>\n",
       "      <td>2.0</td>\n",
       "      <td>2.0</td>\n",
       "      <td>47.000000</td>\n",
       "      <td>2.0</td>\n",
       "      <td>7.0</td>\n",
       "      <td>0.0</td>\n",
       "      <td>2.0</td>\n",
       "      <td>6.0</td>\n",
       "      <td>4.0</td>\n",
       "    </tr>\n",
       "    <tr>\n",
       "      <th>4</th>\n",
       "      <td>3</td>\n",
       "      <td>NaN</td>\n",
       "      <td>NaN</td>\n",
       "      <td>NaN</td>\n",
       "      <td>NaN</td>\n",
       "      <td>51.998762</td>\n",
       "      <td>NaN</td>\n",
       "      <td>NaN</td>\n",
       "      <td>NaN</td>\n",
       "      <td>NaN</td>\n",
       "      <td>NaN</td>\n",
       "      <td>NaN</td>\n",
       "    </tr>\n",
       "  </tbody>\n",
       "</table>\n",
       "</div>"
      ],
      "text/plain": [
       "   UserID  SPSS_Regio5  RESP_GEM_GROOTTE  BAS_huishoudgrootte  GenderID  \\\n",
       "0    9558          NaN               NaN                  NaN       NaN   \n",
       "1    9657          NaN               NaN                  NaN       NaN   \n",
       "2       1          5.0               6.0                  1.0       1.0   \n",
       "3       2          3.0               3.0                  2.0       2.0   \n",
       "4       3          NaN               NaN                  NaN       NaN   \n",
       "\n",
       "         Age  BAS_werkzaamheid_resp  BAS_bruto_jaarinkomen  \\\n",
       "0  51.998762                    NaN                    NaN   \n",
       "1  51.998762                    NaN                    NaN   \n",
       "2  59.000000                    2.0                    2.0   \n",
       "3  47.000000                    2.0                    7.0   \n",
       "4  51.998762                    NaN                    NaN   \n",
       "\n",
       "   afg_kinderen_huishouden  AFG_sk2015  BAS_voltooide_opleiding8_resp  \\\n",
       "0                      NaN         NaN                            NaN   \n",
       "1                      NaN         NaN                            NaN   \n",
       "2                      0.0         5.0                            2.0   \n",
       "3                      0.0         2.0                            6.0   \n",
       "4                      NaN         NaN                            NaN   \n",
       "\n",
       "   SPSS_Lifestage  \n",
       "0             NaN  \n",
       "1             NaN  \n",
       "2             2.0  \n",
       "3             4.0  \n",
       "4             NaN  "
      ]
     },
     "execution_count": 44,
     "metadata": {},
     "output_type": "execute_result"
    }
   ],
   "source": [
    "df2.head()"
   ]
  },
  {
   "cell_type": "code",
   "execution_count": 45,
   "metadata": {},
   "outputs": [
    {
     "data": {
      "text/plain": [
       "array([nan,  1.,  2.])"
      ]
     },
     "execution_count": 45,
     "metadata": {},
     "output_type": "execute_result"
    }
   ],
   "source": [
    "df2['GenderID'].unique()"
   ]
  },
  {
   "cell_type": "code",
   "execution_count": 46,
   "metadata": {
    "scrolled": false
   },
   "outputs": [
    {
     "data": {
      "text/plain": [
       "UserID                           0.000000\n",
       "SPSS_Regio5                      0.165633\n",
       "RESP_GEM_GROOTTE                 0.165633\n",
       "BAS_huishoudgrootte              0.165633\n",
       "GenderID                         0.165633\n",
       "Age                              0.000000\n",
       "BAS_werkzaamheid_resp            0.165633\n",
       "BAS_bruto_jaarinkomen            0.165633\n",
       "afg_kinderen_huishouden          0.165633\n",
       "AFG_sk2015                       0.165633\n",
       "BAS_voltooide_opleiding8_resp    0.209857\n",
       "SPSS_Lifestage                   0.165633\n",
       "dtype: float64"
      ]
     },
     "execution_count": 46,
     "metadata": {},
     "output_type": "execute_result"
    }
   ],
   "source": [
    "df2.isnull().sum()/df2.shape[0]"
   ]
  },
  {
   "cell_type": "code",
   "execution_count": 47,
   "metadata": {
    "scrolled": false
   },
   "outputs": [
    {
     "data": {
      "text/plain": [
       "UserID                             int64\n",
       "SPSS_Regio5                      float64\n",
       "RESP_GEM_GROOTTE                 float64\n",
       "BAS_huishoudgrootte              float64\n",
       "GenderID                         float64\n",
       "Age                              float64\n",
       "BAS_werkzaamheid_resp            float64\n",
       "BAS_bruto_jaarinkomen            float64\n",
       "afg_kinderen_huishouden          float64\n",
       "AFG_sk2015                       float64\n",
       "BAS_voltooide_opleiding8_resp    float64\n",
       "SPSS_Lifestage                   float64\n",
       "dtype: object"
      ]
     },
     "execution_count": 47,
     "metadata": {},
     "output_type": "execute_result"
    }
   ],
   "source": [
    "df2.dtypes"
   ]
  },
  {
   "cell_type": "code",
   "execution_count": 48,
   "metadata": {},
   "outputs": [
    {
     "data": {
      "text/plain": [
       "<matplotlib.axes._subplots.AxesSubplot at 0x2588c38f988>"
      ]
     },
     "execution_count": 48,
     "metadata": {},
     "output_type": "execute_result"
    },
    {
     "data": {
      "image/png": "[encoded data removed]",
      "text/plain": [
       "<Figure size 1800x720 with 2 Axes>"
      ]
     },
     "metadata": {
      "needs_background": "light"
     },
     "output_type": "display_data"
    }
   ],
   "source": [
    "#check for missing values\n",
    "import missingno as msno  \n",
    "msno.matrix(df2) "
   ]
  },
  {
   "cell_type": "code",
   "execution_count": 49,
   "metadata": {
    "scrolled": true
   },
   "outputs": [
    {
     "data": {
      "text/plain": [
       "UserID                             int64\n",
       "SPSS_Regio5                      float64\n",
       "RESP_GEM_GROOTTE                 float64\n",
       "BAS_huishoudgrootte              float64\n",
       "GenderID                         float64\n",
       "Age                              float64\n",
       "BAS_werkzaamheid_resp            float64\n",
       "BAS_bruto_jaarinkomen            float64\n",
       "afg_kinderen_huishouden          float64\n",
       "AFG_sk2015                       float64\n",
       "BAS_voltooide_opleiding8_resp    float64\n",
       "SPSS_Lifestage                   float64\n",
       "dtype: object"
      ]
     },
     "execution_count": 49,
     "metadata": {},
     "output_type": "execute_result"
    }
   ],
   "source": [
    "df2.dtypes"
   ]
  },
  {
   "cell_type": "code",
   "execution_count": 50,
   "metadata": {},
   "outputs": [],
   "source": [
    "df2['GenderID']=np.where( df2['GenderID']==1, 0, 1)"
   ]
  },
  {
   "cell_type": "code",
   "execution_count": 51,
   "metadata": {},
   "outputs": [],
   "source": [
    "x=['UserID','SPSS_Regio5','BAS_werkzaamheid_resp','BAS_voltooide_opleiding8_resp','SPSS_Lifestage']"
   ]
  },
  {
   "cell_type": "code",
   "execution_count": 52,
   "metadata": {},
   "outputs": [],
   "source": [
    "for i in x:\n",
    "    df2[i]=df2[i].astype(str)"
   ]
  },
  {
   "cell_type": "code",
   "execution_count": 53,
   "metadata": {
    "scrolled": true
   },
   "outputs": [
    {
     "data": {
      "text/plain": [
       "UserID                            object\n",
       "SPSS_Regio5                       object\n",
       "RESP_GEM_GROOTTE                 float64\n",
       "BAS_huishoudgrootte              float64\n",
       "GenderID                           int32\n",
       "Age                              float64\n",
       "BAS_werkzaamheid_resp             object\n",
       "BAS_bruto_jaarinkomen            float64\n",
       "afg_kinderen_huishouden          float64\n",
       "AFG_sk2015                       float64\n",
       "BAS_voltooide_opleiding8_resp     object\n",
       "SPSS_Lifestage                    object\n",
       "dtype: object"
      ]
     },
     "execution_count": 53,
     "metadata": {},
     "output_type": "execute_result"
    }
   ],
   "source": [
    "df2.dtypes"
   ]
  },
  {
   "cell_type": "code",
   "execution_count": 54,
   "metadata": {},
   "outputs": [],
   "source": [
    "for c in list(df2.select_dtypes(include=['O']).columns):\n",
    "    df2[c].fillna(df2[c].value_counts().index[0],inplace=True)  "
   ]
  },
  {
   "cell_type": "code",
   "execution_count": 55,
   "metadata": {},
   "outputs": [],
   "source": [
    "for c in list(df2.select_dtypes(exclude=['O']).columns):\n",
    "    df2[c].fillna(df2[c].mean(),inplace=True)"
   ]
  },
  {
   "cell_type": "code",
   "execution_count": 56,
   "metadata": {
    "scrolled": false
   },
   "outputs": [
    {
     "data": {
      "text/plain": [
       "UserID                           0.0\n",
       "SPSS_Regio5                      0.0\n",
       "RESP_GEM_GROOTTE                 0.0\n",
       "BAS_huishoudgrootte              0.0\n",
       "GenderID                         0.0\n",
       "Age                              0.0\n",
       "BAS_werkzaamheid_resp            0.0\n",
       "BAS_bruto_jaarinkomen            0.0\n",
       "afg_kinderen_huishouden          0.0\n",
       "AFG_sk2015                       0.0\n",
       "BAS_voltooide_opleiding8_resp    0.0\n",
       "SPSS_Lifestage                   0.0\n",
       "dtype: float64"
      ]
     },
     "execution_count": 56,
     "metadata": {},
     "output_type": "execute_result"
    }
   ],
   "source": [
    "df2.isnull().sum()/df2.shape[0]"
   ]
  },
  {
   "cell_type": "code",
   "execution_count": 57,
   "metadata": {
    "scrolled": true
   },
   "outputs": [
    {
     "data": {
      "text/plain": [
       "(9678, 12)"
      ]
     },
     "execution_count": 57,
     "metadata": {},
     "output_type": "execute_result"
    }
   ],
   "source": [
    "df2.shape"
   ]
  },
  {
   "cell_type": "markdown",
   "metadata": {},
   "source": [
    "# Final Dataset"
   ]
  },
  {
   "cell_type": "code",
   "execution_count": 58,
   "metadata": {},
   "outputs": [],
   "source": [
    "#combining the two dataset set for better understanding\n",
    "df3=pd.merge(df0,df2,on='UserID',how='left')"
   ]
  },
  {
   "cell_type": "code",
   "execution_count": 59,
   "metadata": {},
   "outputs": [
    {
     "data": {
      "text/html": [
       "<div>\n",
       "<style scoped>\n",
       "    .dataframe tbody tr th:only-of-type {\n",
       "        vertical-align: middle;\n",
       "    }\n",
       "\n",
       "    .dataframe tbody tr th {\n",
       "        vertical-align: top;\n",
       "    }\n",
       "\n",
       "    .dataframe thead th {\n",
       "        text-align: right;\n",
       "    }\n",
       "</style>\n",
       "<table border=\"1\" class=\"dataframe\">\n",
       "  <thead>\n",
       "    <tr style=\"text-align: right;\">\n",
       "      <th></th>\n",
       "      <th>UserID</th>\n",
       "      <th>PurchaseID</th>\n",
       "      <th>TIMESPSS</th>\n",
       "      <th>Duration</th>\n",
       "      <th>DEVICE_TYPE</th>\n",
       "      <th>type_touch</th>\n",
       "      <th>MobilePanel</th>\n",
       "      <th>FixedPanel</th>\n",
       "      <th>purchase_status</th>\n",
       "      <th>SPSS_Regio5</th>\n",
       "      <th>RESP_GEM_GROOTTE</th>\n",
       "      <th>BAS_huishoudgrootte</th>\n",
       "      <th>GenderID</th>\n",
       "      <th>Age</th>\n",
       "      <th>BAS_werkzaamheid_resp</th>\n",
       "      <th>BAS_bruto_jaarinkomen</th>\n",
       "      <th>afg_kinderen_huishouden</th>\n",
       "      <th>AFG_sk2015</th>\n",
       "      <th>BAS_voltooide_opleiding8_resp</th>\n",
       "      <th>SPSS_Lifestage</th>\n",
       "    </tr>\n",
       "  </thead>\n",
       "  <tbody>\n",
       "    <tr>\n",
       "      <th>0</th>\n",
       "      <td>9558</td>\n",
       "      <td>1</td>\n",
       "      <td>2016-03-13 12:26:21</td>\n",
       "      <td>6.492</td>\n",
       "      <td>MOBILE</td>\n",
       "      <td>7</td>\n",
       "      <td>18</td>\n",
       "      <td>0</td>\n",
       "      <td>0</td>\n",
       "      <td>nan</td>\n",
       "      <td>4.893498</td>\n",
       "      <td>2.514675</td>\n",
       "      <td>1</td>\n",
       "      <td>51.998762</td>\n",
       "      <td>nan</td>\n",
       "      <td>4.49226</td>\n",
       "      <td>0.482229</td>\n",
       "      <td>2.853003</td>\n",
       "      <td>nan</td>\n",
       "      <td>nan</td>\n",
       "    </tr>\n",
       "    <tr>\n",
       "      <th>1</th>\n",
       "      <td>9657</td>\n",
       "      <td>2</td>\n",
       "      <td>2015-07-18 13:00:38</td>\n",
       "      <td>57.000</td>\n",
       "      <td>FIXED</td>\n",
       "      <td>4</td>\n",
       "      <td>18</td>\n",
       "      <td>0</td>\n",
       "      <td>0</td>\n",
       "      <td>nan</td>\n",
       "      <td>4.893498</td>\n",
       "      <td>2.514675</td>\n",
       "      <td>1</td>\n",
       "      <td>51.998762</td>\n",
       "      <td>nan</td>\n",
       "      <td>4.49226</td>\n",
       "      <td>0.482229</td>\n",
       "      <td>2.853003</td>\n",
       "      <td>nan</td>\n",
       "      <td>nan</td>\n",
       "    </tr>\n",
       "    <tr>\n",
       "      <th>2</th>\n",
       "      <td>1</td>\n",
       "      <td>3</td>\n",
       "      <td>2015-08-07 19:16:59</td>\n",
       "      <td>120.000</td>\n",
       "      <td>FIXED</td>\n",
       "      <td>7</td>\n",
       "      <td>18</td>\n",
       "      <td>17</td>\n",
       "      <td>0</td>\n",
       "      <td>5.0</td>\n",
       "      <td>6.000000</td>\n",
       "      <td>1.000000</td>\n",
       "      <td>0</td>\n",
       "      <td>59.000000</td>\n",
       "      <td>2.0</td>\n",
       "      <td>2.00000</td>\n",
       "      <td>0.000000</td>\n",
       "      <td>5.000000</td>\n",
       "      <td>2.0</td>\n",
       "      <td>2.0</td>\n",
       "    </tr>\n",
       "    <tr>\n",
       "      <th>3</th>\n",
       "      <td>1</td>\n",
       "      <td>4</td>\n",
       "      <td>2015-11-24 22:30:44</td>\n",
       "      <td>216.000</td>\n",
       "      <td>FIXED</td>\n",
       "      <td>1</td>\n",
       "      <td>18</td>\n",
       "      <td>17</td>\n",
       "      <td>0</td>\n",
       "      <td>5.0</td>\n",
       "      <td>6.000000</td>\n",
       "      <td>1.000000</td>\n",
       "      <td>0</td>\n",
       "      <td>59.000000</td>\n",
       "      <td>2.0</td>\n",
       "      <td>2.00000</td>\n",
       "      <td>0.000000</td>\n",
       "      <td>5.000000</td>\n",
       "      <td>2.0</td>\n",
       "      <td>2.0</td>\n",
       "    </tr>\n",
       "    <tr>\n",
       "      <th>4</th>\n",
       "      <td>1</td>\n",
       "      <td>5</td>\n",
       "      <td>2016-06-15 15:48:20</td>\n",
       "      <td>155.262</td>\n",
       "      <td>FIXED</td>\n",
       "      <td>7</td>\n",
       "      <td>18</td>\n",
       "      <td>17</td>\n",
       "      <td>0</td>\n",
       "      <td>5.0</td>\n",
       "      <td>6.000000</td>\n",
       "      <td>1.000000</td>\n",
       "      <td>0</td>\n",
       "      <td>59.000000</td>\n",
       "      <td>2.0</td>\n",
       "      <td>2.00000</td>\n",
       "      <td>0.000000</td>\n",
       "      <td>5.000000</td>\n",
       "      <td>2.0</td>\n",
       "      <td>2.0</td>\n",
       "    </tr>\n",
       "  </tbody>\n",
       "</table>\n",
       "</div>"
      ],
      "text/plain": [
       "  UserID PurchaseID            TIMESPSS  Duration DEVICE_TYPE type_touch  \\\n",
       "0   9558          1 2016-03-13 12:26:21     6.492      MOBILE          7   \n",
       "1   9657          2 2015-07-18 13:00:38    57.000       FIXED          4   \n",
       "2      1          3 2015-08-07 19:16:59   120.000       FIXED          7   \n",
       "3      1          4 2015-11-24 22:30:44   216.000       FIXED          1   \n",
       "4      1          5 2016-06-15 15:48:20   155.262       FIXED          7   \n",
       "\n",
       "  MobilePanel FixedPanel  purchase_status SPSS_Regio5  RESP_GEM_GROOTTE  \\\n",
       "0          18          0                0         nan          4.893498   \n",
       "1          18          0                0         nan          4.893498   \n",
       "2          18         17                0         5.0          6.000000   \n",
       "3          18         17                0         5.0          6.000000   \n",
       "4          18         17                0         5.0          6.000000   \n",
       "\n",
       "   BAS_huishoudgrootte  GenderID        Age BAS_werkzaamheid_resp  \\\n",
       "0             2.514675         1  51.998762                   nan   \n",
       "1             2.514675         1  51.998762                   nan   \n",
       "2             1.000000         0  59.000000                   2.0   \n",
       "3             1.000000         0  59.000000                   2.0   \n",
       "4             1.000000         0  59.000000                   2.0   \n",
       "\n",
       "   BAS_bruto_jaarinkomen  afg_kinderen_huishouden  AFG_sk2015  \\\n",
       "0                4.49226                 0.482229    2.853003   \n",
       "1                4.49226                 0.482229    2.853003   \n",
       "2                2.00000                 0.000000    5.000000   \n",
       "3                2.00000                 0.000000    5.000000   \n",
       "4                2.00000                 0.000000    5.000000   \n",
       "\n",
       "  BAS_voltooide_opleiding8_resp SPSS_Lifestage  \n",
       "0                           nan            nan  \n",
       "1                           nan            nan  \n",
       "2                           2.0            2.0  \n",
       "3                           2.0            2.0  \n",
       "4                           2.0            2.0  "
      ]
     },
     "execution_count": 59,
     "metadata": {},
     "output_type": "execute_result"
    }
   ],
   "source": [
    "df3.head()"
   ]
  },
  {
   "cell_type": "code",
   "execution_count": 60,
   "metadata": {},
   "outputs": [
    {
     "data": {
      "text/plain": [
       "(29012, 20)"
      ]
     },
     "execution_count": 60,
     "metadata": {},
     "output_type": "execute_result"
    }
   ],
   "source": [
    "df3.shape"
   ]
  },
  {
   "cell_type": "code",
   "execution_count": 61,
   "metadata": {
    "scrolled": true
   },
   "outputs": [
    {
     "data": {
      "text/plain": [
       "UserID                           0\n",
       "PurchaseID                       0\n",
       "TIMESPSS                         0\n",
       "Duration                         0\n",
       "DEVICE_TYPE                      0\n",
       "type_touch                       0\n",
       "MobilePanel                      0\n",
       "FixedPanel                       0\n",
       "purchase_status                  0\n",
       "SPSS_Regio5                      0\n",
       "RESP_GEM_GROOTTE                 0\n",
       "BAS_huishoudgrootte              0\n",
       "GenderID                         0\n",
       "Age                              0\n",
       "BAS_werkzaamheid_resp            0\n",
       "BAS_bruto_jaarinkomen            0\n",
       "afg_kinderen_huishouden          0\n",
       "AFG_sk2015                       0\n",
       "BAS_voltooide_opleiding8_resp    0\n",
       "SPSS_Lifestage                   0\n",
       "dtype: int64"
      ]
     },
     "execution_count": 61,
     "metadata": {},
     "output_type": "execute_result"
    }
   ],
   "source": [
    "df3.isnull().sum()"
   ]
  },
  {
   "cell_type": "code",
   "execution_count": 62,
   "metadata": {},
   "outputs": [
    {
     "data": {
      "text/plain": [
       "UserID                                   object\n",
       "PurchaseID                               object\n",
       "TIMESPSS                         datetime64[ns]\n",
       "Duration                                float64\n",
       "DEVICE_TYPE                              object\n",
       "type_touch                               object\n",
       "MobilePanel                              object\n",
       "FixedPanel                               object\n",
       "purchase_status                           int64\n",
       "SPSS_Regio5                              object\n",
       "RESP_GEM_GROOTTE                        float64\n",
       "BAS_huishoudgrootte                     float64\n",
       "GenderID                                  int32\n",
       "Age                                     float64\n",
       "BAS_werkzaamheid_resp                    object\n",
       "BAS_bruto_jaarinkomen                   float64\n",
       "afg_kinderen_huishouden                 float64\n",
       "AFG_sk2015                              float64\n",
       "BAS_voltooide_opleiding8_resp            object\n",
       "SPSS_Lifestage                           object\n",
       "dtype: object"
      ]
     },
     "execution_count": 62,
     "metadata": {},
     "output_type": "execute_result"
    }
   ],
   "source": [
    "df3.dtypes"
   ]
  },
  {
   "cell_type": "code",
   "execution_count": 63,
   "metadata": {},
   "outputs": [
    {
     "data": {
      "text/plain": [
       "UserID                           0\n",
       "PurchaseID                       0\n",
       "TIMESPSS                         0\n",
       "Duration                         0\n",
       "DEVICE_TYPE                      0\n",
       "type_touch                       0\n",
       "MobilePanel                      0\n",
       "FixedPanel                       0\n",
       "purchase_status                  0\n",
       "SPSS_Regio5                      0\n",
       "RESP_GEM_GROOTTE                 0\n",
       "BAS_huishoudgrootte              0\n",
       "GenderID                         0\n",
       "Age                              0\n",
       "BAS_werkzaamheid_resp            0\n",
       "BAS_bruto_jaarinkomen            0\n",
       "afg_kinderen_huishouden          0\n",
       "AFG_sk2015                       0\n",
       "BAS_voltooide_opleiding8_resp    0\n",
       "SPSS_Lifestage                   0\n",
       "dtype: int64"
      ]
     },
     "execution_count": 63,
     "metadata": {},
     "output_type": "execute_result"
    }
   ],
   "source": [
    "df3.isnull().sum()"
   ]
  },
  {
   "cell_type": "code",
   "execution_count": 64,
   "metadata": {},
   "outputs": [
    {
     "data": {
      "text/plain": [
       "(29012, 20)"
      ]
     },
     "execution_count": 64,
     "metadata": {},
     "output_type": "execute_result"
    }
   ],
   "source": [
    "#apply models in this dataset df3\n",
    "df3.shape"
   ]
  },
  {
   "cell_type": "code",
   "execution_count": 65,
   "metadata": {},
   "outputs": [],
   "source": [
    "df3['month']=pd.to_datetime(df3['TIMESPSS'],format=\"%Y%m%d\").dt.month\n",
    "df3['year']=pd.to_datetime(df3['TIMESPSS'],format=\"%Y%m%d\").dt.year\n",
    "df3['year_month']=df3['year'].astype(str)+\"_\"+df3['month'].astype(str)"
   ]
  },
  {
   "cell_type": "code",
   "execution_count": 66,
   "metadata": {},
   "outputs": [],
   "source": [
    "df3['BAS_voltooide_opleiding8_resp']=np.where(df3['BAS_voltooide_opleiding8_resp']=='nan','97',df3['BAS_voltooide_opleiding8_resp'])"
   ]
  },
  {
   "cell_type": "code",
   "execution_count": 67,
   "metadata": {},
   "outputs": [],
   "source": [
    "df4=df3.drop(['UserID','PurchaseID','TIMESPSS','month','year'],axis=1)"
   ]
  },
  {
   "cell_type": "code",
   "execution_count": 68,
   "metadata": {
    "scrolled": true
   },
   "outputs": [
    {
     "data": {
      "text/plain": [
       "Duration                         float64\n",
       "DEVICE_TYPE                       object\n",
       "type_touch                        object\n",
       "MobilePanel                       object\n",
       "FixedPanel                        object\n",
       "purchase_status                    int64\n",
       "SPSS_Regio5                       object\n",
       "RESP_GEM_GROOTTE                 float64\n",
       "BAS_huishoudgrootte              float64\n",
       "GenderID                           int32\n",
       "Age                              float64\n",
       "BAS_werkzaamheid_resp             object\n",
       "BAS_bruto_jaarinkomen            float64\n",
       "afg_kinderen_huishouden          float64\n",
       "AFG_sk2015                       float64\n",
       "BAS_voltooide_opleiding8_resp     object\n",
       "SPSS_Lifestage                    object\n",
       "year_month                        object\n",
       "dtype: object"
      ]
     },
     "execution_count": 68,
     "metadata": {},
     "output_type": "execute_result"
    }
   ],
   "source": [
    "df4.dtypes"
   ]
  },
  {
   "cell_type": "code",
   "execution_count": 69,
   "metadata": {
    "scrolled": true
   },
   "outputs": [
    {
     "data": {
      "text/plain": [
       "(29012, 18)"
      ]
     },
     "execution_count": 69,
     "metadata": {},
     "output_type": "execute_result"
    }
   ],
   "source": [
    "df4.shape"
   ]
  },
  {
   "cell_type": "code",
   "execution_count": 70,
   "metadata": {},
   "outputs": [],
   "source": [
    "df4.drop(['afg_kinderen_huishouden','RESP_GEM_GROOTTE','Age'],axis=1,inplace=True)"
   ]
  },
  {
   "cell_type": "code",
   "execution_count": 71,
   "metadata": {},
   "outputs": [],
   "source": [
    "df4.drop(['type_touch','BAS_voltooide_opleiding8_resp','year_month','DEVICE_TYPE'],axis=1,inplace=True)"
   ]
  },
  {
   "cell_type": "code",
   "execution_count": 72,
   "metadata": {},
   "outputs": [
    {
     "data": {
      "text/plain": [
       "(29012, 11)"
      ]
     },
     "execution_count": 72,
     "metadata": {},
     "output_type": "execute_result"
    }
   ],
   "source": [
    "df4.shape"
   ]
  },
  {
   "cell_type": "code",
   "execution_count": 73,
   "metadata": {},
   "outputs": [
    {
     "data": {
      "text/plain": [
       "Duration                 float64\n",
       "MobilePanel               object\n",
       "FixedPanel                object\n",
       "purchase_status            int64\n",
       "SPSS_Regio5               object\n",
       "BAS_huishoudgrootte      float64\n",
       "GenderID                   int32\n",
       "BAS_werkzaamheid_resp     object\n",
       "BAS_bruto_jaarinkomen    float64\n",
       "AFG_sk2015               float64\n",
       "SPSS_Lifestage            object\n",
       "dtype: object"
      ]
     },
     "execution_count": 73,
     "metadata": {},
     "output_type": "execute_result"
    }
   ],
   "source": [
    "df4.dtypes"
   ]
  },
  {
   "cell_type": "markdown",
   "metadata": {},
   "source": [
    "# Some Insights through the given data"
   ]
  },
  {
   "cell_type": "code",
   "execution_count": 74,
   "metadata": {
    "scrolled": false
   },
   "outputs": [
    {
     "data": {
      "text/plain": [
       "<matplotlib.axes._subplots.AxesSubplot at 0x258b73daa48>"
      ]
     },
     "execution_count": 74,
     "metadata": {},
     "output_type": "execute_result"
    },
    {
     "data": {
      "image/png": "[encoded data removed]",
      "text/plain": [
       "<Figure size 432x288 with 2 Axes>"
      ]
     },
     "metadata": {
      "needs_background": "light"
     },
     "output_type": "display_data"
    }
   ],
   "source": [
    "sb.heatmap(df4.corr(),annot=True)"
   ]
  },
  {
   "cell_type": "code",
   "execution_count": 75,
   "metadata": {},
   "outputs": [
    {
     "data": {
      "text/plain": [
       "<matplotlib.axes._subplots.AxesSubplot at 0x2588cf9c1c8>"
      ]
     },
     "execution_count": 75,
     "metadata": {},
     "output_type": "execute_result"
    },
    {
     "data": {
      "image/png": "[encoded data removed]",
      "text/plain": [
       "<Figure size 432x288 with 1 Axes>"
      ]
     },
     "metadata": {
      "needs_background": "light"
     },
     "output_type": "display_data"
    }
   ],
   "source": [
    "sb.countplot(df4['purchase_status'])  #0=CIC and 1=FIC"
   ]
  },
  {
   "cell_type": "code",
   "execution_count": 76,
   "metadata": {},
   "outputs": [
    {
     "data": {
      "text/plain": [
       "9111"
      ]
     },
     "execution_count": 76,
     "metadata": {},
     "output_type": "execute_result"
    }
   ],
   "source": [
    "#number of users in the data\n",
    "len(df3['UserID'].unique())"
   ]
  },
  {
   "cell_type": "code",
   "execution_count": 77,
   "metadata": {},
   "outputs": [
    {
     "data": {
      "text/plain": [
       "29012"
      ]
     },
     "execution_count": 77,
     "metadata": {},
     "output_type": "execute_result"
    }
   ],
   "source": [
    "#number of purchases that have occurred\n",
    "len(df3['PurchaseID'].unique())"
   ]
  },
  {
   "cell_type": "code",
   "execution_count": 78,
   "metadata": {
    "scrolled": true
   },
   "outputs": [
    {
     "data": {
      "text/plain": [
       "<matplotlib.axes._subplots.AxesSubplot at 0x2588d010bc8>"
      ]
     },
     "execution_count": 78,
     "metadata": {},
     "output_type": "execute_result"
    },
    {
     "data": {
      "image/png": "[encoded data removed]",
      "text/plain": [
       "<Figure size 432x288 with 1 Axes>"
      ]
     },
     "metadata": {
      "needs_background": "light"
     },
     "output_type": "display_data"
    }
   ],
   "source": [
    "sb.countplot(df3['type_touch'])"
   ]
  },
  {
   "cell_type": "code",
   "execution_count": 79,
   "metadata": {
    "scrolled": true
   },
   "outputs": [
    {
     "data": {
      "text/plain": [
       "<matplotlib.axes._subplots.AxesSubplot at 0x2588d5328c8>"
      ]
     },
     "execution_count": 79,
     "metadata": {},
     "output_type": "execute_result"
    },
    {
     "data": {
      "image/png": "[encoded data removed]",
      "text/plain": [
       "<Figure size 432x288 with 1 Axes>"
      ]
     },
     "metadata": {
      "needs_background": "light"
     },
     "output_type": "display_data"
    }
   ],
   "source": [
    "sb.countplot(df4['SPSS_Regio5'])"
   ]
  },
  {
   "cell_type": "code",
   "execution_count": 80,
   "metadata": {
    "scrolled": true
   },
   "outputs": [
    {
     "data": {
      "text/html": [
       "<div>\n",
       "<style scoped>\n",
       "    .dataframe tbody tr th:only-of-type {\n",
       "        vertical-align: middle;\n",
       "    }\n",
       "\n",
       "    .dataframe tbody tr th {\n",
       "        vertical-align: top;\n",
       "    }\n",
       "\n",
       "    .dataframe thead th {\n",
       "        text-align: right;\n",
       "    }\n",
       "</style>\n",
       "<table border=\"1\" class=\"dataframe\">\n",
       "  <thead>\n",
       "    <tr style=\"text-align: right;\">\n",
       "      <th></th>\n",
       "      <th>DEVICE_TYPE</th>\n",
       "    </tr>\n",
       "    <tr>\n",
       "      <th>DEVICE_TYPE</th>\n",
       "      <th></th>\n",
       "    </tr>\n",
       "  </thead>\n",
       "  <tbody>\n",
       "    <tr>\n",
       "      <th>FIXED</th>\n",
       "      <td>0.804288</td>\n",
       "    </tr>\n",
       "    <tr>\n",
       "      <th>MOBILE</th>\n",
       "      <td>0.195712</td>\n",
       "    </tr>\n",
       "  </tbody>\n",
       "</table>\n",
       "</div>"
      ],
      "text/plain": [
       "             DEVICE_TYPE\n",
       "DEVICE_TYPE             \n",
       "FIXED           0.804288\n",
       "MOBILE          0.195712"
      ]
     },
     "execution_count": 80,
     "metadata": {},
     "output_type": "execute_result"
    }
   ],
   "source": [
    "#% of people using device_type\n",
    "df3.groupby('DEVICE_TYPE').agg({'DEVICE_TYPE':'size'})/df3.shape[0]"
   ]
  },
  {
   "cell_type": "code",
   "execution_count": 81,
   "metadata": {},
   "outputs": [],
   "source": [
    "# customer behaviour in online space\n",
    "# whether it is Customer-initiated Touchpoint or Company-initiated touchpoint).\n",
    "# Channels such as display, retargeting, affiliate, and e-mail advertising have been classified as contacts initiated \n",
    "#by the firm\n",
    "#2015-2016 "
   ]
  },
  {
   "cell_type": "code",
   "execution_count": 82,
   "metadata": {},
   "outputs": [],
   "source": [
    "df3.to_csv(r'C:\\\\Users\\\\LILLY GRACE\\\\Downloads\\\\Data Purchase Journey Travel\\\\df3.csv')"
   ]
  },
  {
   "cell_type": "code",
   "execution_count": 83,
   "metadata": {
    "scrolled": true
   },
   "outputs": [
    {
     "data": {
      "text/plain": [
       "Duration                 float64\n",
       "MobilePanel               object\n",
       "FixedPanel                object\n",
       "purchase_status            int64\n",
       "SPSS_Regio5               object\n",
       "BAS_huishoudgrootte      float64\n",
       "GenderID                   int32\n",
       "BAS_werkzaamheid_resp     object\n",
       "BAS_bruto_jaarinkomen    float64\n",
       "AFG_sk2015               float64\n",
       "SPSS_Lifestage            object\n",
       "dtype: object"
      ]
     },
     "execution_count": 83,
     "metadata": {},
     "output_type": "execute_result"
    }
   ],
   "source": [
    "df4.dtypes"
   ]
  },
  {
   "cell_type": "code",
   "execution_count": 84,
   "metadata": {},
   "outputs": [],
   "source": [
    "df3['type_touch']=df3['type_touch'].astype(int)"
   ]
  },
  {
   "cell_type": "code",
   "execution_count": 85,
   "metadata": {},
   "outputs": [
    {
     "data": {
      "text/plain": [
       "1     10938\n",
       "7      8445\n",
       "4      3089\n",
       "16     2246\n",
       "13     2085\n",
       "10      506\n",
       "15      322\n",
       "2       275\n",
       "5       241\n",
       "3       181\n",
       "14      161\n",
       "22      149\n",
       "9       132\n",
       "21       60\n",
       "8        52\n",
       "20       43\n",
       "19       28\n",
       "18       28\n",
       "6        26\n",
       "12        5\n",
       "Name: type_touch, dtype: int64"
      ]
     },
     "execution_count": 85,
     "metadata": {},
     "output_type": "execute_result"
    }
   ],
   "source": [
    "df3['type_touch'].value_counts()"
   ]
  },
  {
   "cell_type": "code",
   "execution_count": 86,
   "metadata": {},
   "outputs": [
    {
     "data": {
      "text/plain": [
       "(29012, 23)"
      ]
     },
     "execution_count": 86,
     "metadata": {},
     "output_type": "execute_result"
    }
   ],
   "source": [
    "df3.shape"
   ]
  },
  {
   "cell_type": "code",
   "execution_count": 87,
   "metadata": {},
   "outputs": [
    {
     "data": {
      "text/plain": [
       "Duration                 float64\n",
       "MobilePanel               object\n",
       "FixedPanel                object\n",
       "purchase_status            int64\n",
       "SPSS_Regio5               object\n",
       "BAS_huishoudgrootte      float64\n",
       "GenderID                   int32\n",
       "BAS_werkzaamheid_resp     object\n",
       "BAS_bruto_jaarinkomen    float64\n",
       "AFG_sk2015               float64\n",
       "SPSS_Lifestage            object\n",
       "dtype: object"
      ]
     },
     "execution_count": 87,
     "metadata": {},
     "output_type": "execute_result"
    }
   ],
   "source": [
    "df4.dtypes"
   ]
  },
  {
   "cell_type": "code",
   "execution_count": 88,
   "metadata": {},
   "outputs": [],
   "source": [
    "df5=df4.drop(['SPSS_Regio5','BAS_werkzaamheid_resp','SPSS_Lifestage'],axis=1)"
   ]
  },
  {
   "cell_type": "code",
   "execution_count": 90,
   "metadata": {},
   "outputs": [],
   "source": [
    "df5['MobilePanel']=df5['MobilePanel'].astype(int)\n",
    "df5['FixedPanel']=df5['FixedPanel'].astype(int)"
   ]
  },
  {
   "cell_type": "code",
   "execution_count": 91,
   "metadata": {
    "scrolled": true
   },
   "outputs": [
    {
     "data": {
      "text/plain": [
       "Duration                 float64\n",
       "MobilePanel                int32\n",
       "FixedPanel                 int32\n",
       "purchase_status            int64\n",
       "BAS_huishoudgrootte      float64\n",
       "GenderID                   int32\n",
       "BAS_bruto_jaarinkomen    float64\n",
       "AFG_sk2015               float64\n",
       "dtype: object"
      ]
     },
     "execution_count": 91,
     "metadata": {},
     "output_type": "execute_result"
    }
   ],
   "source": [
    "df5.dtypes"
   ]
  },
  {
   "cell_type": "code",
   "execution_count": 92,
   "metadata": {},
   "outputs": [],
   "source": [
    "import sklearn.preprocessing as preprocessing\n",
    "dat_scaled=preprocessing.scale(df5,axis=0)"
   ]
  },
  {
   "cell_type": "code",
   "execution_count": 93,
   "metadata": {},
   "outputs": [],
   "source": [
    "import sklearn.cluster as cluster"
   ]
  },
  {
   "cell_type": "code",
   "execution_count": 94,
   "metadata": {},
   "outputs": [],
   "source": [
    "from scipy.spatial.distance import cdist\n",
    "K=range(1,20)\n",
    "wss = []\n",
    "for k in K:\n",
    "    kmeans = cluster.KMeans(n_clusters=k,init=\"k-means++\")\n",
    "    kmeans.fit(dat_scaled)\n",
    "    wss.append(sum(np.min(cdist(dat_scaled, kmeans.cluster_centers_, 'euclidean'),axis=1)))"
   ]
  },
  {
   "cell_type": "code",
   "execution_count": 96,
   "metadata": {
    "scrolled": true
   },
   "outputs": [
    {
     "data": {
      "image/png": "[encoded data removed]",
      "text/plain": [
       "<Figure size 432x288 with 1 Axes>"
      ]
     },
     "metadata": {
      "needs_background": "light"
     },
     "output_type": "display_data"
    }
   ],
   "source": [
    "plt.plot(K, wss, 'bx')\n",
    "plt.xlabel('k')\n",
    "plt.ylabel('Total within sum of squares')\n",
    "plt.title('Selecting k with the Elbow Method')\n",
    "plt.show()"
   ]
  },
  {
   "cell_type": "code",
   "execution_count": 98,
   "metadata": {},
   "outputs": [],
   "source": [
    "import sklearn.metrics as metrics"
   ]
  },
  {
   "cell_type": "code",
   "execution_count": 125,
   "metadata": {},
   "outputs": [
    {
     "name": "stdout",
     "output_type": "stream",
     "text": [
      "Silhoutte score for k= 5 is 0.1824788389769526\n",
      "Silhoutte score for k= 6 is 0.18998032720760583\n",
      "Silhoutte score for k= 7 is 0.2036002111303463\n",
      "Silhoutte score for k= 8 is 0.2027717431580955\n",
      "Silhoutte score for k= 9 is 0.2050578711275978\n",
      "Silhoutte score for k= 10 is 0.21160318530696925\n",
      "Silhoutte score for k= 11 is 0.2202003032588912\n",
      "Silhoutte score for k= 12 is 0.22157111966755594\n",
      "Silhoutte score for k= 13 is 0.21407167469229182\n",
      "Silhoutte score for k= 14 is 0.21712021887889918\n"
     ]
    }
   ],
   "source": [
    "for i in range(5,15):\n",
    "    labels=cluster.KMeans(n_clusters=i,random_state=200).fit(dat_scaled).labels_\n",
    "    print (\"Silhoutte score for k= \"+str(i)+\" is \"+str(metrics.silhouette_score(dat_scaled,labels,metric=\"euclidean\",\n",
    "                                 random_state=200)))\n",
    "   "
   ]
  },
  {
   "cell_type": "code",
   "execution_count": 117,
   "metadata": {},
   "outputs": [
    {
     "data": {
      "text/plain": [
       "KMeans(n_clusters=5, random_state=200)"
      ]
     },
     "execution_count": 117,
     "metadata": {},
     "output_type": "execute_result"
    }
   ],
   "source": [
    "kmeans=cluster.KMeans(n_clusters=5,init=\"k-means++\",random_state=200)\n",
    "kmeans=kmeans.fit(dat_scaled)  #it doesnt change convergence\n",
    "kmeans"
   ]
  },
  {
   "cell_type": "code",
   "execution_count": 118,
   "metadata": {},
   "outputs": [
    {
     "data": {
      "text/plain": [
       "[1,\n",
       " 1,\n",
       " 0,\n",
       " 0,\n",
       " 0,\n",
       " 1,\n",
       " 1,\n",
       " 1,\n",
       " 1,\n",
       " 1,\n",
       " 1,\n",
       " 3,\n",
       " 2,\n",
       " 3,\n",
       " 2,\n",
       " 2,\n",
       " 2,\n",
       " 2,\n",
       " 2,\n",
       " 2,\n",
       " 2,\n",
       " 2,\n",
       " 0,\n",
       " 4,\n",
       " 4,\n",
       " 0,\n",
       " 2,\n",
       " 2,\n",
       " 3,\n",
       " 0,\n",
       " 0,\n",
       " 0,\n",
       " 0,\n",
       " 0,\n",
       " 4,\n",
       " 2,\n",
       " 3,\n",
       " 2,\n",
       " 2,\n",
       " 2,\n",
       " 2,\n",
       " 2,\n",
       " 2,\n",
       " 2,\n",
       " 2,\n",
       " 2,\n",
       " 2,\n",
       " 2,\n",
       " 2,\n",
       " 4,\n",
       " 1,\n",
       " 1,\n",
       " 3,\n",
       " 3,\n",
       " 2,\n",
       " 3,\n",
       " 2,\n",
       " 2,\n",
       " 0,\n",
       " 0,\n",
       " 0,\n",
       " 0,\n",
       " 2,\n",
       " 3,\n",
       " 1,\n",
       " 1,\n",
       " 1,\n",
       " 4,\n",
       " 1,\n",
       " 1,\n",
       " 1,\n",
       " 3,\n",
       " 3,\n",
       " 1,\n",
       " 1,\n",
       " 1,\n",
       " 1,\n",
       " 1,\n",
       " 1,\n",
       " 1,\n",
       " 2,\n",
       " 2,\n",
       " 2,\n",
       " 2,\n",
       " 2,\n",
       " 2,\n",
       " 4,\n",
       " 2,\n",
       " 2,\n",
       " 2,\n",
       " 2,\n",
       " 4,\n",
       " 3,\n",
       " 2,\n",
       " 2,\n",
       " 2,\n",
       " 2,\n",
       " 3,\n",
       " 2,\n",
       " 2,\n",
       " 2,\n",
       " 2,\n",
       " 3,\n",
       " 3,\n",
       " 4,\n",
       " 4,\n",
       " 4,\n",
       " 2,\n",
       " 0,\n",
       " 0,\n",
       " 0,\n",
       " 0,\n",
       " 0,\n",
       " 0,\n",
       " 0,\n",
       " 0,\n",
       " 2,\n",
       " 2,\n",
       " 4,\n",
       " 2,\n",
       " 2,\n",
       " 2,\n",
       " 2,\n",
       " 1,\n",
       " 3,\n",
       " 3,\n",
       " 1,\n",
       " 4,\n",
       " 1,\n",
       " 1,\n",
       " 2,\n",
       " 2,\n",
       " 2,\n",
       " 2,\n",
       " 2,\n",
       " 4,\n",
       " 2,\n",
       " 2,\n",
       " 2,\n",
       " 4,\n",
       " 4,\n",
       " 2,\n",
       " 2,\n",
       " 3,\n",
       " 0,\n",
       " 0,\n",
       " 0,\n",
       " 0,\n",
       " 0,\n",
       " 0,\n",
       " 0,\n",
       " 4,\n",
       " 1,\n",
       " 1,\n",
       " 1,\n",
       " 1,\n",
       " 2,\n",
       " 2,\n",
       " 0,\n",
       " 0,\n",
       " 0,\n",
       " 0,\n",
       " 0,\n",
       " 0,\n",
       " 0,\n",
       " 4,\n",
       " 1,\n",
       " 2,\n",
       " 2,\n",
       " 2,\n",
       " 2,\n",
       " 2,\n",
       " 1,\n",
       " 1,\n",
       " 1,\n",
       " 1,\n",
       " 1,\n",
       " 1,\n",
       " 1,\n",
       " 1,\n",
       " 1,\n",
       " 1,\n",
       " 2,\n",
       " 2,\n",
       " 3,\n",
       " 2,\n",
       " 2,\n",
       " 2,\n",
       " 2,\n",
       " 2,\n",
       " 1,\n",
       " 3,\n",
       " 1,\n",
       " 1,\n",
       " 4,\n",
       " 4,\n",
       " 1,\n",
       " 1,\n",
       " 1,\n",
       " 1,\n",
       " 1,\n",
       " 1,\n",
       " 1,\n",
       " 2,\n",
       " 2,\n",
       " 3,\n",
       " 1,\n",
       " 4,\n",
       " 1,\n",
       " 3,\n",
       " 2,\n",
       " 2,\n",
       " 4,\n",
       " 2,\n",
       " 2,\n",
       " 2,\n",
       " 2,\n",
       " 2,\n",
       " 2,\n",
       " 2,\n",
       " 2,\n",
       " 2,\n",
       " 2,\n",
       " 2,\n",
       " 2,\n",
       " 1,\n",
       " 4,\n",
       " 1,\n",
       " 1,\n",
       " 1,\n",
       " 1,\n",
       " 1,\n",
       " 3,\n",
       " 2,\n",
       " 3,\n",
       " 2,\n",
       " 3,\n",
       " 2,\n",
       " 3,\n",
       " 2,\n",
       " 4,\n",
       " 1,\n",
       " 1,\n",
       " 3,\n",
       " 3,\n",
       " 2,\n",
       " 4,\n",
       " 2,\n",
       " 4,\n",
       " 1,\n",
       " 1,\n",
       " 1,\n",
       " 1,\n",
       " 1,\n",
       " 1,\n",
       " 1,\n",
       " 0,\n",
       " 0,\n",
       " 0,\n",
       " 0,\n",
       " 0,\n",
       " 0,\n",
       " 0,\n",
       " 0,\n",
       " 2,\n",
       " 2,\n",
       " 4,\n",
       " 2,\n",
       " 2,\n",
       " 2,\n",
       " 2,\n",
       " 2,\n",
       " 3,\n",
       " 1,\n",
       " 1,\n",
       " 1,\n",
       " 1,\n",
       " 1,\n",
       " 1,\n",
       " 1,\n",
       " 2,\n",
       " 4,\n",
       " 4,\n",
       " 1,\n",
       " 4,\n",
       " 3,\n",
       " 2,\n",
       " 2,\n",
       " 2,\n",
       " 2,\n",
       " 0,\n",
       " 0,\n",
       " 1,\n",
       " 1,\n",
       " 1,\n",
       " 2,\n",
       " 1,\n",
       " 1,\n",
       " 1,\n",
       " 1,\n",
       " 1,\n",
       " 1,\n",
       " 1,\n",
       " 1,\n",
       " 1,\n",
       " 3,\n",
       " 3,\n",
       " 1,\n",
       " 3,\n",
       " 1,\n",
       " 3,\n",
       " 1,\n",
       " 1,\n",
       " 1,\n",
       " 1,\n",
       " 1,\n",
       " 1,\n",
       " 1,\n",
       " 3,\n",
       " 1,\n",
       " 1,\n",
       " 4,\n",
       " 1,\n",
       " 3,\n",
       " 2,\n",
       " 0,\n",
       " 0,\n",
       " 0,\n",
       " 0,\n",
       " 0,\n",
       " 4,\n",
       " 0,\n",
       " 3,\n",
       " 2,\n",
       " 2,\n",
       " 2,\n",
       " 2,\n",
       " 4,\n",
       " 2,\n",
       " 2,\n",
       " 2,\n",
       " 2,\n",
       " 2,\n",
       " 2,\n",
       " 3,\n",
       " 2,\n",
       " 4,\n",
       " 4,\n",
       " 2,\n",
       " 2,\n",
       " 4,\n",
       " 4,\n",
       " 2,\n",
       " 2,\n",
       " 2,\n",
       " 2,\n",
       " 1,\n",
       " 1,\n",
       " 4,\n",
       " 1,\n",
       " 2,\n",
       " 2,\n",
       " 2,\n",
       " 2,\n",
       " 2,\n",
       " 2,\n",
       " 2,\n",
       " 2,\n",
       " 2,\n",
       " 1,\n",
       " 1,\n",
       " 4,\n",
       " 1,\n",
       " 3,\n",
       " 3,\n",
       " 1,\n",
       " 2,\n",
       " 2,\n",
       " 2,\n",
       " 2,\n",
       " 2,\n",
       " 2,\n",
       " 0,\n",
       " 0,\n",
       " 2,\n",
       " 2,\n",
       " 2,\n",
       " 0,\n",
       " 4,\n",
       " 3,\n",
       " 0,\n",
       " 0,\n",
       " 0,\n",
       " 1,\n",
       " 1,\n",
       " 1,\n",
       " 1,\n",
       " 3,\n",
       " 0,\n",
       " 0,\n",
       " 0,\n",
       " 3,\n",
       " 1,\n",
       " 1,\n",
       " 1,\n",
       " 1,\n",
       " 1,\n",
       " 1,\n",
       " 1,\n",
       " 4,\n",
       " 0,\n",
       " 2,\n",
       " 2,\n",
       " 4,\n",
       " 1,\n",
       " 1,\n",
       " 1,\n",
       " 1,\n",
       " 1,\n",
       " 1,\n",
       " 1,\n",
       " 1,\n",
       " 1,\n",
       " 1,\n",
       " 3,\n",
       " 3,\n",
       " 3,\n",
       " 2,\n",
       " 2,\n",
       " 2,\n",
       " 3,\n",
       " 1,\n",
       " 1,\n",
       " 1,\n",
       " 1,\n",
       " 1,\n",
       " 1,\n",
       " 3,\n",
       " 3,\n",
       " 3,\n",
       " 2,\n",
       " 2,\n",
       " 2,\n",
       " 4,\n",
       " 3,\n",
       " 0,\n",
       " 0,\n",
       " 0,\n",
       " 4,\n",
       " 0,\n",
       " 3,\n",
       " 2,\n",
       " 2,\n",
       " 2,\n",
       " 2,\n",
       " 2,\n",
       " 2,\n",
       " 2,\n",
       " 2,\n",
       " 2,\n",
       " 2,\n",
       " 2,\n",
       " 2,\n",
       " 0,\n",
       " 0,\n",
       " 4,\n",
       " 0,\n",
       " 0,\n",
       " 0,\n",
       " 1,\n",
       " 2,\n",
       " 2,\n",
       " 2,\n",
       " 2,\n",
       " 2,\n",
       " 2,\n",
       " 3,\n",
       " 2,\n",
       " 2,\n",
       " 2,\n",
       " 2,\n",
       " 4,\n",
       " 2,\n",
       " 3,\n",
       " 1,\n",
       " 1,\n",
       " 4,\n",
       " 1,\n",
       " 2,\n",
       " 2,\n",
       " 2,\n",
       " 2,\n",
       " 1,\n",
       " 1,\n",
       " 1,\n",
       " 1,\n",
       " 0,\n",
       " 2,\n",
       " 2,\n",
       " 2,\n",
       " 1,\n",
       " 1,\n",
       " 1,\n",
       " 1,\n",
       " 1,\n",
       " 1,\n",
       " 1,\n",
       " 1,\n",
       " 3,\n",
       " 2,\n",
       " 2,\n",
       " 2,\n",
       " 2,\n",
       " 2,\n",
       " 2,\n",
       " 2,\n",
       " 4,\n",
       " 2,\n",
       " 0,\n",
       " 0,\n",
       " 3,\n",
       " 2,\n",
       " 4,\n",
       " 2,\n",
       " 2,\n",
       " 3,\n",
       " 2,\n",
       " 2,\n",
       " 4,\n",
       " 2,\n",
       " 2,\n",
       " 2,\n",
       " 2,\n",
       " 0,\n",
       " 0,\n",
       " 0,\n",
       " 0,\n",
       " 0,\n",
       " 1,\n",
       " 1,\n",
       " 1,\n",
       " 1,\n",
       " 1,\n",
       " 3,\n",
       " 2,\n",
       " 2,\n",
       " 1,\n",
       " 1,\n",
       " 2,\n",
       " 2,\n",
       " 2,\n",
       " 2,\n",
       " 4,\n",
       " 2,\n",
       " 2,\n",
       " 2,\n",
       " 2,\n",
       " 2,\n",
       " 3,\n",
       " 2,\n",
       " 2,\n",
       " 2,\n",
       " 3,\n",
       " 3,\n",
       " 0,\n",
       " 3,\n",
       " 2,\n",
       " 2,\n",
       " 2,\n",
       " 1,\n",
       " 1,\n",
       " 1,\n",
       " 1,\n",
       " 1,\n",
       " 2,\n",
       " 4,\n",
       " 2,\n",
       " 2,\n",
       " 4,\n",
       " 4,\n",
       " 3,\n",
       " 3,\n",
       " 1,\n",
       " 1,\n",
       " 1,\n",
       " 3,\n",
       " 1,\n",
       " 1,\n",
       " 1,\n",
       " 1,\n",
       " 1,\n",
       " 3,\n",
       " 2,\n",
       " 2,\n",
       " 3,\n",
       " 1,\n",
       " 1,\n",
       " 1,\n",
       " 1,\n",
       " 4,\n",
       " 2,\n",
       " 2,\n",
       " 2,\n",
       " 2,\n",
       " 2,\n",
       " 2,\n",
       " 2,\n",
       " 1,\n",
       " 4,\n",
       " 4,\n",
       " 1,\n",
       " 1,\n",
       " 1,\n",
       " 1,\n",
       " 1,\n",
       " 1,\n",
       " 3,\n",
       " 1,\n",
       " 2,\n",
       " 2,\n",
       " 2,\n",
       " 2,\n",
       " 2,\n",
       " 2,\n",
       " 1,\n",
       " 3,\n",
       " 2,\n",
       " 3,\n",
       " 2,\n",
       " 1,\n",
       " 1,\n",
       " 1,\n",
       " 1,\n",
       " 1,\n",
       " 1,\n",
       " 1,\n",
       " 1,\n",
       " 1,\n",
       " 3,\n",
       " 1,\n",
       " 1,\n",
       " 1,\n",
       " 1,\n",
       " 1,\n",
       " 0,\n",
       " 4,\n",
       " 0,\n",
       " 0,\n",
       " 1,\n",
       " 1,\n",
       " 2,\n",
       " 0,\n",
       " 0,\n",
       " 0,\n",
       " 0,\n",
       " 0,\n",
       " 1,\n",
       " 4,\n",
       " 1,\n",
       " 1,\n",
       " 1,\n",
       " 2,\n",
       " 2,\n",
       " 2,\n",
       " 4,\n",
       " 1,\n",
       " 1,\n",
       " 4,\n",
       " 1,\n",
       " 1,\n",
       " 1,\n",
       " 1,\n",
       " 3,\n",
       " 2,\n",
       " 2,\n",
       " 2,\n",
       " 2,\n",
       " 3,\n",
       " 2,\n",
       " 2,\n",
       " 1,\n",
       " 0,\n",
       " 0,\n",
       " 0,\n",
       " 4,\n",
       " 4,\n",
       " 0,\n",
       " 0,\n",
       " 0,\n",
       " 1,\n",
       " 4,\n",
       " 0,\n",
       " 0,\n",
       " 0,\n",
       " 0,\n",
       " 3,\n",
       " 1,\n",
       " 1,\n",
       " 1,\n",
       " 1,\n",
       " 1,\n",
       " 2,\n",
       " 2,\n",
       " 3,\n",
       " 3,\n",
       " 1,\n",
       " 3,\n",
       " 1,\n",
       " 3,\n",
       " 1,\n",
       " 1,\n",
       " 1,\n",
       " 1,\n",
       " 1,\n",
       " 4,\n",
       " 3,\n",
       " 1,\n",
       " 1,\n",
       " 1,\n",
       " 1,\n",
       " 1,\n",
       " 4,\n",
       " 2,\n",
       " 4,\n",
       " 2,\n",
       " 1,\n",
       " 1,\n",
       " 1,\n",
       " 1,\n",
       " 1,\n",
       " 1,\n",
       " 1,\n",
       " 1,\n",
       " 3,\n",
       " 1,\n",
       " 0,\n",
       " 0,\n",
       " 0,\n",
       " 4,\n",
       " 0,\n",
       " 1,\n",
       " 1,\n",
       " 1,\n",
       " 1,\n",
       " 3,\n",
       " 1,\n",
       " 1,\n",
       " 1,\n",
       " 1,\n",
       " 3,\n",
       " 3,\n",
       " 2,\n",
       " 4,\n",
       " 3,\n",
       " 3,\n",
       " 4,\n",
       " 0,\n",
       " 0,\n",
       " 4,\n",
       " 3,\n",
       " 3,\n",
       " 0,\n",
       " 0,\n",
       " 0,\n",
       " 3,\n",
       " 3,\n",
       " 0,\n",
       " 4,\n",
       " 3,\n",
       " 1,\n",
       " 1,\n",
       " 1,\n",
       " 1,\n",
       " 1,\n",
       " 1,\n",
       " 1,\n",
       " 4,\n",
       " 1,\n",
       " 2,\n",
       " 2,\n",
       " 2,\n",
       " 3,\n",
       " 3,\n",
       " 3,\n",
       " 1,\n",
       " 1,\n",
       " 1,\n",
       " 1,\n",
       " 1,\n",
       " 1,\n",
       " 1,\n",
       " 1,\n",
       " 1,\n",
       " 1,\n",
       " 1,\n",
       " 3,\n",
       " 1,\n",
       " 1,\n",
       " 1,\n",
       " 1,\n",
       " 1,\n",
       " 1,\n",
       " 1,\n",
       " 1,\n",
       " 2,\n",
       " 2,\n",
       " 2,\n",
       " 2,\n",
       " 2,\n",
       " 3,\n",
       " 2,\n",
       " 3,\n",
       " 2,\n",
       " 3,\n",
       " 2,\n",
       " 3,\n",
       " 2,\n",
       " 2,\n",
       " 2,\n",
       " 2,\n",
       " 4,\n",
       " 0,\n",
       " 0,\n",
       " 0,\n",
       " 3,\n",
       " 3,\n",
       " 3,\n",
       " 1,\n",
       " 1,\n",
       " 1,\n",
       " 1,\n",
       " 1,\n",
       " 0,\n",
       " 0,\n",
       " 0,\n",
       " 1,\n",
       " 1,\n",
       " 1,\n",
       " 1,\n",
       " 1,\n",
       " 1,\n",
       " 3,\n",
       " 2,\n",
       " 2,\n",
       " 2,\n",
       " 2,\n",
       " 4,\n",
       " 1,\n",
       " 1,\n",
       " 1,\n",
       " 1,\n",
       " 1,\n",
       " 1,\n",
       " 3,\n",
       " 3,\n",
       " 3,\n",
       " 2,\n",
       " 2,\n",
       " 2,\n",
       " 4,\n",
       " 4,\n",
       " 1,\n",
       " 4,\n",
       " 1,\n",
       " 4,\n",
       " 1,\n",
       " 3,\n",
       " 1,\n",
       " 1,\n",
       " 1,\n",
       " 1,\n",
       " 1,\n",
       " 3,\n",
       " 2,\n",
       " 2,\n",
       " 2,\n",
       " 3,\n",
       " 1,\n",
       " 3,\n",
       " 2,\n",
       " 2,\n",
       " 2,\n",
       " 2,\n",
       " 3,\n",
       " 4,\n",
       " 2,\n",
       " 2,\n",
       " 1,\n",
       " 1,\n",
       " 1,\n",
       " 1,\n",
       " 1,\n",
       " 1,\n",
       " 1,\n",
       " 1,\n",
       " 1,\n",
       " 0,\n",
       " 0,\n",
       " 0,\n",
       " 0,\n",
       " 4,\n",
       " 1,\n",
       " 4,\n",
       " 3,\n",
       " 3,\n",
       " 1,\n",
       " 4,\n",
       " 1,\n",
       " 1,\n",
       " 1,\n",
       " 1,\n",
       " 1,\n",
       " 0,\n",
       " 0,\n",
       " 0,\n",
       " 4,\n",
       " 4,\n",
       " 4,\n",
       " 4,\n",
       " 0,\n",
       " 4,\n",
       " 4,\n",
       " 4,\n",
       " 0,\n",
       " 4,\n",
       " 3,\n",
       " 2,\n",
       " 2,\n",
       " 1,\n",
       " 1,\n",
       " 4,\n",
       " 1,\n",
       " 1,\n",
       " 4,\n",
       " 4,\n",
       " 0,\n",
       " 1,\n",
       " 0,\n",
       " 0,\n",
       " 3,\n",
       " 2,\n",
       " 3,\n",
       " 3,\n",
       " 1,\n",
       " 3,\n",
       " 3,\n",
       " 2,\n",
       " 2,\n",
       " 3,\n",
       " 2,\n",
       " 2,\n",
       " 4,\n",
       " 4,\n",
       " 2,\n",
       " 2,\n",
       " 1,\n",
       " 4,\n",
       " 0,\n",
       " 1,\n",
       " 1,\n",
       " 1,\n",
       " 4,\n",
       " 1,\n",
       " 1,\n",
       " 1,\n",
       " 1,\n",
       " 1,\n",
       " 1,\n",
       " 1,\n",
       " 1,\n",
       " 1,\n",
       " 3,\n",
       " 1,\n",
       " 1,\n",
       " 1,\n",
       " 1,\n",
       " 1,\n",
       " 1,\n",
       " 1,\n",
       " 1,\n",
       " 1,\n",
       " 1,\n",
       " 1,\n",
       " 1,\n",
       " 3,\n",
       " 1,\n",
       " 4,\n",
       " 1,\n",
       " 1,\n",
       " 1,\n",
       " 1,\n",
       " 4,\n",
       " 1,\n",
       " 3,\n",
       " 2,\n",
       " 3,\n",
       " 1,\n",
       " 1,\n",
       " 1,\n",
       " 1,\n",
       " ...]"
      ]
     },
     "execution_count": 118,
     "metadata": {},
     "output_type": "execute_result"
    }
   ],
   "source": [
    "lab=kmeans.labels_ #tis is the attribute\n",
    "lab=list(lab)\n",
    "lab"
   ]
  },
  {
   "cell_type": "code",
   "execution_count": 119,
   "metadata": {},
   "outputs": [],
   "source": [
    "df5['labels']=lab"
   ]
  },
  {
   "cell_type": "code",
   "execution_count": 120,
   "metadata": {},
   "outputs": [
    {
     "data": {
      "text/html": [
       "<div>\n",
       "<style scoped>\n",
       "    .dataframe tbody tr th:only-of-type {\n",
       "        vertical-align: middle;\n",
       "    }\n",
       "\n",
       "    .dataframe tbody tr th {\n",
       "        vertical-align: top;\n",
       "    }\n",
       "\n",
       "    .dataframe thead th {\n",
       "        text-align: right;\n",
       "    }\n",
       "</style>\n",
       "<table border=\"1\" class=\"dataframe\">\n",
       "  <thead>\n",
       "    <tr style=\"text-align: right;\">\n",
       "      <th></th>\n",
       "      <th>labels</th>\n",
       "    </tr>\n",
       "    <tr>\n",
       "      <th>labels</th>\n",
       "      <th></th>\n",
       "    </tr>\n",
       "  </thead>\n",
       "  <tbody>\n",
       "    <tr>\n",
       "      <th>0</th>\n",
       "      <td>6062</td>\n",
       "    </tr>\n",
       "    <tr>\n",
       "      <th>1</th>\n",
       "      <td>10451</td>\n",
       "    </tr>\n",
       "    <tr>\n",
       "      <th>2</th>\n",
       "      <td>5808</td>\n",
       "    </tr>\n",
       "    <tr>\n",
       "      <th>3</th>\n",
       "      <td>3646</td>\n",
       "    </tr>\n",
       "    <tr>\n",
       "      <th>4</th>\n",
       "      <td>3045</td>\n",
       "    </tr>\n",
       "  </tbody>\n",
       "</table>\n",
       "</div>"
      ],
      "text/plain": [
       "        labels\n",
       "labels        \n",
       "0         6062\n",
       "1        10451\n",
       "2         5808\n",
       "3         3646\n",
       "4         3045"
      ]
     },
     "execution_count": 120,
     "metadata": {},
     "output_type": "execute_result"
    }
   ],
   "source": [
    "df5.groupby('labels').agg({'labels':\"size\"})\n"
   ]
  },
  {
   "cell_type": "code",
   "execution_count": 124,
   "metadata": {},
   "outputs": [
    {
     "data": {
      "text/html": [
       "<div>\n",
       "<style scoped>\n",
       "    .dataframe tbody tr th:only-of-type {\n",
       "        vertical-align: middle;\n",
       "    }\n",
       "\n",
       "    .dataframe tbody tr th {\n",
       "        vertical-align: top;\n",
       "    }\n",
       "\n",
       "    .dataframe thead th {\n",
       "        text-align: right;\n",
       "    }\n",
       "</style>\n",
       "<table border=\"1\" class=\"dataframe\">\n",
       "  <thead>\n",
       "    <tr style=\"text-align: right;\">\n",
       "      <th></th>\n",
       "      <th>Duration</th>\n",
       "      <th>MobilePanel</th>\n",
       "      <th>FixedPanel</th>\n",
       "      <th>purchase_status</th>\n",
       "      <th>BAS_huishoudgrootte</th>\n",
       "      <th>GenderID</th>\n",
       "      <th>BAS_bruto_jaarinkomen</th>\n",
       "      <th>AFG_sk2015</th>\n",
       "      <th>labels</th>\n",
       "    </tr>\n",
       "  </thead>\n",
       "  <tbody>\n",
       "    <tr>\n",
       "      <th>count</th>\n",
       "      <td>6062.000000</td>\n",
       "      <td>6062.000000</td>\n",
       "      <td>6062.000000</td>\n",
       "      <td>6062.0</td>\n",
       "      <td>6062.000000</td>\n",
       "      <td>6062.000000</td>\n",
       "      <td>6062.000000</td>\n",
       "      <td>6062.000000</td>\n",
       "      <td>6062.0</td>\n",
       "    </tr>\n",
       "    <tr>\n",
       "      <th>mean</th>\n",
       "      <td>57.055242</td>\n",
       "      <td>17.788354</td>\n",
       "      <td>9.028538</td>\n",
       "      <td>0.0</td>\n",
       "      <td>1.612339</td>\n",
       "      <td>0.704883</td>\n",
       "      <td>2.338337</td>\n",
       "      <td>3.986803</td>\n",
       "      <td>0.0</td>\n",
       "    </tr>\n",
       "    <tr>\n",
       "      <th>std</th>\n",
       "      <td>76.418672</td>\n",
       "      <td>0.661908</td>\n",
       "      <td>7.525199</td>\n",
       "      <td>0.0</td>\n",
       "      <td>0.682469</td>\n",
       "      <td>0.456133</td>\n",
       "      <td>0.970534</td>\n",
       "      <td>1.004604</td>\n",
       "      <td>0.0</td>\n",
       "    </tr>\n",
       "    <tr>\n",
       "      <th>min</th>\n",
       "      <td>0.000000</td>\n",
       "      <td>11.000000</td>\n",
       "      <td>0.000000</td>\n",
       "      <td>0.0</td>\n",
       "      <td>1.000000</td>\n",
       "      <td>0.000000</td>\n",
       "      <td>1.000000</td>\n",
       "      <td>1.000000</td>\n",
       "      <td>0.0</td>\n",
       "    </tr>\n",
       "    <tr>\n",
       "      <th>25%</th>\n",
       "      <td>6.000000</td>\n",
       "      <td>18.000000</td>\n",
       "      <td>3.000000</td>\n",
       "      <td>0.0</td>\n",
       "      <td>1.000000</td>\n",
       "      <td>0.000000</td>\n",
       "      <td>2.000000</td>\n",
       "      <td>3.000000</td>\n",
       "      <td>0.0</td>\n",
       "    </tr>\n",
       "    <tr>\n",
       "      <th>50%</th>\n",
       "      <td>24.023500</td>\n",
       "      <td>18.000000</td>\n",
       "      <td>3.000000</td>\n",
       "      <td>0.0</td>\n",
       "      <td>2.000000</td>\n",
       "      <td>1.000000</td>\n",
       "      <td>2.000000</td>\n",
       "      <td>4.000000</td>\n",
       "      <td>0.0</td>\n",
       "    </tr>\n",
       "    <tr>\n",
       "      <th>75%</th>\n",
       "      <td>81.476500</td>\n",
       "      <td>18.000000</td>\n",
       "      <td>17.000000</td>\n",
       "      <td>0.0</td>\n",
       "      <td>2.000000</td>\n",
       "      <td>1.000000</td>\n",
       "      <td>3.000000</td>\n",
       "      <td>5.000000</td>\n",
       "      <td>0.0</td>\n",
       "    </tr>\n",
       "    <tr>\n",
       "      <th>max</th>\n",
       "      <td>507.879000</td>\n",
       "      <td>19.000000</td>\n",
       "      <td>17.000000</td>\n",
       "      <td>0.0</td>\n",
       "      <td>5.000000</td>\n",
       "      <td>1.000000</td>\n",
       "      <td>5.000000</td>\n",
       "      <td>5.000000</td>\n",
       "      <td>0.0</td>\n",
       "    </tr>\n",
       "  </tbody>\n",
       "</table>\n",
       "</div>"
      ],
      "text/plain": [
       "          Duration  MobilePanel   FixedPanel  purchase_status  \\\n",
       "count  6062.000000  6062.000000  6062.000000           6062.0   \n",
       "mean     57.055242    17.788354     9.028538              0.0   \n",
       "std      76.418672     0.661908     7.525199              0.0   \n",
       "min       0.000000    11.000000     0.000000              0.0   \n",
       "25%       6.000000    18.000000     3.000000              0.0   \n",
       "50%      24.023500    18.000000     3.000000              0.0   \n",
       "75%      81.476500    18.000000    17.000000              0.0   \n",
       "max     507.879000    19.000000    17.000000              0.0   \n",
       "\n",
       "       BAS_huishoudgrootte     GenderID  BAS_bruto_jaarinkomen   AFG_sk2015  \\\n",
       "count          6062.000000  6062.000000            6062.000000  6062.000000   \n",
       "mean              1.612339     0.704883               2.338337     3.986803   \n",
       "std               0.682469     0.456133               0.970534     1.004604   \n",
       "min               1.000000     0.000000               1.000000     1.000000   \n",
       "25%               1.000000     0.000000               2.000000     3.000000   \n",
       "50%               2.000000     1.000000               2.000000     4.000000   \n",
       "75%               2.000000     1.000000               3.000000     5.000000   \n",
       "max               5.000000     1.000000               5.000000     5.000000   \n",
       "\n",
       "       labels  \n",
       "count  6062.0  \n",
       "mean      0.0  \n",
       "std       0.0  \n",
       "min       0.0  \n",
       "25%       0.0  \n",
       "50%       0.0  \n",
       "75%       0.0  \n",
       "max       0.0  "
      ]
     },
     "execution_count": 124,
     "metadata": {},
     "output_type": "execute_result"
    }
   ],
   "source": [
    "df5[df5['labels']==0].describe()"
   ]
  },
  {
   "cell_type": "code",
   "execution_count": 122,
   "metadata": {},
   "outputs": [
    {
     "data": {
      "text/html": [
       "<div>\n",
       "<style scoped>\n",
       "    .dataframe tbody tr th:only-of-type {\n",
       "        vertical-align: middle;\n",
       "    }\n",
       "\n",
       "    .dataframe tbody tr th {\n",
       "        vertical-align: top;\n",
       "    }\n",
       "\n",
       "    .dataframe thead th {\n",
       "        text-align: right;\n",
       "    }\n",
       "</style>\n",
       "<table border=\"1\" class=\"dataframe\">\n",
       "  <thead>\n",
       "    <tr style=\"text-align: right;\">\n",
       "      <th></th>\n",
       "      <th>Duration</th>\n",
       "      <th>MobilePanel</th>\n",
       "      <th>FixedPanel</th>\n",
       "      <th>purchase_status</th>\n",
       "      <th>BAS_huishoudgrootte</th>\n",
       "      <th>GenderID</th>\n",
       "      <th>BAS_bruto_jaarinkomen</th>\n",
       "      <th>AFG_sk2015</th>\n",
       "      <th>labels</th>\n",
       "    </tr>\n",
       "  </thead>\n",
       "  <tbody>\n",
       "    <tr>\n",
       "      <th>count</th>\n",
       "      <td>10451.000000</td>\n",
       "      <td>10451.000000</td>\n",
       "      <td>10451.000000</td>\n",
       "      <td>10451.0</td>\n",
       "      <td>10451.000000</td>\n",
       "      <td>10451.0</td>\n",
       "      <td>10451.000000</td>\n",
       "      <td>10451.000000</td>\n",
       "      <td>10451.0</td>\n",
       "    </tr>\n",
       "    <tr>\n",
       "      <th>mean</th>\n",
       "      <td>50.529588</td>\n",
       "      <td>17.644627</td>\n",
       "      <td>7.077600</td>\n",
       "      <td>0.0</td>\n",
       "      <td>2.760962</td>\n",
       "      <td>1.0</td>\n",
       "      <td>5.240198</td>\n",
       "      <td>2.533832</td>\n",
       "      <td>1.0</td>\n",
       "    </tr>\n",
       "    <tr>\n",
       "      <th>std</th>\n",
       "      <td>68.583592</td>\n",
       "      <td>0.937274</td>\n",
       "      <td>7.411656</td>\n",
       "      <td>0.0</td>\n",
       "      <td>1.076865</td>\n",
       "      <td>0.0</td>\n",
       "      <td>1.695855</td>\n",
       "      <td>1.006904</td>\n",
       "      <td>0.0</td>\n",
       "    </tr>\n",
       "    <tr>\n",
       "      <th>min</th>\n",
       "      <td>0.000000</td>\n",
       "      <td>11.000000</td>\n",
       "      <td>0.000000</td>\n",
       "      <td>0.0</td>\n",
       "      <td>1.000000</td>\n",
       "      <td>1.0</td>\n",
       "      <td>1.000000</td>\n",
       "      <td>1.000000</td>\n",
       "      <td>1.0</td>\n",
       "    </tr>\n",
       "    <tr>\n",
       "      <th>25%</th>\n",
       "      <td>4.580000</td>\n",
       "      <td>18.000000</td>\n",
       "      <td>1.000000</td>\n",
       "      <td>0.0</td>\n",
       "      <td>2.000000</td>\n",
       "      <td>1.0</td>\n",
       "      <td>4.492260</td>\n",
       "      <td>2.000000</td>\n",
       "      <td>1.0</td>\n",
       "    </tr>\n",
       "    <tr>\n",
       "      <th>50%</th>\n",
       "      <td>20.553000</td>\n",
       "      <td>18.000000</td>\n",
       "      <td>3.000000</td>\n",
       "      <td>0.0</td>\n",
       "      <td>2.514675</td>\n",
       "      <td>1.0</td>\n",
       "      <td>4.492260</td>\n",
       "      <td>2.853003</td>\n",
       "      <td>1.0</td>\n",
       "    </tr>\n",
       "    <tr>\n",
       "      <th>75%</th>\n",
       "      <td>71.076500</td>\n",
       "      <td>18.000000</td>\n",
       "      <td>17.000000</td>\n",
       "      <td>0.0</td>\n",
       "      <td>3.000000</td>\n",
       "      <td>1.0</td>\n",
       "      <td>6.000000</td>\n",
       "      <td>3.000000</td>\n",
       "      <td>1.0</td>\n",
       "    </tr>\n",
       "    <tr>\n",
       "      <th>max</th>\n",
       "      <td>442.139000</td>\n",
       "      <td>19.000000</td>\n",
       "      <td>17.000000</td>\n",
       "      <td>0.0</td>\n",
       "      <td>11.000000</td>\n",
       "      <td>1.0</td>\n",
       "      <td>8.000000</td>\n",
       "      <td>5.000000</td>\n",
       "      <td>1.0</td>\n",
       "    </tr>\n",
       "  </tbody>\n",
       "</table>\n",
       "</div>"
      ],
      "text/plain": [
       "           Duration   MobilePanel    FixedPanel  purchase_status  \\\n",
       "count  10451.000000  10451.000000  10451.000000          10451.0   \n",
       "mean      50.529588     17.644627      7.077600              0.0   \n",
       "std       68.583592      0.937274      7.411656              0.0   \n",
       "min        0.000000     11.000000      0.000000              0.0   \n",
       "25%        4.580000     18.000000      1.000000              0.0   \n",
       "50%       20.553000     18.000000      3.000000              0.0   \n",
       "75%       71.076500     18.000000     17.000000              0.0   \n",
       "max      442.139000     19.000000     17.000000              0.0   \n",
       "\n",
       "       BAS_huishoudgrootte  GenderID  BAS_bruto_jaarinkomen    AFG_sk2015  \\\n",
       "count         10451.000000   10451.0           10451.000000  10451.000000   \n",
       "mean              2.760962       1.0               5.240198      2.533832   \n",
       "std               1.076865       0.0               1.695855      1.006904   \n",
       "min               1.000000       1.0               1.000000      1.000000   \n",
       "25%               2.000000       1.0               4.492260      2.000000   \n",
       "50%               2.514675       1.0               4.492260      2.853003   \n",
       "75%               3.000000       1.0               6.000000      3.000000   \n",
       "max              11.000000       1.0               8.000000      5.000000   \n",
       "\n",
       "        labels  \n",
       "count  10451.0  \n",
       "mean       1.0  \n",
       "std        0.0  \n",
       "min        1.0  \n",
       "25%        1.0  \n",
       "50%        1.0  \n",
       "75%        1.0  \n",
       "max        1.0  "
      ]
     },
     "execution_count": 122,
     "metadata": {},
     "output_type": "execute_result"
    }
   ],
   "source": [
    "df5[df5['labels']==1].describe()"
   ]
  },
  {
   "cell_type": "code",
   "execution_count": 123,
   "metadata": {},
   "outputs": [
    {
     "data": {
      "text/html": [
       "<div>\n",
       "<style scoped>\n",
       "    .dataframe tbody tr th:only-of-type {\n",
       "        vertical-align: middle;\n",
       "    }\n",
       "\n",
       "    .dataframe tbody tr th {\n",
       "        vertical-align: top;\n",
       "    }\n",
       "\n",
       "    .dataframe thead th {\n",
       "        text-align: right;\n",
       "    }\n",
       "</style>\n",
       "<table border=\"1\" class=\"dataframe\">\n",
       "  <thead>\n",
       "    <tr style=\"text-align: right;\">\n",
       "      <th></th>\n",
       "      <th>Duration</th>\n",
       "      <th>MobilePanel</th>\n",
       "      <th>FixedPanel</th>\n",
       "      <th>purchase_status</th>\n",
       "      <th>BAS_huishoudgrootte</th>\n",
       "      <th>GenderID</th>\n",
       "      <th>BAS_bruto_jaarinkomen</th>\n",
       "      <th>AFG_sk2015</th>\n",
       "      <th>labels</th>\n",
       "    </tr>\n",
       "  </thead>\n",
       "  <tbody>\n",
       "    <tr>\n",
       "      <th>count</th>\n",
       "      <td>5808.000000</td>\n",
       "      <td>5808.000000</td>\n",
       "      <td>5808.000000</td>\n",
       "      <td>5808.0</td>\n",
       "      <td>5808.000000</td>\n",
       "      <td>5808.0</td>\n",
       "      <td>5808.000000</td>\n",
       "      <td>5808.000000</td>\n",
       "      <td>5808.0</td>\n",
       "    </tr>\n",
       "    <tr>\n",
       "      <th>mean</th>\n",
       "      <td>53.885812</td>\n",
       "      <td>17.543561</td>\n",
       "      <td>6.793216</td>\n",
       "      <td>0.0</td>\n",
       "      <td>2.645833</td>\n",
       "      <td>0.0</td>\n",
       "      <td>5.202652</td>\n",
       "      <td>2.200241</td>\n",
       "      <td>2.0</td>\n",
       "    </tr>\n",
       "    <tr>\n",
       "      <th>std</th>\n",
       "      <td>75.908454</td>\n",
       "      <td>1.076622</td>\n",
       "      <td>7.313783</td>\n",
       "      <td>0.0</td>\n",
       "      <td>1.262136</td>\n",
       "      <td>0.0</td>\n",
       "      <td>1.611291</td>\n",
       "      <td>1.074632</td>\n",
       "      <td>0.0</td>\n",
       "    </tr>\n",
       "    <tr>\n",
       "      <th>min</th>\n",
       "      <td>0.000000</td>\n",
       "      <td>11.000000</td>\n",
       "      <td>0.000000</td>\n",
       "      <td>0.0</td>\n",
       "      <td>1.000000</td>\n",
       "      <td>0.0</td>\n",
       "      <td>1.000000</td>\n",
       "      <td>1.000000</td>\n",
       "      <td>2.0</td>\n",
       "    </tr>\n",
       "    <tr>\n",
       "      <th>25%</th>\n",
       "      <td>4.168750</td>\n",
       "      <td>17.000000</td>\n",
       "      <td>1.000000</td>\n",
       "      <td>0.0</td>\n",
       "      <td>2.000000</td>\n",
       "      <td>0.0</td>\n",
       "      <td>4.000000</td>\n",
       "      <td>1.000000</td>\n",
       "      <td>2.0</td>\n",
       "    </tr>\n",
       "    <tr>\n",
       "      <th>50%</th>\n",
       "      <td>19.690000</td>\n",
       "      <td>18.000000</td>\n",
       "      <td>3.000000</td>\n",
       "      <td>0.0</td>\n",
       "      <td>2.000000</td>\n",
       "      <td>0.0</td>\n",
       "      <td>5.000000</td>\n",
       "      <td>2.000000</td>\n",
       "      <td>2.0</td>\n",
       "    </tr>\n",
       "    <tr>\n",
       "      <th>75%</th>\n",
       "      <td>78.000000</td>\n",
       "      <td>18.000000</td>\n",
       "      <td>17.000000</td>\n",
       "      <td>0.0</td>\n",
       "      <td>4.000000</td>\n",
       "      <td>0.0</td>\n",
       "      <td>6.000000</td>\n",
       "      <td>3.000000</td>\n",
       "      <td>2.0</td>\n",
       "    </tr>\n",
       "    <tr>\n",
       "      <th>max</th>\n",
       "      <td>495.333000</td>\n",
       "      <td>19.000000</td>\n",
       "      <td>17.000000</td>\n",
       "      <td>0.0</td>\n",
       "      <td>10.000000</td>\n",
       "      <td>0.0</td>\n",
       "      <td>8.000000</td>\n",
       "      <td>5.000000</td>\n",
       "      <td>2.0</td>\n",
       "    </tr>\n",
       "  </tbody>\n",
       "</table>\n",
       "</div>"
      ],
      "text/plain": [
       "          Duration  MobilePanel   FixedPanel  purchase_status  \\\n",
       "count  5808.000000  5808.000000  5808.000000           5808.0   \n",
       "mean     53.885812    17.543561     6.793216              0.0   \n",
       "std      75.908454     1.076622     7.313783              0.0   \n",
       "min       0.000000    11.000000     0.000000              0.0   \n",
       "25%       4.168750    17.000000     1.000000              0.0   \n",
       "50%      19.690000    18.000000     3.000000              0.0   \n",
       "75%      78.000000    18.000000    17.000000              0.0   \n",
       "max     495.333000    19.000000    17.000000              0.0   \n",
       "\n",
       "       BAS_huishoudgrootte  GenderID  BAS_bruto_jaarinkomen   AFG_sk2015  \\\n",
       "count          5808.000000    5808.0            5808.000000  5808.000000   \n",
       "mean              2.645833       0.0               5.202652     2.200241   \n",
       "std               1.262136       0.0               1.611291     1.074632   \n",
       "min               1.000000       0.0               1.000000     1.000000   \n",
       "25%               2.000000       0.0               4.000000     1.000000   \n",
       "50%               2.000000       0.0               5.000000     2.000000   \n",
       "75%               4.000000       0.0               6.000000     3.000000   \n",
       "max              10.000000       0.0               8.000000     5.000000   \n",
       "\n",
       "       labels  \n",
       "count  5808.0  \n",
       "mean      2.0  \n",
       "std       0.0  \n",
       "min       2.0  \n",
       "25%       2.0  \n",
       "50%       2.0  \n",
       "75%       2.0  \n",
       "max       2.0  "
      ]
     },
     "execution_count": 123,
     "metadata": {},
     "output_type": "execute_result"
    }
   ],
   "source": [
    "df5[df5['labels']==2].describe()"
   ]
  },
  {
   "cell_type": "code",
   "execution_count": 110,
   "metadata": {},
   "outputs": [
    {
     "data": {
      "text/html": [
       "<div>\n",
       "<style scoped>\n",
       "    .dataframe tbody tr th:only-of-type {\n",
       "        vertical-align: middle;\n",
       "    }\n",
       "\n",
       "    .dataframe tbody tr th {\n",
       "        vertical-align: top;\n",
       "    }\n",
       "\n",
       "    .dataframe thead th {\n",
       "        text-align: right;\n",
       "    }\n",
       "</style>\n",
       "<table border=\"1\" class=\"dataframe\">\n",
       "  <thead>\n",
       "    <tr style=\"text-align: right;\">\n",
       "      <th></th>\n",
       "      <th>Duration</th>\n",
       "      <th>MobilePanel</th>\n",
       "      <th>FixedPanel</th>\n",
       "      <th>purchase_status</th>\n",
       "      <th>BAS_huishoudgrootte</th>\n",
       "      <th>GenderID</th>\n",
       "      <th>BAS_bruto_jaarinkomen</th>\n",
       "      <th>AFG_sk2015</th>\n",
       "      <th>labels</th>\n",
       "    </tr>\n",
       "  </thead>\n",
       "  <tbody>\n",
       "    <tr>\n",
       "      <th>count</th>\n",
       "      <td>3127.000000</td>\n",
       "      <td>3127.000000</td>\n",
       "      <td>3127.000000</td>\n",
       "      <td>3127.0</td>\n",
       "      <td>3127.000000</td>\n",
       "      <td>3127.000000</td>\n",
       "      <td>3127.000000</td>\n",
       "      <td>3127.000000</td>\n",
       "      <td>3127.0</td>\n",
       "    </tr>\n",
       "    <tr>\n",
       "      <th>mean</th>\n",
       "      <td>54.494098</td>\n",
       "      <td>17.812600</td>\n",
       "      <td>8.276623</td>\n",
       "      <td>0.0</td>\n",
       "      <td>1.579149</td>\n",
       "      <td>0.993924</td>\n",
       "      <td>2.117685</td>\n",
       "      <td>4.296130</td>\n",
       "      <td>4.0</td>\n",
       "    </tr>\n",
       "    <tr>\n",
       "      <th>std</th>\n",
       "      <td>70.604645</td>\n",
       "      <td>0.542554</td>\n",
       "      <td>7.369025</td>\n",
       "      <td>0.0</td>\n",
       "      <td>0.673547</td>\n",
       "      <td>0.077725</td>\n",
       "      <td>0.895837</td>\n",
       "      <td>0.768831</td>\n",
       "      <td>0.0</td>\n",
       "    </tr>\n",
       "    <tr>\n",
       "      <th>min</th>\n",
       "      <td>0.000000</td>\n",
       "      <td>15.000000</td>\n",
       "      <td>0.000000</td>\n",
       "      <td>0.0</td>\n",
       "      <td>1.000000</td>\n",
       "      <td>0.000000</td>\n",
       "      <td>1.000000</td>\n",
       "      <td>2.000000</td>\n",
       "      <td>4.0</td>\n",
       "    </tr>\n",
       "    <tr>\n",
       "      <th>25%</th>\n",
       "      <td>6.000000</td>\n",
       "      <td>18.000000</td>\n",
       "      <td>3.000000</td>\n",
       "      <td>0.0</td>\n",
       "      <td>1.000000</td>\n",
       "      <td>1.000000</td>\n",
       "      <td>2.000000</td>\n",
       "      <td>4.000000</td>\n",
       "      <td>4.0</td>\n",
       "    </tr>\n",
       "    <tr>\n",
       "      <th>50%</th>\n",
       "      <td>23.690000</td>\n",
       "      <td>18.000000</td>\n",
       "      <td>3.000000</td>\n",
       "      <td>0.0</td>\n",
       "      <td>1.000000</td>\n",
       "      <td>1.000000</td>\n",
       "      <td>2.000000</td>\n",
       "      <td>4.000000</td>\n",
       "      <td>4.0</td>\n",
       "    </tr>\n",
       "    <tr>\n",
       "      <th>75%</th>\n",
       "      <td>79.000000</td>\n",
       "      <td>18.000000</td>\n",
       "      <td>17.000000</td>\n",
       "      <td>0.0</td>\n",
       "      <td>2.000000</td>\n",
       "      <td>1.000000</td>\n",
       "      <td>3.000000</td>\n",
       "      <td>5.000000</td>\n",
       "      <td>4.0</td>\n",
       "    </tr>\n",
       "    <tr>\n",
       "      <th>max</th>\n",
       "      <td>398.136000</td>\n",
       "      <td>19.000000</td>\n",
       "      <td>17.000000</td>\n",
       "      <td>0.0</td>\n",
       "      <td>5.000000</td>\n",
       "      <td>1.000000</td>\n",
       "      <td>5.000000</td>\n",
       "      <td>5.000000</td>\n",
       "      <td>4.0</td>\n",
       "    </tr>\n",
       "  </tbody>\n",
       "</table>\n",
       "</div>"
      ],
      "text/plain": [
       "          Duration  MobilePanel   FixedPanel  purchase_status  \\\n",
       "count  3127.000000  3127.000000  3127.000000           3127.0   \n",
       "mean     54.494098    17.812600     8.276623              0.0   \n",
       "std      70.604645     0.542554     7.369025              0.0   \n",
       "min       0.000000    15.000000     0.000000              0.0   \n",
       "25%       6.000000    18.000000     3.000000              0.0   \n",
       "50%      23.690000    18.000000     3.000000              0.0   \n",
       "75%      79.000000    18.000000    17.000000              0.0   \n",
       "max     398.136000    19.000000    17.000000              0.0   \n",
       "\n",
       "       BAS_huishoudgrootte     GenderID  BAS_bruto_jaarinkomen   AFG_sk2015  \\\n",
       "count          3127.000000  3127.000000            3127.000000  3127.000000   \n",
       "mean              1.579149     0.993924               2.117685     4.296130   \n",
       "std               0.673547     0.077725               0.895837     0.768831   \n",
       "min               1.000000     0.000000               1.000000     2.000000   \n",
       "25%               1.000000     1.000000               2.000000     4.000000   \n",
       "50%               1.000000     1.000000               2.000000     4.000000   \n",
       "75%               2.000000     1.000000               3.000000     5.000000   \n",
       "max               5.000000     1.000000               5.000000     5.000000   \n",
       "\n",
       "       labels  \n",
       "count  3127.0  \n",
       "mean      4.0  \n",
       "std       0.0  \n",
       "min       4.0  \n",
       "25%       4.0  \n",
       "50%       4.0  \n",
       "75%       4.0  \n",
       "max       4.0  "
      ]
     },
     "execution_count": 110,
     "metadata": {},
     "output_type": "execute_result"
    }
   ],
   "source": [
    "df5[df5['labels']==4].describe()"
   ]
  },
  {
   "cell_type": "code",
   "execution_count": null,
   "metadata": {},
   "outputs": [],
   "source": []
  }
 ],
 "metadata": {
  "kernelspec": {
   "display_name": "Python 3",
   "language": "python",
   "name": "python3"
  },
  "language_info": {
   "codemirror_mode": {
    "name": "ipython",
    "version": 3
   },
   "file_extension": ".py",
   "mimetype": "text/x-python",
   "name": "python",
   "nbconvert_exporter": "python",
   "pygments_lexer": "ipython3",
   "version": "3.7.4"
  }
 },
 "nbformat": 4,
 "nbformat_minor": 2
}
